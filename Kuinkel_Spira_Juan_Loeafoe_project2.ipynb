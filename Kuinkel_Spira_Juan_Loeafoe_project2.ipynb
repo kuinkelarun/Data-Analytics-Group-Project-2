{
  "nbformat": 4,
  "nbformat_minor": 0,
  "metadata": {
    "colab": {
      "name": "Kuinkel_Spira_Juan_Loeafoe_project2.ipynb",
      "provenance": [],
      "collapsed_sections": [],
      "include_colab_link": true
    },
    "kernelspec": {
      "name": "python3",
      "display_name": "Python 3"
    },
    "language_info": {
      "name": "python"
    }
  },
  "cells": [
    {
      "cell_type": "markdown",
      "metadata": {
        "id": "view-in-github",
        "colab_type": "text"
      },
      "source": [
        "<a href=\"https://colab.research.google.com/github/kuinkelarun/Data-Analytics-Group-Project-2/blob/main/Kuinkel_Spira_Juan_Loeafoe_project2.ipynb\" target=\"_parent\"><img src=\"https://colab.research.google.com/assets/colab-badge.svg\" alt=\"Open In Colab\"/></a>"
      ]
    },
    {
      "cell_type": "markdown",
      "source": [
        "# **Project 2: Titanic Data Set**\n",
        "Group Members:\n",
        "\n",
        "Arun Kuinkel\n",
        "\n",
        "Avigail Spira\n",
        "\n",
        "Cindy Juan\n",
        "\n",
        "Dean Loeafoe\n",
        "\n",
        "## **Part 1 - Introduction**\n",
        "\n",
        "The RMS Titanic, a luxury steamship, sank in the early hours of April 15, 1912, off the coast of Newfoundland in the North Atlantic after sideswiping an iceberg during its maiden voyage. Of the 2,240 passengers and crew on board, more than 1,500 lost their lives in the disaster. The data set that this report explores conatins information regarding 1311 of those passengers. We will attempt to create a model that accurately predicts the survival of these 1311 passengers. Additionally, we will explore which of the attributes contributed most to each passenger's survival and why.\n",
        "\n",
        "### **Statement of Problem:**\n",
        "Which of the following attributes contributed to the survival of the passengers?\n",
        "## **Part 2 - Data Summary**\n",
        "Below is a list and brief summary of the attributes of the Titanic Data Set:\n",
        "\n",
        "* pclass - Passenger Class (1 = 1st Class; 2 = 2nd Class; 3 = 3rd Class)\n",
        "\n",
        "* survived - Did this passenger survive (0 = No; 1 = Yes)\n",
        "\n",
        "* name - The name of each passenger\n",
        "\n",
        "* sex - The biological sex of each passenger\n",
        "\n",
        "* age - The age of each passenger\n",
        "\n",
        "* sibsp - The number of siblings and spouses this passenger has aboard the ship\n",
        "\n",
        "* parch - The number of parents and children aboard the ship\n",
        "\n",
        "* ticket - Ticket number\n",
        "\n",
        "* fare - The price the passenger paid for their ticket\n",
        "\n",
        "* cabin - The number of the cabin in which the passenger stayed\n",
        "\n",
        "* embarked - Port of Embarkation (C = Cherbourg; Q = Queenstown; S = Southampton)\n",
        "\n",
        "* boat - If the passenger survived, did they make it to a life boat?\n",
        "\n",
        "* body - The id number given to the recovered bodies of the dead passengers"
      ],
      "metadata": {
        "id": "fW4fj0yVdqdJ"
      }
    },
    {
      "cell_type": "markdown",
      "source": [
        "# **Power Point Link**\n",
        "https://cuny-my.sharepoint.com/:p:/g/personal/arun_kuinkel75_qmail_cuny_edu/EXIsC39FO1dJm-savIbKKNUBK5Byu-C7JcpTh7GJi0J9Bw?rtime=59B1ROtY2kg"
      ],
      "metadata": {
        "id": "Dsk80Nm_ttkN"
      }
    },
    {
      "cell_type": "code",
      "execution_count": null,
      "metadata": {
        "colab": {
          "base_uri": "https://localhost:8080/",
          "height": 320
        },
        "id": "5qAbzK3FdpKg",
        "outputId": "a6606be4-1dd9-4d10-d978-93a71f969298"
      },
      "outputs": [
        {
          "output_type": "execute_result",
          "data": {
            "text/plain": [
              "   pclass  survived                                             name     sex  \\\n",
              "0     1.0       1.0                    Allen, Miss. Elisabeth Walton  female   \n",
              "1     1.0       1.0                   Allison, Master. Hudson Trevor    male   \n",
              "2     1.0       0.0                     Allison, Miss. Helen Loraine  female   \n",
              "3     1.0       0.0             Allison, Mr. Hudson Joshua Creighton    male   \n",
              "4     1.0       0.0  Allison, Mrs. Hudson J C (Bessie Waldo Daniels)  female   \n",
              "\n",
              "       age  sibsp  parch  ticket      fare    cabin embarked boat   body  \\\n",
              "0  29.0000    0.0    0.0   24160  211.3375       B5        S    2    NaN   \n",
              "1   0.9167    1.0    2.0  113781  151.5500  C22 C26        S   11    NaN   \n",
              "2   2.0000    1.0    2.0  113781  151.5500  C22 C26        S  NaN    NaN   \n",
              "3  30.0000    1.0    2.0  113781  151.5500  C22 C26        S  NaN  135.0   \n",
              "4  25.0000    1.0    2.0  113781  151.5500  C22 C26        S  NaN    NaN   \n",
              "\n",
              "                         home.dest  \n",
              "0                     St Louis, MO  \n",
              "1  Montreal, PQ / Chesterville, ON  \n",
              "2  Montreal, PQ / Chesterville, ON  \n",
              "3  Montreal, PQ / Chesterville, ON  \n",
              "4  Montreal, PQ / Chesterville, ON  "
            ],
            "text/html": [
              "\n",
              "  <div id=\"df-8f9aad59-e268-4f15-a465-b2d1fee373cc\">\n",
              "    <div class=\"colab-df-container\">\n",
              "      <div>\n",
              "<style scoped>\n",
              "    .dataframe tbody tr th:only-of-type {\n",
              "        vertical-align: middle;\n",
              "    }\n",
              "\n",
              "    .dataframe tbody tr th {\n",
              "        vertical-align: top;\n",
              "    }\n",
              "\n",
              "    .dataframe thead th {\n",
              "        text-align: right;\n",
              "    }\n",
              "</style>\n",
              "<table border=\"1\" class=\"dataframe\">\n",
              "  <thead>\n",
              "    <tr style=\"text-align: right;\">\n",
              "      <th></th>\n",
              "      <th>pclass</th>\n",
              "      <th>survived</th>\n",
              "      <th>name</th>\n",
              "      <th>sex</th>\n",
              "      <th>age</th>\n",
              "      <th>sibsp</th>\n",
              "      <th>parch</th>\n",
              "      <th>ticket</th>\n",
              "      <th>fare</th>\n",
              "      <th>cabin</th>\n",
              "      <th>embarked</th>\n",
              "      <th>boat</th>\n",
              "      <th>body</th>\n",
              "      <th>home.dest</th>\n",
              "    </tr>\n",
              "  </thead>\n",
              "  <tbody>\n",
              "    <tr>\n",
              "      <th>0</th>\n",
              "      <td>1.0</td>\n",
              "      <td>1.0</td>\n",
              "      <td>Allen, Miss. Elisabeth Walton</td>\n",
              "      <td>female</td>\n",
              "      <td>29.0000</td>\n",
              "      <td>0.0</td>\n",
              "      <td>0.0</td>\n",
              "      <td>24160</td>\n",
              "      <td>211.3375</td>\n",
              "      <td>B5</td>\n",
              "      <td>S</td>\n",
              "      <td>2</td>\n",
              "      <td>NaN</td>\n",
              "      <td>St Louis, MO</td>\n",
              "    </tr>\n",
              "    <tr>\n",
              "      <th>1</th>\n",
              "      <td>1.0</td>\n",
              "      <td>1.0</td>\n",
              "      <td>Allison, Master. Hudson Trevor</td>\n",
              "      <td>male</td>\n",
              "      <td>0.9167</td>\n",
              "      <td>1.0</td>\n",
              "      <td>2.0</td>\n",
              "      <td>113781</td>\n",
              "      <td>151.5500</td>\n",
              "      <td>C22 C26</td>\n",
              "      <td>S</td>\n",
              "      <td>11</td>\n",
              "      <td>NaN</td>\n",
              "      <td>Montreal, PQ / Chesterville, ON</td>\n",
              "    </tr>\n",
              "    <tr>\n",
              "      <th>2</th>\n",
              "      <td>1.0</td>\n",
              "      <td>0.0</td>\n",
              "      <td>Allison, Miss. Helen Loraine</td>\n",
              "      <td>female</td>\n",
              "      <td>2.0000</td>\n",
              "      <td>1.0</td>\n",
              "      <td>2.0</td>\n",
              "      <td>113781</td>\n",
              "      <td>151.5500</td>\n",
              "      <td>C22 C26</td>\n",
              "      <td>S</td>\n",
              "      <td>NaN</td>\n",
              "      <td>NaN</td>\n",
              "      <td>Montreal, PQ / Chesterville, ON</td>\n",
              "    </tr>\n",
              "    <tr>\n",
              "      <th>3</th>\n",
              "      <td>1.0</td>\n",
              "      <td>0.0</td>\n",
              "      <td>Allison, Mr. Hudson Joshua Creighton</td>\n",
              "      <td>male</td>\n",
              "      <td>30.0000</td>\n",
              "      <td>1.0</td>\n",
              "      <td>2.0</td>\n",
              "      <td>113781</td>\n",
              "      <td>151.5500</td>\n",
              "      <td>C22 C26</td>\n",
              "      <td>S</td>\n",
              "      <td>NaN</td>\n",
              "      <td>135.0</td>\n",
              "      <td>Montreal, PQ / Chesterville, ON</td>\n",
              "    </tr>\n",
              "    <tr>\n",
              "      <th>4</th>\n",
              "      <td>1.0</td>\n",
              "      <td>0.0</td>\n",
              "      <td>Allison, Mrs. Hudson J C (Bessie Waldo Daniels)</td>\n",
              "      <td>female</td>\n",
              "      <td>25.0000</td>\n",
              "      <td>1.0</td>\n",
              "      <td>2.0</td>\n",
              "      <td>113781</td>\n",
              "      <td>151.5500</td>\n",
              "      <td>C22 C26</td>\n",
              "      <td>S</td>\n",
              "      <td>NaN</td>\n",
              "      <td>NaN</td>\n",
              "      <td>Montreal, PQ / Chesterville, ON</td>\n",
              "    </tr>\n",
              "  </tbody>\n",
              "</table>\n",
              "</div>\n",
              "      <button class=\"colab-df-convert\" onclick=\"convertToInteractive('df-8f9aad59-e268-4f15-a465-b2d1fee373cc')\"\n",
              "              title=\"Convert this dataframe to an interactive table.\"\n",
              "              style=\"display:none;\">\n",
              "        \n",
              "  <svg xmlns=\"http://www.w3.org/2000/svg\" height=\"24px\"viewBox=\"0 0 24 24\"\n",
              "       width=\"24px\">\n",
              "    <path d=\"M0 0h24v24H0V0z\" fill=\"none\"/>\n",
              "    <path d=\"M18.56 5.44l.94 2.06.94-2.06 2.06-.94-2.06-.94-.94-2.06-.94 2.06-2.06.94zm-11 1L8.5 8.5l.94-2.06 2.06-.94-2.06-.94L8.5 2.5l-.94 2.06-2.06.94zm10 10l.94 2.06.94-2.06 2.06-.94-2.06-.94-.94-2.06-.94 2.06-2.06.94z\"/><path d=\"M17.41 7.96l-1.37-1.37c-.4-.4-.92-.59-1.43-.59-.52 0-1.04.2-1.43.59L10.3 9.45l-7.72 7.72c-.78.78-.78 2.05 0 2.83L4 21.41c.39.39.9.59 1.41.59.51 0 1.02-.2 1.41-.59l7.78-7.78 2.81-2.81c.8-.78.8-2.07 0-2.86zM5.41 20L4 18.59l7.72-7.72 1.47 1.35L5.41 20z\"/>\n",
              "  </svg>\n",
              "      </button>\n",
              "      \n",
              "  <style>\n",
              "    .colab-df-container {\n",
              "      display:flex;\n",
              "      flex-wrap:wrap;\n",
              "      gap: 12px;\n",
              "    }\n",
              "\n",
              "    .colab-df-convert {\n",
              "      background-color: #E8F0FE;\n",
              "      border: none;\n",
              "      border-radius: 50%;\n",
              "      cursor: pointer;\n",
              "      display: none;\n",
              "      fill: #1967D2;\n",
              "      height: 32px;\n",
              "      padding: 0 0 0 0;\n",
              "      width: 32px;\n",
              "    }\n",
              "\n",
              "    .colab-df-convert:hover {\n",
              "      background-color: #E2EBFA;\n",
              "      box-shadow: 0px 1px 2px rgba(60, 64, 67, 0.3), 0px 1px 3px 1px rgba(60, 64, 67, 0.15);\n",
              "      fill: #174EA6;\n",
              "    }\n",
              "\n",
              "    [theme=dark] .colab-df-convert {\n",
              "      background-color: #3B4455;\n",
              "      fill: #D2E3FC;\n",
              "    }\n",
              "\n",
              "    [theme=dark] .colab-df-convert:hover {\n",
              "      background-color: #434B5C;\n",
              "      box-shadow: 0px 1px 3px 1px rgba(0, 0, 0, 0.15);\n",
              "      filter: drop-shadow(0px 1px 2px rgba(0, 0, 0, 0.3));\n",
              "      fill: #FFFFFF;\n",
              "    }\n",
              "  </style>\n",
              "\n",
              "      <script>\n",
              "        const buttonEl =\n",
              "          document.querySelector('#df-8f9aad59-e268-4f15-a465-b2d1fee373cc button.colab-df-convert');\n",
              "        buttonEl.style.display =\n",
              "          google.colab.kernel.accessAllowed ? 'block' : 'none';\n",
              "\n",
              "        async function convertToInteractive(key) {\n",
              "          const element = document.querySelector('#df-8f9aad59-e268-4f15-a465-b2d1fee373cc');\n",
              "          const dataTable =\n",
              "            await google.colab.kernel.invokeFunction('convertToInteractive',\n",
              "                                                     [key], {});\n",
              "          if (!dataTable) return;\n",
              "\n",
              "          const docLinkHtml = 'Like what you see? Visit the ' +\n",
              "            '<a target=\"_blank\" href=https://colab.research.google.com/notebooks/data_table.ipynb>data table notebook</a>'\n",
              "            + ' to learn more about interactive tables.';\n",
              "          element.innerHTML = '';\n",
              "          dataTable['output_type'] = 'display_data';\n",
              "          await google.colab.output.renderOutput(dataTable, element);\n",
              "          const docLink = document.createElement('div');\n",
              "          docLink.innerHTML = docLinkHtml;\n",
              "          element.appendChild(docLink);\n",
              "        }\n",
              "      </script>\n",
              "    </div>\n",
              "  </div>\n",
              "  "
            ]
          },
          "metadata": {},
          "execution_count": 1
        }
      ],
      "source": [
        "#Initialize data\n",
        "import numpy as np\n",
        "import pandas as pd\n",
        "import statistics\n",
        "import matplotlib.pyplot as plt\n",
        "import seaborn as sns\n",
        "from sklearn import (model_selection,preprocessing)\n",
        "from patsy import dmatrices\n",
        "from sklearn.linear_model import LogisticRegression\n",
        "from sklearn import metrics\n",
        "from sklearn.model_selection import train_test_split\n",
        "\n",
        "df = pd.read_csv(\"https://raw.githubusercontent.com/Geoyi/Cleaning-Titanic-Data/master/titanic_original.csv\", sep = \",\")\n",
        "df.head()"
      ]
    },
    {
      "cell_type": "code",
      "source": [
        "#The name of each passenger will likely not be a major determining factor in their survival.\n",
        "#Additionally, the name attribute will create an individual category for each uniquely named passenger. This is messy.\n",
        "#In order to avoid these complications, the name column will be dropped.\n",
        "\n",
        "del df['name'] #Deleted unnecessary column that held a row count\n",
        "df.head() #Confirm column was dropped"
      ],
      "metadata": {
        "colab": {
          "base_uri": "https://localhost:8080/",
          "height": 206
        },
        "id": "6HurDqOQgZzR",
        "outputId": "c3b18ee2-421a-4fd0-fe38-bda76e3c1d0a"
      },
      "execution_count": null,
      "outputs": [
        {
          "output_type": "execute_result",
          "data": {
            "text/plain": [
              "   pclass  survived     sex      age  sibsp  parch  ticket      fare    cabin  \\\n",
              "0     1.0       1.0  female  29.0000    0.0    0.0   24160  211.3375       B5   \n",
              "1     1.0       1.0    male   0.9167    1.0    2.0  113781  151.5500  C22 C26   \n",
              "2     1.0       0.0  female   2.0000    1.0    2.0  113781  151.5500  C22 C26   \n",
              "3     1.0       0.0    male  30.0000    1.0    2.0  113781  151.5500  C22 C26   \n",
              "4     1.0       0.0  female  25.0000    1.0    2.0  113781  151.5500  C22 C26   \n",
              "\n",
              "  embarked boat   body                        home.dest  \n",
              "0        S    2    NaN                     St Louis, MO  \n",
              "1        S   11    NaN  Montreal, PQ / Chesterville, ON  \n",
              "2        S  NaN    NaN  Montreal, PQ / Chesterville, ON  \n",
              "3        S  NaN  135.0  Montreal, PQ / Chesterville, ON  \n",
              "4        S  NaN    NaN  Montreal, PQ / Chesterville, ON  "
            ],
            "text/html": [
              "\n",
              "  <div id=\"df-3f7ffb21-45f1-4942-9149-b14c8a77dcf2\">\n",
              "    <div class=\"colab-df-container\">\n",
              "      <div>\n",
              "<style scoped>\n",
              "    .dataframe tbody tr th:only-of-type {\n",
              "        vertical-align: middle;\n",
              "    }\n",
              "\n",
              "    .dataframe tbody tr th {\n",
              "        vertical-align: top;\n",
              "    }\n",
              "\n",
              "    .dataframe thead th {\n",
              "        text-align: right;\n",
              "    }\n",
              "</style>\n",
              "<table border=\"1\" class=\"dataframe\">\n",
              "  <thead>\n",
              "    <tr style=\"text-align: right;\">\n",
              "      <th></th>\n",
              "      <th>pclass</th>\n",
              "      <th>survived</th>\n",
              "      <th>sex</th>\n",
              "      <th>age</th>\n",
              "      <th>sibsp</th>\n",
              "      <th>parch</th>\n",
              "      <th>ticket</th>\n",
              "      <th>fare</th>\n",
              "      <th>cabin</th>\n",
              "      <th>embarked</th>\n",
              "      <th>boat</th>\n",
              "      <th>body</th>\n",
              "      <th>home.dest</th>\n",
              "    </tr>\n",
              "  </thead>\n",
              "  <tbody>\n",
              "    <tr>\n",
              "      <th>0</th>\n",
              "      <td>1.0</td>\n",
              "      <td>1.0</td>\n",
              "      <td>female</td>\n",
              "      <td>29.0000</td>\n",
              "      <td>0.0</td>\n",
              "      <td>0.0</td>\n",
              "      <td>24160</td>\n",
              "      <td>211.3375</td>\n",
              "      <td>B5</td>\n",
              "      <td>S</td>\n",
              "      <td>2</td>\n",
              "      <td>NaN</td>\n",
              "      <td>St Louis, MO</td>\n",
              "    </tr>\n",
              "    <tr>\n",
              "      <th>1</th>\n",
              "      <td>1.0</td>\n",
              "      <td>1.0</td>\n",
              "      <td>male</td>\n",
              "      <td>0.9167</td>\n",
              "      <td>1.0</td>\n",
              "      <td>2.0</td>\n",
              "      <td>113781</td>\n",
              "      <td>151.5500</td>\n",
              "      <td>C22 C26</td>\n",
              "      <td>S</td>\n",
              "      <td>11</td>\n",
              "      <td>NaN</td>\n",
              "      <td>Montreal, PQ / Chesterville, ON</td>\n",
              "    </tr>\n",
              "    <tr>\n",
              "      <th>2</th>\n",
              "      <td>1.0</td>\n",
              "      <td>0.0</td>\n",
              "      <td>female</td>\n",
              "      <td>2.0000</td>\n",
              "      <td>1.0</td>\n",
              "      <td>2.0</td>\n",
              "      <td>113781</td>\n",
              "      <td>151.5500</td>\n",
              "      <td>C22 C26</td>\n",
              "      <td>S</td>\n",
              "      <td>NaN</td>\n",
              "      <td>NaN</td>\n",
              "      <td>Montreal, PQ / Chesterville, ON</td>\n",
              "    </tr>\n",
              "    <tr>\n",
              "      <th>3</th>\n",
              "      <td>1.0</td>\n",
              "      <td>0.0</td>\n",
              "      <td>male</td>\n",
              "      <td>30.0000</td>\n",
              "      <td>1.0</td>\n",
              "      <td>2.0</td>\n",
              "      <td>113781</td>\n",
              "      <td>151.5500</td>\n",
              "      <td>C22 C26</td>\n",
              "      <td>S</td>\n",
              "      <td>NaN</td>\n",
              "      <td>135.0</td>\n",
              "      <td>Montreal, PQ / Chesterville, ON</td>\n",
              "    </tr>\n",
              "    <tr>\n",
              "      <th>4</th>\n",
              "      <td>1.0</td>\n",
              "      <td>0.0</td>\n",
              "      <td>female</td>\n",
              "      <td>25.0000</td>\n",
              "      <td>1.0</td>\n",
              "      <td>2.0</td>\n",
              "      <td>113781</td>\n",
              "      <td>151.5500</td>\n",
              "      <td>C22 C26</td>\n",
              "      <td>S</td>\n",
              "      <td>NaN</td>\n",
              "      <td>NaN</td>\n",
              "      <td>Montreal, PQ / Chesterville, ON</td>\n",
              "    </tr>\n",
              "  </tbody>\n",
              "</table>\n",
              "</div>\n",
              "      <button class=\"colab-df-convert\" onclick=\"convertToInteractive('df-3f7ffb21-45f1-4942-9149-b14c8a77dcf2')\"\n",
              "              title=\"Convert this dataframe to an interactive table.\"\n",
              "              style=\"display:none;\">\n",
              "        \n",
              "  <svg xmlns=\"http://www.w3.org/2000/svg\" height=\"24px\"viewBox=\"0 0 24 24\"\n",
              "       width=\"24px\">\n",
              "    <path d=\"M0 0h24v24H0V0z\" fill=\"none\"/>\n",
              "    <path d=\"M18.56 5.44l.94 2.06.94-2.06 2.06-.94-2.06-.94-.94-2.06-.94 2.06-2.06.94zm-11 1L8.5 8.5l.94-2.06 2.06-.94-2.06-.94L8.5 2.5l-.94 2.06-2.06.94zm10 10l.94 2.06.94-2.06 2.06-.94-2.06-.94-.94-2.06-.94 2.06-2.06.94z\"/><path d=\"M17.41 7.96l-1.37-1.37c-.4-.4-.92-.59-1.43-.59-.52 0-1.04.2-1.43.59L10.3 9.45l-7.72 7.72c-.78.78-.78 2.05 0 2.83L4 21.41c.39.39.9.59 1.41.59.51 0 1.02-.2 1.41-.59l7.78-7.78 2.81-2.81c.8-.78.8-2.07 0-2.86zM5.41 20L4 18.59l7.72-7.72 1.47 1.35L5.41 20z\"/>\n",
              "  </svg>\n",
              "      </button>\n",
              "      \n",
              "  <style>\n",
              "    .colab-df-container {\n",
              "      display:flex;\n",
              "      flex-wrap:wrap;\n",
              "      gap: 12px;\n",
              "    }\n",
              "\n",
              "    .colab-df-convert {\n",
              "      background-color: #E8F0FE;\n",
              "      border: none;\n",
              "      border-radius: 50%;\n",
              "      cursor: pointer;\n",
              "      display: none;\n",
              "      fill: #1967D2;\n",
              "      height: 32px;\n",
              "      padding: 0 0 0 0;\n",
              "      width: 32px;\n",
              "    }\n",
              "\n",
              "    .colab-df-convert:hover {\n",
              "      background-color: #E2EBFA;\n",
              "      box-shadow: 0px 1px 2px rgba(60, 64, 67, 0.3), 0px 1px 3px 1px rgba(60, 64, 67, 0.15);\n",
              "      fill: #174EA6;\n",
              "    }\n",
              "\n",
              "    [theme=dark] .colab-df-convert {\n",
              "      background-color: #3B4455;\n",
              "      fill: #D2E3FC;\n",
              "    }\n",
              "\n",
              "    [theme=dark] .colab-df-convert:hover {\n",
              "      background-color: #434B5C;\n",
              "      box-shadow: 0px 1px 3px 1px rgba(0, 0, 0, 0.15);\n",
              "      filter: drop-shadow(0px 1px 2px rgba(0, 0, 0, 0.3));\n",
              "      fill: #FFFFFF;\n",
              "    }\n",
              "  </style>\n",
              "\n",
              "      <script>\n",
              "        const buttonEl =\n",
              "          document.querySelector('#df-3f7ffb21-45f1-4942-9149-b14c8a77dcf2 button.colab-df-convert');\n",
              "        buttonEl.style.display =\n",
              "          google.colab.kernel.accessAllowed ? 'block' : 'none';\n",
              "\n",
              "        async function convertToInteractive(key) {\n",
              "          const element = document.querySelector('#df-3f7ffb21-45f1-4942-9149-b14c8a77dcf2');\n",
              "          const dataTable =\n",
              "            await google.colab.kernel.invokeFunction('convertToInteractive',\n",
              "                                                     [key], {});\n",
              "          if (!dataTable) return;\n",
              "\n",
              "          const docLinkHtml = 'Like what you see? Visit the ' +\n",
              "            '<a target=\"_blank\" href=https://colab.research.google.com/notebooks/data_table.ipynb>data table notebook</a>'\n",
              "            + ' to learn more about interactive tables.';\n",
              "          element.innerHTML = '';\n",
              "          dataTable['output_type'] = 'display_data';\n",
              "          await google.colab.output.renderOutput(dataTable, element);\n",
              "          const docLink = document.createElement('div');\n",
              "          docLink.innerHTML = docLinkHtml;\n",
              "          element.appendChild(docLink);\n",
              "        }\n",
              "      </script>\n",
              "    </div>\n",
              "  </div>\n",
              "  "
            ]
          },
          "metadata": {},
          "execution_count": 32
        }
      ]
    },
    {
      "cell_type": "code",
      "source": [
        "df.tail() #Confirming the remaining 1310 rows are in the dataframe"
      ],
      "metadata": {
        "colab": {
          "base_uri": "https://localhost:8080/",
          "height": 206
        },
        "id": "XkE5urlUhJuI",
        "outputId": "04efea6c-0f3d-4107-bea5-2152d1f4ed79"
      },
      "execution_count": null,
      "outputs": [
        {
          "output_type": "execute_result",
          "data": {
            "text/plain": [
              "      pclass  survived     sex   age  sibsp  parch  ticket     fare cabin  \\\n",
              "1305     3.0       0.0  female   NaN    1.0    0.0    2665  14.4542   NaN   \n",
              "1306     3.0       0.0    male  26.5    0.0    0.0    2656   7.2250   NaN   \n",
              "1307     3.0       0.0    male  27.0    0.0    0.0    2670   7.2250   NaN   \n",
              "1308     3.0       0.0    male  29.0    0.0    0.0  315082   7.8750   NaN   \n",
              "1309     NaN       NaN     NaN   NaN    NaN    NaN     NaN      NaN   NaN   \n",
              "\n",
              "     embarked boat   body home.dest  \n",
              "1305        C  NaN    NaN       NaN  \n",
              "1306        C  NaN  304.0       NaN  \n",
              "1307        C  NaN    NaN       NaN  \n",
              "1308        S  NaN    NaN       NaN  \n",
              "1309      NaN  NaN    NaN       NaN  "
            ],
            "text/html": [
              "\n",
              "  <div id=\"df-100e4b29-1a67-41fa-891a-c910093ffe57\">\n",
              "    <div class=\"colab-df-container\">\n",
              "      <div>\n",
              "<style scoped>\n",
              "    .dataframe tbody tr th:only-of-type {\n",
              "        vertical-align: middle;\n",
              "    }\n",
              "\n",
              "    .dataframe tbody tr th {\n",
              "        vertical-align: top;\n",
              "    }\n",
              "\n",
              "    .dataframe thead th {\n",
              "        text-align: right;\n",
              "    }\n",
              "</style>\n",
              "<table border=\"1\" class=\"dataframe\">\n",
              "  <thead>\n",
              "    <tr style=\"text-align: right;\">\n",
              "      <th></th>\n",
              "      <th>pclass</th>\n",
              "      <th>survived</th>\n",
              "      <th>sex</th>\n",
              "      <th>age</th>\n",
              "      <th>sibsp</th>\n",
              "      <th>parch</th>\n",
              "      <th>ticket</th>\n",
              "      <th>fare</th>\n",
              "      <th>cabin</th>\n",
              "      <th>embarked</th>\n",
              "      <th>boat</th>\n",
              "      <th>body</th>\n",
              "      <th>home.dest</th>\n",
              "    </tr>\n",
              "  </thead>\n",
              "  <tbody>\n",
              "    <tr>\n",
              "      <th>1305</th>\n",
              "      <td>3.0</td>\n",
              "      <td>0.0</td>\n",
              "      <td>female</td>\n",
              "      <td>NaN</td>\n",
              "      <td>1.0</td>\n",
              "      <td>0.0</td>\n",
              "      <td>2665</td>\n",
              "      <td>14.4542</td>\n",
              "      <td>NaN</td>\n",
              "      <td>C</td>\n",
              "      <td>NaN</td>\n",
              "      <td>NaN</td>\n",
              "      <td>NaN</td>\n",
              "    </tr>\n",
              "    <tr>\n",
              "      <th>1306</th>\n",
              "      <td>3.0</td>\n",
              "      <td>0.0</td>\n",
              "      <td>male</td>\n",
              "      <td>26.5</td>\n",
              "      <td>0.0</td>\n",
              "      <td>0.0</td>\n",
              "      <td>2656</td>\n",
              "      <td>7.2250</td>\n",
              "      <td>NaN</td>\n",
              "      <td>C</td>\n",
              "      <td>NaN</td>\n",
              "      <td>304.0</td>\n",
              "      <td>NaN</td>\n",
              "    </tr>\n",
              "    <tr>\n",
              "      <th>1307</th>\n",
              "      <td>3.0</td>\n",
              "      <td>0.0</td>\n",
              "      <td>male</td>\n",
              "      <td>27.0</td>\n",
              "      <td>0.0</td>\n",
              "      <td>0.0</td>\n",
              "      <td>2670</td>\n",
              "      <td>7.2250</td>\n",
              "      <td>NaN</td>\n",
              "      <td>C</td>\n",
              "      <td>NaN</td>\n",
              "      <td>NaN</td>\n",
              "      <td>NaN</td>\n",
              "    </tr>\n",
              "    <tr>\n",
              "      <th>1308</th>\n",
              "      <td>3.0</td>\n",
              "      <td>0.0</td>\n",
              "      <td>male</td>\n",
              "      <td>29.0</td>\n",
              "      <td>0.0</td>\n",
              "      <td>0.0</td>\n",
              "      <td>315082</td>\n",
              "      <td>7.8750</td>\n",
              "      <td>NaN</td>\n",
              "      <td>S</td>\n",
              "      <td>NaN</td>\n",
              "      <td>NaN</td>\n",
              "      <td>NaN</td>\n",
              "    </tr>\n",
              "    <tr>\n",
              "      <th>1309</th>\n",
              "      <td>NaN</td>\n",
              "      <td>NaN</td>\n",
              "      <td>NaN</td>\n",
              "      <td>NaN</td>\n",
              "      <td>NaN</td>\n",
              "      <td>NaN</td>\n",
              "      <td>NaN</td>\n",
              "      <td>NaN</td>\n",
              "      <td>NaN</td>\n",
              "      <td>NaN</td>\n",
              "      <td>NaN</td>\n",
              "      <td>NaN</td>\n",
              "      <td>NaN</td>\n",
              "    </tr>\n",
              "  </tbody>\n",
              "</table>\n",
              "</div>\n",
              "      <button class=\"colab-df-convert\" onclick=\"convertToInteractive('df-100e4b29-1a67-41fa-891a-c910093ffe57')\"\n",
              "              title=\"Convert this dataframe to an interactive table.\"\n",
              "              style=\"display:none;\">\n",
              "        \n",
              "  <svg xmlns=\"http://www.w3.org/2000/svg\" height=\"24px\"viewBox=\"0 0 24 24\"\n",
              "       width=\"24px\">\n",
              "    <path d=\"M0 0h24v24H0V0z\" fill=\"none\"/>\n",
              "    <path d=\"M18.56 5.44l.94 2.06.94-2.06 2.06-.94-2.06-.94-.94-2.06-.94 2.06-2.06.94zm-11 1L8.5 8.5l.94-2.06 2.06-.94-2.06-.94L8.5 2.5l-.94 2.06-2.06.94zm10 10l.94 2.06.94-2.06 2.06-.94-2.06-.94-.94-2.06-.94 2.06-2.06.94z\"/><path d=\"M17.41 7.96l-1.37-1.37c-.4-.4-.92-.59-1.43-.59-.52 0-1.04.2-1.43.59L10.3 9.45l-7.72 7.72c-.78.78-.78 2.05 0 2.83L4 21.41c.39.39.9.59 1.41.59.51 0 1.02-.2 1.41-.59l7.78-7.78 2.81-2.81c.8-.78.8-2.07 0-2.86zM5.41 20L4 18.59l7.72-7.72 1.47 1.35L5.41 20z\"/>\n",
              "  </svg>\n",
              "      </button>\n",
              "      \n",
              "  <style>\n",
              "    .colab-df-container {\n",
              "      display:flex;\n",
              "      flex-wrap:wrap;\n",
              "      gap: 12px;\n",
              "    }\n",
              "\n",
              "    .colab-df-convert {\n",
              "      background-color: #E8F0FE;\n",
              "      border: none;\n",
              "      border-radius: 50%;\n",
              "      cursor: pointer;\n",
              "      display: none;\n",
              "      fill: #1967D2;\n",
              "      height: 32px;\n",
              "      padding: 0 0 0 0;\n",
              "      width: 32px;\n",
              "    }\n",
              "\n",
              "    .colab-df-convert:hover {\n",
              "      background-color: #E2EBFA;\n",
              "      box-shadow: 0px 1px 2px rgba(60, 64, 67, 0.3), 0px 1px 3px 1px rgba(60, 64, 67, 0.15);\n",
              "      fill: #174EA6;\n",
              "    }\n",
              "\n",
              "    [theme=dark] .colab-df-convert {\n",
              "      background-color: #3B4455;\n",
              "      fill: #D2E3FC;\n",
              "    }\n",
              "\n",
              "    [theme=dark] .colab-df-convert:hover {\n",
              "      background-color: #434B5C;\n",
              "      box-shadow: 0px 1px 3px 1px rgba(0, 0, 0, 0.15);\n",
              "      filter: drop-shadow(0px 1px 2px rgba(0, 0, 0, 0.3));\n",
              "      fill: #FFFFFF;\n",
              "    }\n",
              "  </style>\n",
              "\n",
              "      <script>\n",
              "        const buttonEl =\n",
              "          document.querySelector('#df-100e4b29-1a67-41fa-891a-c910093ffe57 button.colab-df-convert');\n",
              "        buttonEl.style.display =\n",
              "          google.colab.kernel.accessAllowed ? 'block' : 'none';\n",
              "\n",
              "        async function convertToInteractive(key) {\n",
              "          const element = document.querySelector('#df-100e4b29-1a67-41fa-891a-c910093ffe57');\n",
              "          const dataTable =\n",
              "            await google.colab.kernel.invokeFunction('convertToInteractive',\n",
              "                                                     [key], {});\n",
              "          if (!dataTable) return;\n",
              "\n",
              "          const docLinkHtml = 'Like what you see? Visit the ' +\n",
              "            '<a target=\"_blank\" href=https://colab.research.google.com/notebooks/data_table.ipynb>data table notebook</a>'\n",
              "            + ' to learn more about interactive tables.';\n",
              "          element.innerHTML = '';\n",
              "          dataTable['output_type'] = 'display_data';\n",
              "          await google.colab.output.renderOutput(dataTable, element);\n",
              "          const docLink = document.createElement('div');\n",
              "          docLink.innerHTML = docLinkHtml;\n",
              "          element.appendChild(docLink);\n",
              "        }\n",
              "      </script>\n",
              "    </div>\n",
              "  </div>\n",
              "  "
            ]
          },
          "metadata": {},
          "execution_count": 33
        }
      ]
    },
    {
      "cell_type": "code",
      "source": [
        "#A look at the statistics of the attributes before any alterations are made\n",
        "df.describe() "
      ],
      "metadata": {
        "colab": {
          "base_uri": "https://localhost:8080/",
          "height": 300
        },
        "id": "pBb3G_bdmG_v",
        "outputId": "c7e83926-7bfa-4c9a-a4bf-98c2ff9ead80"
      },
      "execution_count": null,
      "outputs": [
        {
          "output_type": "execute_result",
          "data": {
            "text/plain": [
              "            pclass     survived          age        sibsp        parch  \\\n",
              "count  1309.000000  1309.000000  1046.000000  1309.000000  1309.000000   \n",
              "mean      2.294882     0.381971    29.881135     0.498854     0.385027   \n",
              "std       0.837836     0.486055    14.413500     1.041658     0.865560   \n",
              "min       1.000000     0.000000     0.166700     0.000000     0.000000   \n",
              "25%       2.000000     0.000000    21.000000     0.000000     0.000000   \n",
              "50%       3.000000     0.000000    28.000000     0.000000     0.000000   \n",
              "75%       3.000000     1.000000    39.000000     1.000000     0.000000   \n",
              "max       3.000000     1.000000    80.000000     8.000000     9.000000   \n",
              "\n",
              "              fare        body  \n",
              "count  1308.000000  121.000000  \n",
              "mean     33.295479  160.809917  \n",
              "std      51.758668   97.696922  \n",
              "min       0.000000    1.000000  \n",
              "25%       7.895800   72.000000  \n",
              "50%      14.454200  155.000000  \n",
              "75%      31.275000  256.000000  \n",
              "max     512.329200  328.000000  "
            ],
            "text/html": [
              "\n",
              "  <div id=\"df-3f0fe103-783f-4752-bcd5-e5b9fd6ce4f3\">\n",
              "    <div class=\"colab-df-container\">\n",
              "      <div>\n",
              "<style scoped>\n",
              "    .dataframe tbody tr th:only-of-type {\n",
              "        vertical-align: middle;\n",
              "    }\n",
              "\n",
              "    .dataframe tbody tr th {\n",
              "        vertical-align: top;\n",
              "    }\n",
              "\n",
              "    .dataframe thead th {\n",
              "        text-align: right;\n",
              "    }\n",
              "</style>\n",
              "<table border=\"1\" class=\"dataframe\">\n",
              "  <thead>\n",
              "    <tr style=\"text-align: right;\">\n",
              "      <th></th>\n",
              "      <th>pclass</th>\n",
              "      <th>survived</th>\n",
              "      <th>age</th>\n",
              "      <th>sibsp</th>\n",
              "      <th>parch</th>\n",
              "      <th>fare</th>\n",
              "      <th>body</th>\n",
              "    </tr>\n",
              "  </thead>\n",
              "  <tbody>\n",
              "    <tr>\n",
              "      <th>count</th>\n",
              "      <td>1309.000000</td>\n",
              "      <td>1309.000000</td>\n",
              "      <td>1046.000000</td>\n",
              "      <td>1309.000000</td>\n",
              "      <td>1309.000000</td>\n",
              "      <td>1308.000000</td>\n",
              "      <td>121.000000</td>\n",
              "    </tr>\n",
              "    <tr>\n",
              "      <th>mean</th>\n",
              "      <td>2.294882</td>\n",
              "      <td>0.381971</td>\n",
              "      <td>29.881135</td>\n",
              "      <td>0.498854</td>\n",
              "      <td>0.385027</td>\n",
              "      <td>33.295479</td>\n",
              "      <td>160.809917</td>\n",
              "    </tr>\n",
              "    <tr>\n",
              "      <th>std</th>\n",
              "      <td>0.837836</td>\n",
              "      <td>0.486055</td>\n",
              "      <td>14.413500</td>\n",
              "      <td>1.041658</td>\n",
              "      <td>0.865560</td>\n",
              "      <td>51.758668</td>\n",
              "      <td>97.696922</td>\n",
              "    </tr>\n",
              "    <tr>\n",
              "      <th>min</th>\n",
              "      <td>1.000000</td>\n",
              "      <td>0.000000</td>\n",
              "      <td>0.166700</td>\n",
              "      <td>0.000000</td>\n",
              "      <td>0.000000</td>\n",
              "      <td>0.000000</td>\n",
              "      <td>1.000000</td>\n",
              "    </tr>\n",
              "    <tr>\n",
              "      <th>25%</th>\n",
              "      <td>2.000000</td>\n",
              "      <td>0.000000</td>\n",
              "      <td>21.000000</td>\n",
              "      <td>0.000000</td>\n",
              "      <td>0.000000</td>\n",
              "      <td>7.895800</td>\n",
              "      <td>72.000000</td>\n",
              "    </tr>\n",
              "    <tr>\n",
              "      <th>50%</th>\n",
              "      <td>3.000000</td>\n",
              "      <td>0.000000</td>\n",
              "      <td>28.000000</td>\n",
              "      <td>0.000000</td>\n",
              "      <td>0.000000</td>\n",
              "      <td>14.454200</td>\n",
              "      <td>155.000000</td>\n",
              "    </tr>\n",
              "    <tr>\n",
              "      <th>75%</th>\n",
              "      <td>3.000000</td>\n",
              "      <td>1.000000</td>\n",
              "      <td>39.000000</td>\n",
              "      <td>1.000000</td>\n",
              "      <td>0.000000</td>\n",
              "      <td>31.275000</td>\n",
              "      <td>256.000000</td>\n",
              "    </tr>\n",
              "    <tr>\n",
              "      <th>max</th>\n",
              "      <td>3.000000</td>\n",
              "      <td>1.000000</td>\n",
              "      <td>80.000000</td>\n",
              "      <td>8.000000</td>\n",
              "      <td>9.000000</td>\n",
              "      <td>512.329200</td>\n",
              "      <td>328.000000</td>\n",
              "    </tr>\n",
              "  </tbody>\n",
              "</table>\n",
              "</div>\n",
              "      <button class=\"colab-df-convert\" onclick=\"convertToInteractive('df-3f0fe103-783f-4752-bcd5-e5b9fd6ce4f3')\"\n",
              "              title=\"Convert this dataframe to an interactive table.\"\n",
              "              style=\"display:none;\">\n",
              "        \n",
              "  <svg xmlns=\"http://www.w3.org/2000/svg\" height=\"24px\"viewBox=\"0 0 24 24\"\n",
              "       width=\"24px\">\n",
              "    <path d=\"M0 0h24v24H0V0z\" fill=\"none\"/>\n",
              "    <path d=\"M18.56 5.44l.94 2.06.94-2.06 2.06-.94-2.06-.94-.94-2.06-.94 2.06-2.06.94zm-11 1L8.5 8.5l.94-2.06 2.06-.94-2.06-.94L8.5 2.5l-.94 2.06-2.06.94zm10 10l.94 2.06.94-2.06 2.06-.94-2.06-.94-.94-2.06-.94 2.06-2.06.94z\"/><path d=\"M17.41 7.96l-1.37-1.37c-.4-.4-.92-.59-1.43-.59-.52 0-1.04.2-1.43.59L10.3 9.45l-7.72 7.72c-.78.78-.78 2.05 0 2.83L4 21.41c.39.39.9.59 1.41.59.51 0 1.02-.2 1.41-.59l7.78-7.78 2.81-2.81c.8-.78.8-2.07 0-2.86zM5.41 20L4 18.59l7.72-7.72 1.47 1.35L5.41 20z\"/>\n",
              "  </svg>\n",
              "      </button>\n",
              "      \n",
              "  <style>\n",
              "    .colab-df-container {\n",
              "      display:flex;\n",
              "      flex-wrap:wrap;\n",
              "      gap: 12px;\n",
              "    }\n",
              "\n",
              "    .colab-df-convert {\n",
              "      background-color: #E8F0FE;\n",
              "      border: none;\n",
              "      border-radius: 50%;\n",
              "      cursor: pointer;\n",
              "      display: none;\n",
              "      fill: #1967D2;\n",
              "      height: 32px;\n",
              "      padding: 0 0 0 0;\n",
              "      width: 32px;\n",
              "    }\n",
              "\n",
              "    .colab-df-convert:hover {\n",
              "      background-color: #E2EBFA;\n",
              "      box-shadow: 0px 1px 2px rgba(60, 64, 67, 0.3), 0px 1px 3px 1px rgba(60, 64, 67, 0.15);\n",
              "      fill: #174EA6;\n",
              "    }\n",
              "\n",
              "    [theme=dark] .colab-df-convert {\n",
              "      background-color: #3B4455;\n",
              "      fill: #D2E3FC;\n",
              "    }\n",
              "\n",
              "    [theme=dark] .colab-df-convert:hover {\n",
              "      background-color: #434B5C;\n",
              "      box-shadow: 0px 1px 3px 1px rgba(0, 0, 0, 0.15);\n",
              "      filter: drop-shadow(0px 1px 2px rgba(0, 0, 0, 0.3));\n",
              "      fill: #FFFFFF;\n",
              "    }\n",
              "  </style>\n",
              "\n",
              "      <script>\n",
              "        const buttonEl =\n",
              "          document.querySelector('#df-3f0fe103-783f-4752-bcd5-e5b9fd6ce4f3 button.colab-df-convert');\n",
              "        buttonEl.style.display =\n",
              "          google.colab.kernel.accessAllowed ? 'block' : 'none';\n",
              "\n",
              "        async function convertToInteractive(key) {\n",
              "          const element = document.querySelector('#df-3f0fe103-783f-4752-bcd5-e5b9fd6ce4f3');\n",
              "          const dataTable =\n",
              "            await google.colab.kernel.invokeFunction('convertToInteractive',\n",
              "                                                     [key], {});\n",
              "          if (!dataTable) return;\n",
              "\n",
              "          const docLinkHtml = 'Like what you see? Visit the ' +\n",
              "            '<a target=\"_blank\" href=https://colab.research.google.com/notebooks/data_table.ipynb>data table notebook</a>'\n",
              "            + ' to learn more about interactive tables.';\n",
              "          element.innerHTML = '';\n",
              "          dataTable['output_type'] = 'display_data';\n",
              "          await google.colab.output.renderOutput(dataTable, element);\n",
              "          const docLink = document.createElement('div');\n",
              "          docLink.innerHTML = docLinkHtml;\n",
              "          element.appendChild(docLink);\n",
              "        }\n",
              "      </script>\n",
              "    </div>\n",
              "  </div>\n",
              "  "
            ]
          },
          "metadata": {},
          "execution_count": 2
        }
      ]
    },
    {
      "cell_type": "markdown",
      "source": [
        "## **Part 3: Data preparation**\n",
        "In this section, we will search for and handle any values that are unexpected or do not provide information to the data set."
      ],
      "metadata": {
        "id": "8hmrjuUbmb3n"
      }
    },
    {
      "cell_type": "code",
      "source": [
        "#check how many values are null in each column\n",
        "df.isnull().sum()"
      ],
      "metadata": {
        "colab": {
          "base_uri": "https://localhost:8080/"
        },
        "id": "ETfB32v4oN8S",
        "outputId": "bb9b99e1-e084-4d71-94a9-1f90639be8e1"
      },
      "execution_count": null,
      "outputs": [
        {
          "output_type": "execute_result",
          "data": {
            "text/plain": [
              "pclass          1\n",
              "survived        1\n",
              "sex             1\n",
              "age           264\n",
              "sibsp           1\n",
              "parch           1\n",
              "ticket          1\n",
              "fare            2\n",
              "cabin        1015\n",
              "embarked        3\n",
              "boat          824\n",
              "body         1189\n",
              "home.dest     565\n",
              "dtype: int64"
            ]
          },
          "metadata": {},
          "execution_count": 35
        }
      ]
    },
    {
      "cell_type": "code",
      "source": [
        "#The cabin, boat, body and home.dest attributes have too many null values to handle properly.\n",
        "#These columns will be dropped to prevent the model from being swayed by potentially erroneous data.\n",
        "#Since the age attribute has a relatively small amount of Null values, they will be replaced with the mean\n",
        "df['age'].fillna(value=df['age'].mean(), inplace=True)\n",
        "del df['cabin'] \n",
        "del df['boat'] \n",
        "del df['body'] \n",
        "del df['home.dest'] "
      ],
      "metadata": {
        "id": "Q7Odco-loqPa"
      },
      "execution_count": null,
      "outputs": []
    },
    {
      "cell_type": "code",
      "source": [
        "#These columns have a small number of null values. They will be dropped with the understanding they will have a minor effect on the data.\n",
        "df.isnull().sum()"
      ],
      "metadata": {
        "colab": {
          "base_uri": "https://localhost:8080/"
        },
        "id": "T7k6wcS4qEip",
        "outputId": "ebe08ed9-180b-430c-eefc-836d57ee2387"
      },
      "execution_count": null,
      "outputs": [
        {
          "output_type": "execute_result",
          "data": {
            "text/plain": [
              "pclass      1\n",
              "survived    1\n",
              "sex         1\n",
              "age         0\n",
              "sibsp       1\n",
              "parch       1\n",
              "ticket      1\n",
              "fare        2\n",
              "embarked    3\n",
              "dtype: int64"
            ]
          },
          "metadata": {},
          "execution_count": 37
        }
      ]
    },
    {
      "cell_type": "code",
      "source": [
        "#drop the rows with Null values\n",
        "df.dropna(subset = [\"pclass\"], inplace=True)\n",
        "df.dropna(subset = ['survived'], inplace = True)\n",
        "df.dropna(subset = [\"sex\"], inplace=True)\n",
        "df.dropna(subset = ['sibsp'], inplace = True)\n",
        "df.dropna(subset = [\"parch\"], inplace=True)\n",
        "df.dropna(subset = ['ticket'], inplace = True)\n",
        "df.dropna(subset = [\"fare\"], inplace=True)\n",
        "df.dropna(subset = ['embarked'], inplace = True)"
      ],
      "metadata": {
        "id": "lOHf_xcxqi5w"
      },
      "execution_count": null,
      "outputs": []
    },
    {
      "cell_type": "code",
      "source": [
        "#Confirming no null values remain\n",
        "df.isnull().sum()"
      ],
      "metadata": {
        "colab": {
          "base_uri": "https://localhost:8080/"
        },
        "id": "FmDeZ-XBrEwH",
        "outputId": "4c561fc3-62e2-423c-e77c-92ea967a8838"
      },
      "execution_count": null,
      "outputs": [
        {
          "output_type": "execute_result",
          "data": {
            "text/plain": [
              "pclass      0\n",
              "survived    0\n",
              "sex         0\n",
              "age         0\n",
              "sibsp       0\n",
              "parch       0\n",
              "ticket      0\n",
              "fare        0\n",
              "embarked    0\n",
              "dtype: int64"
            ]
          },
          "metadata": {},
          "execution_count": 39
        }
      ]
    },
    {
      "cell_type": "code",
      "source": [
        "#New view of attributes after alterations\n",
        "df.describe() "
      ],
      "metadata": {
        "colab": {
          "base_uri": "https://localhost:8080/",
          "height": 300
        },
        "id": "Q0pj3_G8Oi9k",
        "outputId": "07ca5258-381b-4e93-ad32-994fabb6a154"
      },
      "execution_count": null,
      "outputs": [
        {
          "output_type": "execute_result",
          "data": {
            "text/plain": [
              "            pclass     survived          age       sibsp        parch  \\\n",
              "count  1306.000000  1306.000000  1306.000000  1306.00000  1306.000000   \n",
              "mean      2.296325     0.381317    29.826880     0.50000     0.385911   \n",
              "std       0.837037     0.485896    12.837289     1.04258     0.866357   \n",
              "min       1.000000     0.000000     0.166700     0.00000     0.000000   \n",
              "25%       2.000000     0.000000    22.000000     0.00000     0.000000   \n",
              "50%       3.000000     0.000000    29.881135     0.00000     0.000000   \n",
              "75%       3.000000     1.000000    35.000000     1.00000     0.000000   \n",
              "max       3.000000     1.000000    80.000000     8.00000     9.000000   \n",
              "\n",
              "              fare  \n",
              "count  1306.000000  \n",
              "mean     33.223956  \n",
              "std      51.765986  \n",
              "min       0.000000  \n",
              "25%       7.895800  \n",
              "50%      14.454200  \n",
              "75%      31.275000  \n",
              "max     512.329200  "
            ],
            "text/html": [
              "\n",
              "  <div id=\"df-b4719a0a-7eda-41ed-968c-e897d595ff3f\">\n",
              "    <div class=\"colab-df-container\">\n",
              "      <div>\n",
              "<style scoped>\n",
              "    .dataframe tbody tr th:only-of-type {\n",
              "        vertical-align: middle;\n",
              "    }\n",
              "\n",
              "    .dataframe tbody tr th {\n",
              "        vertical-align: top;\n",
              "    }\n",
              "\n",
              "    .dataframe thead th {\n",
              "        text-align: right;\n",
              "    }\n",
              "</style>\n",
              "<table border=\"1\" class=\"dataframe\">\n",
              "  <thead>\n",
              "    <tr style=\"text-align: right;\">\n",
              "      <th></th>\n",
              "      <th>pclass</th>\n",
              "      <th>survived</th>\n",
              "      <th>age</th>\n",
              "      <th>sibsp</th>\n",
              "      <th>parch</th>\n",
              "      <th>fare</th>\n",
              "    </tr>\n",
              "  </thead>\n",
              "  <tbody>\n",
              "    <tr>\n",
              "      <th>count</th>\n",
              "      <td>1306.000000</td>\n",
              "      <td>1306.000000</td>\n",
              "      <td>1306.000000</td>\n",
              "      <td>1306.00000</td>\n",
              "      <td>1306.000000</td>\n",
              "      <td>1306.000000</td>\n",
              "    </tr>\n",
              "    <tr>\n",
              "      <th>mean</th>\n",
              "      <td>2.296325</td>\n",
              "      <td>0.381317</td>\n",
              "      <td>29.826880</td>\n",
              "      <td>0.50000</td>\n",
              "      <td>0.385911</td>\n",
              "      <td>33.223956</td>\n",
              "    </tr>\n",
              "    <tr>\n",
              "      <th>std</th>\n",
              "      <td>0.837037</td>\n",
              "      <td>0.485896</td>\n",
              "      <td>12.837289</td>\n",
              "      <td>1.04258</td>\n",
              "      <td>0.866357</td>\n",
              "      <td>51.765986</td>\n",
              "    </tr>\n",
              "    <tr>\n",
              "      <th>min</th>\n",
              "      <td>1.000000</td>\n",
              "      <td>0.000000</td>\n",
              "      <td>0.166700</td>\n",
              "      <td>0.00000</td>\n",
              "      <td>0.000000</td>\n",
              "      <td>0.000000</td>\n",
              "    </tr>\n",
              "    <tr>\n",
              "      <th>25%</th>\n",
              "      <td>2.000000</td>\n",
              "      <td>0.000000</td>\n",
              "      <td>22.000000</td>\n",
              "      <td>0.00000</td>\n",
              "      <td>0.000000</td>\n",
              "      <td>7.895800</td>\n",
              "    </tr>\n",
              "    <tr>\n",
              "      <th>50%</th>\n",
              "      <td>3.000000</td>\n",
              "      <td>0.000000</td>\n",
              "      <td>29.881135</td>\n",
              "      <td>0.00000</td>\n",
              "      <td>0.000000</td>\n",
              "      <td>14.454200</td>\n",
              "    </tr>\n",
              "    <tr>\n",
              "      <th>75%</th>\n",
              "      <td>3.000000</td>\n",
              "      <td>1.000000</td>\n",
              "      <td>35.000000</td>\n",
              "      <td>1.00000</td>\n",
              "      <td>0.000000</td>\n",
              "      <td>31.275000</td>\n",
              "    </tr>\n",
              "    <tr>\n",
              "      <th>max</th>\n",
              "      <td>3.000000</td>\n",
              "      <td>1.000000</td>\n",
              "      <td>80.000000</td>\n",
              "      <td>8.00000</td>\n",
              "      <td>9.000000</td>\n",
              "      <td>512.329200</td>\n",
              "    </tr>\n",
              "  </tbody>\n",
              "</table>\n",
              "</div>\n",
              "      <button class=\"colab-df-convert\" onclick=\"convertToInteractive('df-b4719a0a-7eda-41ed-968c-e897d595ff3f')\"\n",
              "              title=\"Convert this dataframe to an interactive table.\"\n",
              "              style=\"display:none;\">\n",
              "        \n",
              "  <svg xmlns=\"http://www.w3.org/2000/svg\" height=\"24px\"viewBox=\"0 0 24 24\"\n",
              "       width=\"24px\">\n",
              "    <path d=\"M0 0h24v24H0V0z\" fill=\"none\"/>\n",
              "    <path d=\"M18.56 5.44l.94 2.06.94-2.06 2.06-.94-2.06-.94-.94-2.06-.94 2.06-2.06.94zm-11 1L8.5 8.5l.94-2.06 2.06-.94-2.06-.94L8.5 2.5l-.94 2.06-2.06.94zm10 10l.94 2.06.94-2.06 2.06-.94-2.06-.94-.94-2.06-.94 2.06-2.06.94z\"/><path d=\"M17.41 7.96l-1.37-1.37c-.4-.4-.92-.59-1.43-.59-.52 0-1.04.2-1.43.59L10.3 9.45l-7.72 7.72c-.78.78-.78 2.05 0 2.83L4 21.41c.39.39.9.59 1.41.59.51 0 1.02-.2 1.41-.59l7.78-7.78 2.81-2.81c.8-.78.8-2.07 0-2.86zM5.41 20L4 18.59l7.72-7.72 1.47 1.35L5.41 20z\"/>\n",
              "  </svg>\n",
              "      </button>\n",
              "      \n",
              "  <style>\n",
              "    .colab-df-container {\n",
              "      display:flex;\n",
              "      flex-wrap:wrap;\n",
              "      gap: 12px;\n",
              "    }\n",
              "\n",
              "    .colab-df-convert {\n",
              "      background-color: #E8F0FE;\n",
              "      border: none;\n",
              "      border-radius: 50%;\n",
              "      cursor: pointer;\n",
              "      display: none;\n",
              "      fill: #1967D2;\n",
              "      height: 32px;\n",
              "      padding: 0 0 0 0;\n",
              "      width: 32px;\n",
              "    }\n",
              "\n",
              "    .colab-df-convert:hover {\n",
              "      background-color: #E2EBFA;\n",
              "      box-shadow: 0px 1px 2px rgba(60, 64, 67, 0.3), 0px 1px 3px 1px rgba(60, 64, 67, 0.15);\n",
              "      fill: #174EA6;\n",
              "    }\n",
              "\n",
              "    [theme=dark] .colab-df-convert {\n",
              "      background-color: #3B4455;\n",
              "      fill: #D2E3FC;\n",
              "    }\n",
              "\n",
              "    [theme=dark] .colab-df-convert:hover {\n",
              "      background-color: #434B5C;\n",
              "      box-shadow: 0px 1px 3px 1px rgba(0, 0, 0, 0.15);\n",
              "      filter: drop-shadow(0px 1px 2px rgba(0, 0, 0, 0.3));\n",
              "      fill: #FFFFFF;\n",
              "    }\n",
              "  </style>\n",
              "\n",
              "      <script>\n",
              "        const buttonEl =\n",
              "          document.querySelector('#df-b4719a0a-7eda-41ed-968c-e897d595ff3f button.colab-df-convert');\n",
              "        buttonEl.style.display =\n",
              "          google.colab.kernel.accessAllowed ? 'block' : 'none';\n",
              "\n",
              "        async function convertToInteractive(key) {\n",
              "          const element = document.querySelector('#df-b4719a0a-7eda-41ed-968c-e897d595ff3f');\n",
              "          const dataTable =\n",
              "            await google.colab.kernel.invokeFunction('convertToInteractive',\n",
              "                                                     [key], {});\n",
              "          if (!dataTable) return;\n",
              "\n",
              "          const docLinkHtml = 'Like what you see? Visit the ' +\n",
              "            '<a target=\"_blank\" href=https://colab.research.google.com/notebooks/data_table.ipynb>data table notebook</a>'\n",
              "            + ' to learn more about interactive tables.';\n",
              "          element.innerHTML = '';\n",
              "          dataTable['output_type'] = 'display_data';\n",
              "          await google.colab.output.renderOutput(dataTable, element);\n",
              "          const docLink = document.createElement('div');\n",
              "          docLink.innerHTML = docLinkHtml;\n",
              "          element.appendChild(docLink);\n",
              "        }\n",
              "      </script>\n",
              "    </div>\n",
              "  </div>\n",
              "  "
            ]
          },
          "metadata": {},
          "execution_count": 41
        }
      ]
    },
    {
      "cell_type": "markdown",
      "source": [
        "In the next section of Data preparation, we will check for any other odd values that remain such as quesion marks or negative numbers in places where they should not exist."
      ],
      "metadata": {
        "id": "KmZq2Hl3rVW3"
      }
    },
    {
      "cell_type": "code",
      "source": [
        "#pclass\n",
        "temp =  df['pclass'].unique() #Get the unique values of this column\n",
        "temp.sort() #Sort values\n",
        "temp #print"
      ],
      "metadata": {
        "colab": {
          "base_uri": "https://localhost:8080/"
        },
        "id": "OABKTPGBmlwO",
        "outputId": "14caa306-cc70-4fde-8259-ffdab1e34612"
      },
      "execution_count": null,
      "outputs": [
        {
          "output_type": "execute_result",
          "data": {
            "text/plain": [
              "array([1., 2., 3.])"
            ]
          },
          "metadata": {},
          "execution_count": 42
        }
      ]
    },
    {
      "cell_type": "code",
      "source": [
        "#survived\n",
        "temp =  df['survived'].unique() #Get the unique values of this column\n",
        "temp.sort() #Sort values\n",
        "temp #print"
      ],
      "metadata": {
        "colab": {
          "base_uri": "https://localhost:8080/"
        },
        "id": "IxlOh3dJrjLC",
        "outputId": "68a2a79e-2f29-4767-8627-edcb110f95f5"
      },
      "execution_count": null,
      "outputs": [
        {
          "output_type": "execute_result",
          "data": {
            "text/plain": [
              "array([0., 1.])"
            ]
          },
          "metadata": {},
          "execution_count": 43
        }
      ]
    },
    {
      "cell_type": "code",
      "source": [
        "#sex\n",
        "temp =  df['sex'].unique() #Get the unique values of this column\n",
        "temp.sort() #Sort values\n",
        "temp #print"
      ],
      "metadata": {
        "colab": {
          "base_uri": "https://localhost:8080/"
        },
        "id": "aiNOaTuqrtvs",
        "outputId": "89d71d6d-50aa-4808-f0b1-3049fb87e3e6"
      },
      "execution_count": null,
      "outputs": [
        {
          "output_type": "execute_result",
          "data": {
            "text/plain": [
              "array(['female', 'male'], dtype=object)"
            ]
          },
          "metadata": {},
          "execution_count": 44
        }
      ]
    },
    {
      "cell_type": "code",
      "source": [
        "#age\n",
        "temp =  df['age'].unique() #Get the unique values of this column\n",
        "temp.sort() #Sort values\n",
        "temp #print"
      ],
      "metadata": {
        "colab": {
          "base_uri": "https://localhost:8080/"
        },
        "id": "WTQFIezOmrBV",
        "outputId": "7fea66c7-2fc6-45d4-cfa0-8ae6b3a9105e"
      },
      "execution_count": null,
      "outputs": [
        {
          "output_type": "execute_result",
          "data": {
            "text/plain": [
              "array([ 0.1667    ,  0.3333    ,  0.4167    ,  0.6667    ,  0.75      ,\n",
              "        0.8333    ,  0.9167    ,  1.        ,  2.        ,  3.        ,\n",
              "        4.        ,  5.        ,  6.        ,  7.        ,  8.        ,\n",
              "        9.        , 10.        , 11.        , 11.5       , 12.        ,\n",
              "       13.        , 14.        , 14.5       , 15.        , 16.        ,\n",
              "       17.        , 18.        , 18.5       , 19.        , 20.        ,\n",
              "       20.5       , 21.        , 22.        , 22.5       , 23.        ,\n",
              "       23.5       , 24.        , 24.5       , 25.        , 26.        ,\n",
              "       26.5       , 27.        , 28.        , 28.5       , 29.        ,\n",
              "       29.88113451, 30.        , 30.5       , 31.        , 32.        ,\n",
              "       32.5       , 33.        , 34.        , 34.5       , 35.        ,\n",
              "       36.        , 36.5       , 37.        , 38.        , 38.5       ,\n",
              "       39.        , 40.        , 40.5       , 41.        , 42.        ,\n",
              "       43.        , 44.        , 45.        , 45.5       , 46.        ,\n",
              "       47.        , 48.        , 49.        , 50.        , 51.        ,\n",
              "       52.        , 53.        , 54.        , 55.        , 55.5       ,\n",
              "       56.        , 57.        , 58.        , 59.        , 60.        ,\n",
              "       61.        , 62.        , 63.        , 64.        , 65.        ,\n",
              "       66.        , 67.        , 70.        , 70.5       , 71.        ,\n",
              "       74.        , 76.        , 80.        ])"
            ]
          },
          "metadata": {},
          "execution_count": 45
        }
      ]
    },
    {
      "cell_type": "code",
      "source": [
        "#sibsp\n",
        "temp =  df['sibsp'].unique() #Get the unique values of this column\n",
        "temp.sort() #Sort values\n",
        "temp #print"
      ],
      "metadata": {
        "colab": {
          "base_uri": "https://localhost:8080/"
        },
        "id": "mv77UKJSr4Id",
        "outputId": "323c911a-6266-45b2-fde2-3404eb87bd2a"
      },
      "execution_count": null,
      "outputs": [
        {
          "output_type": "execute_result",
          "data": {
            "text/plain": [
              "array([0., 1., 2., 3., 4., 5., 8.])"
            ]
          },
          "metadata": {},
          "execution_count": 46
        }
      ]
    },
    {
      "cell_type": "code",
      "source": [
        "#parch\n",
        "temp =  df['parch'].unique() #Get the unique values of this column\n",
        "temp.sort() #Sort values\n",
        "temp #print"
      ],
      "metadata": {
        "colab": {
          "base_uri": "https://localhost:8080/"
        },
        "id": "QsXtC8pir3_t",
        "outputId": "ec54d35e-96ca-4eb4-d860-9f291abdf00b"
      },
      "execution_count": null,
      "outputs": [
        {
          "output_type": "execute_result",
          "data": {
            "text/plain": [
              "array([0., 1., 2., 3., 4., 5., 6., 9.])"
            ]
          },
          "metadata": {},
          "execution_count": 48
        }
      ]
    },
    {
      "cell_type": "code",
      "source": [
        "#ticket\n",
        "temp =  df['ticket'].unique() #Get the unique values of this column\n",
        "temp.sort() #Sort values\n",
        "temp #print"
      ],
      "metadata": {
        "colab": {
          "base_uri": "https://localhost:8080/"
        },
        "id": "pK-R7bP0r32s",
        "outputId": "00bf4ed6-a26b-4e35-9575-bbad1b4dcff2"
      },
      "execution_count": null,
      "outputs": [
        {
          "output_type": "execute_result",
          "data": {
            "text/plain": [
              "array(['110152', '110413', '110465', '110469', '110489', '110564',\n",
              "       '110813', '111163', '111240', '111320', '111361', '111369',\n",
              "       '111426', '111427', '111428', '112050', '112051', '112052',\n",
              "       '112053', '112058', '112059', '112277', '112377', '112378',\n",
              "       '112379', '112901', '113028', '113038', '113043', '113044',\n",
              "       '113050', '113051', '113054', '113055', '113056', '113059',\n",
              "       '113501', '113503', '113505', '113509', '113510', '113514',\n",
              "       '113760', '113767', '113773', '113776', '113778', '113780',\n",
              "       '113781', '113783', '113784', '113786', '113787', '113788',\n",
              "       '113789', '113790', '113791', '113792', '113794', '113795',\n",
              "       '113796', '113798', '113800', '113801', '113803', '113804',\n",
              "       '113806', '113807', '11668', '11751', '11752', '11753', '11755',\n",
              "       '11765', '11767', '11769', '11770', '11771', '11774', '11778',\n",
              "       '11813', '11967', '1222', '12233', '12460', '12749', '13049',\n",
              "       '13050', '13213', '13214', '13236', '13502', '13507', '13508',\n",
              "       '13509', '13567', '13568', '13695', '13905', '14311', '14312',\n",
              "       '14313', '14973', '1601', '16966', '16988', '17421', '17453',\n",
              "       '17463', '17464', '17465', '17466', '17474', '17475', '17764',\n",
              "       '17765', '17770', '19877', '19924', '19928', '19943', '19947',\n",
              "       '19950', '19952', '19972', '19988', '19996', '2003', '211535',\n",
              "       '211536', '21228', '21332', '21440', '218629', '219533', '220367',\n",
              "       '220844', '220845', '2223', '223596', '226593', '226875', '228414',\n",
              "       '229236', '230080', '230136', '230433', '230434', '231919',\n",
              "       '231945', '233478', '233639', '233734', '233866', '234360',\n",
              "       '234604', '234686', '234818', '235509', '236171', '236852',\n",
              "       '236853', '236854', '237216', '237249', '237393', '237442',\n",
              "       '237565', '237668', '237670', '237671', '237734', '237735',\n",
              "       '237736', '237789', '237798', '239059', '239853', '239854',\n",
              "       '239855', '239856', '239865', '240261', '240276', '24065',\n",
              "       '240929', '24160', '242963', '243847', '243880', '244252',\n",
              "       '244270', '244278', '244310', '244346', '244358', '244360',\n",
              "       '244361', '244367', '244368', '244373', '248659', '248698',\n",
              "       '248706', '248723', '248726', '248727', '248731', '248733',\n",
              "       '248734', '248738', '248740', '248744', '248746', '248747',\n",
              "       '250643', '250644', '250646', '250647', '250648', '250649',\n",
              "       '250650', '250651', '250652', '250653', '250655', '2543', '2620',\n",
              "       '2621', '2622', '2623', '2624', '2625', '2626', '2627', '2628',\n",
              "       '2629', '2631', '26360', '2641', '2647', '2648', '2649', '2650',\n",
              "       '2651', '2652', '2653', '2654', '2655', '2656', '2657', '2658',\n",
              "       '2659', '2660', '2661', '2662', '2663', '2664', '2665', '2666',\n",
              "       '2667', '2668', '2669', '2670', '26707', '2671', '2672', '2673',\n",
              "       '2674', '2675', '2676', '2677', '2678', '2679', '2680', '2681',\n",
              "       '2682', '2683', '2684', '2685', '2686', '2687', '2688', '2689',\n",
              "       '2690', '2691', '2692', '2693', '2694', '2695', '2696', '2697',\n",
              "       '2698', '2699', '2700', '27042', '27267', '27849', '28004',\n",
              "       '28034', '28133', '28134', '28206', '28213', '28220', '28221',\n",
              "       '28228', '28403', '28404', '28424', '28425', '28551', '28664',\n",
              "       '28665', '28666', '29011', '2908', '29103', '29104', '29105',\n",
              "       '29106', '29107', '29108', '2926', '29750', '29751', '3101264',\n",
              "       '3101265', '3101266', '3101267', '3101276', '3101277', '3101278',\n",
              "       '3101281', '3101295', '3101296', '3101297', '3101298', '31027',\n",
              "       '31028', '312991', '312992', '312993', '31418', '315037', '315082',\n",
              "       '315083', '315084', '315085', '315086', '315087', '315088',\n",
              "       '315089', '315090', '315091', '315092', '315093', '315094',\n",
              "       '315095', '315096', '315097', '315098', '315151', '315152',\n",
              "       '315153', '315154', '32302', '323592', '323951', '324669',\n",
              "       '329944', '330844', '330877', '330909', '330910', '330911',\n",
              "       '330919', '330920', '330923', '330924', '330931', '330932',\n",
              "       '330935', '330958', '330959', '330963', '330968', '330971',\n",
              "       '330972', '330979', '330980', '334912', '334914', '334915',\n",
              "       '335097', '335432', '335677', '33638', '336439', '3410', '3411',\n",
              "       '341826', '34218', '342441', '342684', '342712', '342826',\n",
              "       '343095', '343120', '343271', '343275', '343276', '345364',\n",
              "       '345498', '345501', '345572', '345763', '345764', '345765',\n",
              "       '345767', '345768', '345769', '345770', '345771', '345773',\n",
              "       '345774', '345775', '345777', '345778', '345779', '345780',\n",
              "       '345781', '345783', '3460', '3470', '347054', '347060', '347061',\n",
              "       '347062', '347063', '347064', '347065', '347066', '347067',\n",
              "       '347068', '347069', '347070', '347071', '347072', '347073',\n",
              "       '347074', '347075', '347076', '347077', '347078', '347079',\n",
              "       '347080', '347081', '347082', '347083', '347085', '347086',\n",
              "       '347087', '347088', '347089', '347090', '347091', '3474', '347464',\n",
              "       '347465', '347466', '347467', '347468', '347469', '347470',\n",
              "       '347471', '347742', '347743', '348121', '348122', '348123',\n",
              "       '348124', '348125', '349201', '349202', '349203', '349204',\n",
              "       '349205', '349206', '349207', '349208', '349209', '349210',\n",
              "       '349211', '349212', '349213', '349214', '349215', '349216',\n",
              "       '349217', '349218', '349219', '349220', '349221', '349222',\n",
              "       '349223', '349224', '349225', '349226', '349227', '349228',\n",
              "       '349229', '349230', '349231', '349232', '349233', '349234',\n",
              "       '349235', '349236', '349237', '349238', '349239', '349240',\n",
              "       '349241', '349242', '349243', '349244', '349245', '349246',\n",
              "       '349247', '349248', '349249', '349250', '349251', '349252',\n",
              "       '349253', '349254', '349255', '349256', '349257', '349909',\n",
              "       '349910', '349911', '349912', '350025', '350026', '350029',\n",
              "       '350033', '350034', '350035', '350036', '350042', '350043',\n",
              "       '350045', '350046', '350047', '350048', '350050', '350052',\n",
              "       '350053', '350054', '350060', '350403', '350404', '350405',\n",
              "       '350406', '350407', '350408', '350409', '350410', '350416',\n",
              "       '350417', '35273', '35281', '35851', '35852', '358585', '359306',\n",
              "       '359309', '36209', '362316', '363272', '363291', '363294',\n",
              "       '363592', '363611', '364498', '364499', '364500', '364506',\n",
              "       '364511', '364512', '364516', '364846', '364848', '364849',\n",
              "       '364850', '364851', '364856', '364858', '364859', '365222',\n",
              "       '365226', '365235', '365237', '36568', '366713', '367226',\n",
              "       '367227', '367228', '367229', '367230', '367231', '367232',\n",
              "       '367655', '368323', '368364', '368402', '368573', '36864', '36865',\n",
              "       '36866', '368702', '368703', '368783', '36928', '36947', '36963',\n",
              "       '36967', '36973', '370129', '370365', '370368', '370369', '370370',\n",
              "       '370371', '370372', '370373', '370374', '370375', '370376',\n",
              "       '370377', '371060', '371109', '371110', '371362', '372622',\n",
              "       '373450', '374746', '374887', '374910', '376563', '376564',\n",
              "       '376566', '382649', '382650', '382651', '382652', '382653',\n",
              "       '383121', '383123', '383162', '384461', '386525', '392091',\n",
              "       '392092', '392095', '392096', '394140', '4133', '4134', '4135',\n",
              "       '4136', '4137', '4138', '4579', '54636', '5727', '65303', '65304',\n",
              "       '65305', '65306', '6563', '680', '693', '694', '695', '7266',\n",
              "       '7267', '7534', '7538', '7540', '7545', '7546', '7548', '7552',\n",
              "       '7553', '7598', '7935', '8471', '8475', '9232', '9234',\n",
              "       'A. 2. 39186', 'A./5. 2152', 'A./5. 3235', 'A./5. 3338',\n",
              "       'A.5. 11206', 'A.5. 18509', 'A.5. 3236', 'A/4 31416', 'A/4 45380',\n",
              "       'A/4 48871', 'A/4 48873', 'A/4. 20589', 'A/4. 34244', 'A/4. 39886',\n",
              "       'A/5 1478', 'A/5 21171', 'A/5 21172', 'A/5 21173', 'A/5 21174',\n",
              "       'A/5 21175', 'A/5 2466', 'A/5 2817', 'A/5 3536', 'A/5 3540',\n",
              "       'A/5 3594', 'A/5 3902', 'A/5. 10482', 'A/5. 13032', 'A/5. 2151',\n",
              "       'A/5. 3336', 'A/5. 3337', 'A/5. 851', 'A/S 2816', 'A4. 54510',\n",
              "       'AQ/3. 30631', 'AQ/4 3130', 'C 17368', 'C 17369', 'C 4001',\n",
              "       'C 7075', 'C 7076', 'C 7077', 'C.A. 15185', 'C.A. 17248',\n",
              "       'C.A. 18723', 'C.A. 2315', 'C.A. 24579', 'C.A. 24580', 'C.A. 2673',\n",
              "       'C.A. 29178', 'C.A. 29395', 'C.A. 29566', 'C.A. 30769',\n",
              "       'C.A. 31026', 'C.A. 31029', 'C.A. 31030', 'C.A. 31921',\n",
              "       'C.A. 33111', 'C.A. 33112', 'C.A. 33595', 'C.A. 34050',\n",
              "       'C.A. 34260', 'C.A. 34644', 'C.A. 34651', 'C.A. 37671',\n",
              "       'C.A. 42795', 'C.A. 49867', 'C.A. 5547', 'C.A. 6212',\n",
              "       'C.A./SOTON 34068', 'CA 2144', 'CA 31352', 'CA. 2314', 'CA. 2343',\n",
              "       'F.C. 12750', 'F.C. 12998', 'F.C.C. 13528', 'F.C.C. 13529',\n",
              "       'F.C.C. 13531', 'F.C.C. 13534', 'F.C.C. 13540', 'Fa 265302',\n",
              "       'LINE', 'LP 1588', 'P/PP 3381', 'PC 17318', 'PC 17473', 'PC 17474',\n",
              "       'PC 17475', 'PC 17476', 'PC 17477', 'PC 17482', 'PC 17483',\n",
              "       'PC 17485', 'PC 17531', 'PC 17558', 'PC 17562', 'PC 17569',\n",
              "       'PC 17572', 'PC 17580', 'PC 17582', 'PC 17585', 'PC 17590',\n",
              "       'PC 17591', 'PC 17592', 'PC 17593', 'PC 17594', 'PC 17595',\n",
              "       'PC 17596', 'PC 17597', 'PC 17598', 'PC 17599', 'PC 17600',\n",
              "       'PC 17601', 'PC 17603', 'PC 17604', 'PC 17605', 'PC 17606',\n",
              "       'PC 17607', 'PC 17608', 'PC 17609', 'PC 17610', 'PC 17611',\n",
              "       'PC 17612', 'PC 17613', 'PC 17754', 'PC 17755', 'PC 17756',\n",
              "       'PC 17757', 'PC 17758', 'PC 17759', 'PC 17760', 'PC 17761',\n",
              "       'PP 4348', 'PP 9549', 'S.C./A.4. 23567', 'S.C./PARIS 2079',\n",
              "       'S.O./P.P. 2', 'S.O./P.P. 251', 'S.O./P.P. 3', 'S.O./P.P. 751',\n",
              "       'S.O./P.P. 752', 'S.O.C. 14879', 'S.O.P. 1166', 'S.P. 3464',\n",
              "       'S.W./PP 752', 'SC 14888', 'SC 1748', 'SC/A.3 2861', 'SC/A4 23568',\n",
              "       'SC/AH 29037', 'SC/AH 3085', 'SC/AH Basle 541', 'SC/PARIS 2131',\n",
              "       'SC/PARIS 2133', 'SC/PARIS 2146', 'SC/PARIS 2147', 'SC/PARIS 2148',\n",
              "       'SC/PARIS 2149', 'SC/PARIS 2159', 'SC/PARIS 2166', 'SC/PARIS 2167',\n",
              "       'SC/PARIS 2168', 'SC/Paris 2123', 'SC/Paris 2163', 'SCO/W 1585',\n",
              "       'SO/C 14885', 'SOTON/O.Q. 3101262', 'SOTON/O.Q. 3101263',\n",
              "       'SOTON/O.Q. 3101305', 'SOTON/O.Q. 3101306', 'SOTON/O.Q. 3101307',\n",
              "       'SOTON/O.Q. 3101308', 'SOTON/O.Q. 3101309', 'SOTON/O.Q. 3101310',\n",
              "       'SOTON/O.Q. 3101311', 'SOTON/O.Q. 3101312', 'SOTON/O.Q. 3101314',\n",
              "       'SOTON/O.Q. 3101315', 'SOTON/O.Q. 392078', 'SOTON/O.Q. 392087',\n",
              "       'SOTON/O2 3101272', 'SOTON/O2 3101284', 'SOTON/O2 3101287',\n",
              "       'SOTON/OQ 3101316', 'SOTON/OQ 3101317', 'SOTON/OQ 392076',\n",
              "       'SOTON/OQ 392082', 'SOTON/OQ 392083', 'SOTON/OQ 392086',\n",
              "       'SOTON/OQ 392089', 'SOTON/OQ 392090', 'STON/O 2. 3101268',\n",
              "       'STON/O 2. 3101269', 'STON/O 2. 3101273', 'STON/O 2. 3101274',\n",
              "       'STON/O 2. 3101275', 'STON/O 2. 3101280', 'STON/O 2. 3101285',\n",
              "       'STON/O 2. 3101286', 'STON/O 2. 3101288', 'STON/O 2. 3101289',\n",
              "       'STON/O 2. 3101291', 'STON/O 2. 3101292', 'STON/O 2. 3101293',\n",
              "       'STON/O 2. 3101294', 'STON/O2. 3101270', 'STON/O2. 3101271',\n",
              "       'STON/O2. 3101279', 'STON/O2. 3101282', 'STON/O2. 3101283',\n",
              "       'STON/O2. 3101290', 'STON/OQ. 369943', 'SW/PP 751', 'W./C. 14258',\n",
              "       'W./C. 14260', 'W./C. 14263', 'W./C. 14266', 'W./C. 6607',\n",
              "       'W./C. 6608', 'W./C. 6609', 'W.E.P. 5734', 'W/C 14208',\n",
              "       'WE/P 5735'], dtype=object)"
            ]
          },
          "metadata": {},
          "execution_count": 49
        }
      ]
    },
    {
      "cell_type": "code",
      "source": [
        "#The ticket column will be dropped for the same reason as the name column.\n",
        "#This is categorical data that creates a unique category for each ticket number for each passenger.\n",
        "#To avoid dealing with this messy data, this column will be dropped.\n",
        "del df['ticket'] "
      ],
      "metadata": {
        "id": "7d37YhLZsfH0"
      },
      "execution_count": null,
      "outputs": []
    },
    {
      "cell_type": "code",
      "source": [
        "#fare\n",
        "temp =  df['fare'].unique() #Get the unique values of this column\n",
        "temp.sort() #Sort values\n",
        "temp #print"
      ],
      "metadata": {
        "colab": {
          "base_uri": "https://localhost:8080/"
        },
        "id": "iZN3rqy9s0aK",
        "outputId": "1ac682d1-4bab-44c3-93ac-7dc1f11dd2c9"
      },
      "execution_count": null,
      "outputs": [
        {
          "output_type": "execute_result",
          "data": {
            "text/plain": [
              "array([  0.    ,   3.1708,   4.0125,   5.    ,   6.2375,   6.4375,\n",
              "         6.45  ,   6.4958,   6.75  ,   6.8583,   6.95  ,   6.975 ,\n",
              "         7.    ,   7.0458,   7.05  ,   7.0542,   7.125 ,   7.1417,\n",
              "         7.225 ,   7.2292,   7.25  ,   7.2833,   7.3125,   7.4958,\n",
              "         7.5208,   7.55  ,   7.575 ,   7.5792,   7.6292,   7.65  ,\n",
              "         7.7208,   7.725 ,   7.7292,   7.7333,   7.7375,   7.7417,\n",
              "         7.75  ,   7.775 ,   7.7792,   7.7875,   7.7958,   7.8   ,\n",
              "         7.8208,   7.8292,   7.85  ,   7.8542,   7.875 ,   7.8792,\n",
              "         7.8875,   7.8958,   7.925 ,   8.0292,   8.05  ,   8.1125,\n",
              "         8.1375,   8.1583,   8.3   ,   8.3625,   8.4042,   8.4333,\n",
              "         8.4583,   8.5167,   8.6542,   8.6625,   8.6833,   8.7125,\n",
              "         8.85  ,   8.9625,   9.    ,   9.2167,   9.225 ,   9.325 ,\n",
              "         9.35  ,   9.475 ,   9.4833,   9.5   ,   9.5875,   9.6875,\n",
              "         9.825 ,   9.8375,   9.8417,   9.8458,  10.1708,  10.4625,\n",
              "        10.5   ,  10.5167,  10.7083,  11.1333,  11.2417,  11.5   ,\n",
              "        12.    ,  12.1833,  12.275 ,  12.2875,  12.35  ,  12.475 ,\n",
              "        12.525 ,  12.65  ,  12.7375,  12.875 ,  13.    ,  13.4167,\n",
              "        13.5   ,  13.775 ,  13.7917,  13.8583,  13.8625,  13.9   ,\n",
              "        14.    ,  14.1083,  14.4   ,  14.4542,  14.4583,  14.5   ,\n",
              "        15.    ,  15.0333,  15.0458,  15.05  ,  15.1   ,  15.2458,\n",
              "        15.5   ,  15.55  ,  15.5792,  15.7417,  15.75  ,  15.85  ,\n",
              "        15.9   ,  16.    ,  16.1   ,  16.7   ,  17.4   ,  17.8   ,\n",
              "        18.    ,  18.75  ,  18.7875,  19.2583,  19.5   ,  19.9667,\n",
              "        20.2125,  20.25  ,  20.525 ,  20.575 ,  21.    ,  21.075 ,\n",
              "        21.6792,  22.025 ,  22.3583,  22.525 ,  23.    ,  23.25  ,\n",
              "        23.45  ,  24.    ,  24.15  ,  25.4667,  25.5875,  25.7   ,\n",
              "        25.7417,  25.925 ,  25.9292,  26.    ,  26.25  ,  26.2833,\n",
              "        26.2875,  26.3875,  26.55  ,  27.    ,  27.4458,  27.7208,\n",
              "        27.75  ,  27.9   ,  28.5   ,  28.5375,  28.7125,  29.    ,\n",
              "        29.125 ,  29.7   ,  30.    ,  30.0708,  30.5   ,  30.6958,\n",
              "        31.    ,  31.275 ,  31.3875,  31.5   ,  31.6792,  31.6833,\n",
              "        32.3208,  32.5   ,  33.    ,  33.5   ,  34.0208,  34.375 ,\n",
              "        34.6542,  35.    ,  35.5   ,  36.75  ,  37.0042,  38.5   ,\n",
              "        39.    ,  39.4   ,  39.6   ,  39.6875,  40.125 ,  41.5792,\n",
              "        42.4   ,  42.5   ,  45.5   ,  46.9   ,  47.1   ,  49.5   ,\n",
              "        49.5042,  50.    ,  50.4958,  51.4792,  51.8625,  52.    ,\n",
              "        52.5542,  53.1   ,  55.    ,  55.4417,  55.9   ,  56.4958,\n",
              "        56.9292,  57.    ,  57.75  ,  57.9792,  59.4   ,  60.    ,\n",
              "        61.175 ,  61.3792,  61.9792,  63.3583,  65.    ,  66.6   ,\n",
              "        69.3   ,  69.55  ,  71.    ,  71.2833,  73.5   ,  75.2417,\n",
              "        75.25  ,  76.2917,  76.7292,  77.2875,  77.9583,  78.2667,\n",
              "        78.85  ,  79.2   ,  79.65  ,  81.8583,  82.1708,  82.2667,\n",
              "        83.1583,  83.475 ,  86.5   ,  89.1042,  90.    ,  91.0792,\n",
              "        93.5   , 106.425 , 108.9   , 110.8833, 113.275 , 120.    ,\n",
              "       133.65  , 134.5   , 135.6333, 136.7792, 146.5208, 151.55  ,\n",
              "       153.4625, 164.8667, 211.3375, 211.5   , 221.7792, 227.525 ,\n",
              "       247.5208, 262.375 , 263.    , 512.3292])"
            ]
          },
          "metadata": {},
          "execution_count": 51
        }
      ]
    },
    {
      "cell_type": "code",
      "source": [
        "#embarked\n",
        "temp =  df['embarked'].unique() #Get the unique values of this column\n",
        "temp.sort() #Sort values\n",
        "temp #print"
      ],
      "metadata": {
        "colab": {
          "base_uri": "https://localhost:8080/"
        },
        "id": "SJ6km0bks0O7",
        "outputId": "e2fa1c1c-e338-425b-ca46-35d35e1a7ae6"
      },
      "execution_count": null,
      "outputs": [
        {
          "output_type": "execute_result",
          "data": {
            "text/plain": [
              "array(['C', 'Q', 'S'], dtype=object)"
            ]
          },
          "metadata": {},
          "execution_count": 52
        }
      ]
    },
    {
      "cell_type": "code",
      "source": [
        "#Ensuring proper data conversion\n",
        "df['pclass'].replace(['0', '1', '2', '3'], [0, 1, 2, 3], inplace=True)\n",
        "df['survived'].replace(['0', '1'], [0, 1], inplace=True)\n",
        "df['sex'].replace(['female', 'male'], [0, 1], inplace=True)\n",
        "df['sibsp'].replace(['0', '1', '2', '3', '4', '5', '6', '7', '8', '9'], [0, 1, 2, 3, 4, 5, 6, 7, 8, 9], inplace=True)\n",
        "df['parch'].replace(['0', '1', '2', '3', '4', '5', '6', '7', '8', '9'], [0, 1, 2, 3, 4, 5, 6, 7, 8, 9], inplace=True)\n",
        "df['embarked'].replace(['C', 'Q', 'S'], [0, 1, 2], inplace=True)\n",
        "df['fare'] = pd.to_numeric(df['fare']) #Convert fare column from string to numeric\n",
        "df.describe() #New statistical view of data after alterations"
      ],
      "metadata": {
        "colab": {
          "base_uri": "https://localhost:8080/",
          "height": 300
        },
        "id": "_w9XUNqhtlMy",
        "outputId": "528fa552-5714-4dc9-ac90-c4ad758a911e"
      },
      "execution_count": null,
      "outputs": [
        {
          "output_type": "execute_result",
          "data": {
            "text/plain": [
              "            pclass     survived          sex          age       sibsp  \\\n",
              "count  1306.000000  1306.000000  1306.000000  1306.000000  1306.00000   \n",
              "mean      2.296325     0.381317     0.644717    29.826880     0.50000   \n",
              "std       0.837037     0.485896     0.478782    12.837289     1.04258   \n",
              "min       1.000000     0.000000     0.000000     0.166700     0.00000   \n",
              "25%       2.000000     0.000000     0.000000    22.000000     0.00000   \n",
              "50%       3.000000     0.000000     1.000000    29.881135     0.00000   \n",
              "75%       3.000000     1.000000     1.000000    35.000000     1.00000   \n",
              "max       3.000000     1.000000     1.000000    80.000000     8.00000   \n",
              "\n",
              "             parch         fare     embarked  \n",
              "count  1306.000000  1306.000000  1306.000000  \n",
              "mean      0.385911    33.223956     1.492343  \n",
              "std       0.866357    51.765986     0.814817  \n",
              "min       0.000000     0.000000     0.000000  \n",
              "25%       0.000000     7.895800     1.000000  \n",
              "50%       0.000000    14.454200     2.000000  \n",
              "75%       0.000000    31.275000     2.000000  \n",
              "max       9.000000   512.329200     2.000000  "
            ],
            "text/html": [
              "\n",
              "  <div id=\"df-55ecad21-2d75-40f8-9168-b0656fc1bd77\">\n",
              "    <div class=\"colab-df-container\">\n",
              "      <div>\n",
              "<style scoped>\n",
              "    .dataframe tbody tr th:only-of-type {\n",
              "        vertical-align: middle;\n",
              "    }\n",
              "\n",
              "    .dataframe tbody tr th {\n",
              "        vertical-align: top;\n",
              "    }\n",
              "\n",
              "    .dataframe thead th {\n",
              "        text-align: right;\n",
              "    }\n",
              "</style>\n",
              "<table border=\"1\" class=\"dataframe\">\n",
              "  <thead>\n",
              "    <tr style=\"text-align: right;\">\n",
              "      <th></th>\n",
              "      <th>pclass</th>\n",
              "      <th>survived</th>\n",
              "      <th>sex</th>\n",
              "      <th>age</th>\n",
              "      <th>sibsp</th>\n",
              "      <th>parch</th>\n",
              "      <th>fare</th>\n",
              "      <th>embarked</th>\n",
              "    </tr>\n",
              "  </thead>\n",
              "  <tbody>\n",
              "    <tr>\n",
              "      <th>count</th>\n",
              "      <td>1306.000000</td>\n",
              "      <td>1306.000000</td>\n",
              "      <td>1306.000000</td>\n",
              "      <td>1306.000000</td>\n",
              "      <td>1306.00000</td>\n",
              "      <td>1306.000000</td>\n",
              "      <td>1306.000000</td>\n",
              "      <td>1306.000000</td>\n",
              "    </tr>\n",
              "    <tr>\n",
              "      <th>mean</th>\n",
              "      <td>2.296325</td>\n",
              "      <td>0.381317</td>\n",
              "      <td>0.644717</td>\n",
              "      <td>29.826880</td>\n",
              "      <td>0.50000</td>\n",
              "      <td>0.385911</td>\n",
              "      <td>33.223956</td>\n",
              "      <td>1.492343</td>\n",
              "    </tr>\n",
              "    <tr>\n",
              "      <th>std</th>\n",
              "      <td>0.837037</td>\n",
              "      <td>0.485896</td>\n",
              "      <td>0.478782</td>\n",
              "      <td>12.837289</td>\n",
              "      <td>1.04258</td>\n",
              "      <td>0.866357</td>\n",
              "      <td>51.765986</td>\n",
              "      <td>0.814817</td>\n",
              "    </tr>\n",
              "    <tr>\n",
              "      <th>min</th>\n",
              "      <td>1.000000</td>\n",
              "      <td>0.000000</td>\n",
              "      <td>0.000000</td>\n",
              "      <td>0.166700</td>\n",
              "      <td>0.00000</td>\n",
              "      <td>0.000000</td>\n",
              "      <td>0.000000</td>\n",
              "      <td>0.000000</td>\n",
              "    </tr>\n",
              "    <tr>\n",
              "      <th>25%</th>\n",
              "      <td>2.000000</td>\n",
              "      <td>0.000000</td>\n",
              "      <td>0.000000</td>\n",
              "      <td>22.000000</td>\n",
              "      <td>0.00000</td>\n",
              "      <td>0.000000</td>\n",
              "      <td>7.895800</td>\n",
              "      <td>1.000000</td>\n",
              "    </tr>\n",
              "    <tr>\n",
              "      <th>50%</th>\n",
              "      <td>3.000000</td>\n",
              "      <td>0.000000</td>\n",
              "      <td>1.000000</td>\n",
              "      <td>29.881135</td>\n",
              "      <td>0.00000</td>\n",
              "      <td>0.000000</td>\n",
              "      <td>14.454200</td>\n",
              "      <td>2.000000</td>\n",
              "    </tr>\n",
              "    <tr>\n",
              "      <th>75%</th>\n",
              "      <td>3.000000</td>\n",
              "      <td>1.000000</td>\n",
              "      <td>1.000000</td>\n",
              "      <td>35.000000</td>\n",
              "      <td>1.00000</td>\n",
              "      <td>0.000000</td>\n",
              "      <td>31.275000</td>\n",
              "      <td>2.000000</td>\n",
              "    </tr>\n",
              "    <tr>\n",
              "      <th>max</th>\n",
              "      <td>3.000000</td>\n",
              "      <td>1.000000</td>\n",
              "      <td>1.000000</td>\n",
              "      <td>80.000000</td>\n",
              "      <td>8.00000</td>\n",
              "      <td>9.000000</td>\n",
              "      <td>512.329200</td>\n",
              "      <td>2.000000</td>\n",
              "    </tr>\n",
              "  </tbody>\n",
              "</table>\n",
              "</div>\n",
              "      <button class=\"colab-df-convert\" onclick=\"convertToInteractive('df-55ecad21-2d75-40f8-9168-b0656fc1bd77')\"\n",
              "              title=\"Convert this dataframe to an interactive table.\"\n",
              "              style=\"display:none;\">\n",
              "        \n",
              "  <svg xmlns=\"http://www.w3.org/2000/svg\" height=\"24px\"viewBox=\"0 0 24 24\"\n",
              "       width=\"24px\">\n",
              "    <path d=\"M0 0h24v24H0V0z\" fill=\"none\"/>\n",
              "    <path d=\"M18.56 5.44l.94 2.06.94-2.06 2.06-.94-2.06-.94-.94-2.06-.94 2.06-2.06.94zm-11 1L8.5 8.5l.94-2.06 2.06-.94-2.06-.94L8.5 2.5l-.94 2.06-2.06.94zm10 10l.94 2.06.94-2.06 2.06-.94-2.06-.94-.94-2.06-.94 2.06-2.06.94z\"/><path d=\"M17.41 7.96l-1.37-1.37c-.4-.4-.92-.59-1.43-.59-.52 0-1.04.2-1.43.59L10.3 9.45l-7.72 7.72c-.78.78-.78 2.05 0 2.83L4 21.41c.39.39.9.59 1.41.59.51 0 1.02-.2 1.41-.59l7.78-7.78 2.81-2.81c.8-.78.8-2.07 0-2.86zM5.41 20L4 18.59l7.72-7.72 1.47 1.35L5.41 20z\"/>\n",
              "  </svg>\n",
              "      </button>\n",
              "      \n",
              "  <style>\n",
              "    .colab-df-container {\n",
              "      display:flex;\n",
              "      flex-wrap:wrap;\n",
              "      gap: 12px;\n",
              "    }\n",
              "\n",
              "    .colab-df-convert {\n",
              "      background-color: #E8F0FE;\n",
              "      border: none;\n",
              "      border-radius: 50%;\n",
              "      cursor: pointer;\n",
              "      display: none;\n",
              "      fill: #1967D2;\n",
              "      height: 32px;\n",
              "      padding: 0 0 0 0;\n",
              "      width: 32px;\n",
              "    }\n",
              "\n",
              "    .colab-df-convert:hover {\n",
              "      background-color: #E2EBFA;\n",
              "      box-shadow: 0px 1px 2px rgba(60, 64, 67, 0.3), 0px 1px 3px 1px rgba(60, 64, 67, 0.15);\n",
              "      fill: #174EA6;\n",
              "    }\n",
              "\n",
              "    [theme=dark] .colab-df-convert {\n",
              "      background-color: #3B4455;\n",
              "      fill: #D2E3FC;\n",
              "    }\n",
              "\n",
              "    [theme=dark] .colab-df-convert:hover {\n",
              "      background-color: #434B5C;\n",
              "      box-shadow: 0px 1px 3px 1px rgba(0, 0, 0, 0.15);\n",
              "      filter: drop-shadow(0px 1px 2px rgba(0, 0, 0, 0.3));\n",
              "      fill: #FFFFFF;\n",
              "    }\n",
              "  </style>\n",
              "\n",
              "      <script>\n",
              "        const buttonEl =\n",
              "          document.querySelector('#df-55ecad21-2d75-40f8-9168-b0656fc1bd77 button.colab-df-convert');\n",
              "        buttonEl.style.display =\n",
              "          google.colab.kernel.accessAllowed ? 'block' : 'none';\n",
              "\n",
              "        async function convertToInteractive(key) {\n",
              "          const element = document.querySelector('#df-55ecad21-2d75-40f8-9168-b0656fc1bd77');\n",
              "          const dataTable =\n",
              "            await google.colab.kernel.invokeFunction('convertToInteractive',\n",
              "                                                     [key], {});\n",
              "          if (!dataTable) return;\n",
              "\n",
              "          const docLinkHtml = 'Like what you see? Visit the ' +\n",
              "            '<a target=\"_blank\" href=https://colab.research.google.com/notebooks/data_table.ipynb>data table notebook</a>'\n",
              "            + ' to learn more about interactive tables.';\n",
              "          element.innerHTML = '';\n",
              "          dataTable['output_type'] = 'display_data';\n",
              "          await google.colab.output.renderOutput(dataTable, element);\n",
              "          const docLink = document.createElement('div');\n",
              "          docLink.innerHTML = docLinkHtml;\n",
              "          element.appendChild(docLink);\n",
              "        }\n",
              "      </script>\n",
              "    </div>\n",
              "  </div>\n",
              "  "
            ]
          },
          "metadata": {},
          "execution_count": 53
        }
      ]
    },
    {
      "cell_type": "markdown",
      "source": [
        "## **Part 4 - Data Visualization**"
      ],
      "metadata": {
        "id": "kkvzS0qpvg_I"
      }
    },
    {
      "cell_type": "markdown",
      "source": [
        "The majority of the passengers had 3rd class accommodations. This is to be expected. Oddly enough, there are more passengers with 1st class accommodations than there are passengers with 2nd class accommodations. One would expect those statistics to be swapped."
      ],
      "metadata": {
        "id": "00UZedeIwIjW"
      }
    },
    {
      "cell_type": "code",
      "source": [
        "bplt = df['pclass'].value_counts().plot.bar(title = \"Graph 1: Frequency of pclass Values\")\n",
        "bplt.set_xticklabels([\"3rd Class\", \"1st Class\", \"2nd Class\"])"
      ],
      "metadata": {
        "colab": {
          "base_uri": "https://localhost:8080/",
          "height": 946
        },
        "id": "OXE6N3Vavukm",
        "outputId": "05d88d1a-e9ec-4146-f90c-beb340cc81af"
      },
      "execution_count": null,
      "outputs": [
        {
          "output_type": "execute_result",
          "data": {
            "text/plain": [
              "[Text(0, 0, '3rd Class'), Text(0, 0, '1st Class'), Text(0, 0, '2nd Class')]"
            ]
          },
          "metadata": {},
          "execution_count": 176
        },
        {
          "output_type": "display_data",
          "data": {
            "text/plain": [
              "<Figure size 1080x1080 with 1 Axes>"
            ],
            "image/png": "[encoded data removed]"
          },
          "metadata": {
            "needs_background": "light"
          }
        }
      ]
    },
    {
      "cell_type": "markdown",
      "source": [
        "There is a higher number of passenger who perished in comparison to the number of passengers who survived. This can be attributed to many factors such as health, age, strength, access to routes of egress, number of life boats and access to life boats."
      ],
      "metadata": {
        "id": "UUs3OLvjxTQz"
      }
    },
    {
      "cell_type": "code",
      "source": [
        "bplt = df['survived'].value_counts().plot.bar(title = \"Graph 2: Frequency of survived Values\")\n",
        "bplt.set_xticklabels([\"Perished\",\"Survived\"])"
      ],
      "metadata": {
        "colab": {
          "base_uri": "https://localhost:8080/",
          "height": 332
        },
        "id": "rsKuSBHfxH_O",
        "outputId": "5bd1e381-9538-47e3-8f5a-84a0a3189a1f"
      },
      "execution_count": null,
      "outputs": [
        {
          "output_type": "execute_result",
          "data": {
            "text/plain": [
              "[Text(0, 0, 'Perished'), Text(0, 0, 'Survived')]"
            ]
          },
          "metadata": {},
          "execution_count": 58
        },
        {
          "output_type": "display_data",
          "data": {
            "text/plain": [
              "<Figure size 432x288 with 1 Axes>"
            ],
            "image/png": "[encoded data removed]"
          },
          "metadata": {
            "needs_background": "light"
          }
        }
      ]
    },
    {
      "cell_type": "markdown",
      "source": [
        "There were about twice the amount of males abord the ship in comparison to the number of females."
      ],
      "metadata": {
        "id": "7gl840jvyITC"
      }
    },
    {
      "cell_type": "code",
      "source": [
        "bplt = df['sex'].value_counts().plot.bar(title = \"Graph 3: Frequency of sex Values\")\n",
        "bplt.set_xticklabels([\"Male\",\"Female\"])"
      ],
      "metadata": {
        "colab": {
          "base_uri": "https://localhost:8080/",
          "height": 324
        },
        "id": "ZlcNX6pJx6Sz",
        "outputId": "e432a216-1f5b-4bbb-c198-21c3293657cb"
      },
      "execution_count": null,
      "outputs": [
        {
          "output_type": "execute_result",
          "data": {
            "text/plain": [
              "[Text(0, 0, 'Male'), Text(0, 0, 'Female')]"
            ]
          },
          "metadata": {},
          "execution_count": 57
        },
        {
          "output_type": "display_data",
          "data": {
            "text/plain": [
              "<Figure size 432x288 with 1 Axes>"
            ],
            "image/png": "[encoded data removed]"
          },
          "metadata": {
            "needs_background": "light"
          }
        }
      ]
    },
    {
      "cell_type": "markdown",
      "source": [
        "There are a cluster of outliers on the lower end of the graph and stretching out to the higher end of the graph. These outliers can be attributed to babies, young children and eldery passengers being aboard the ship."
      ],
      "metadata": {
        "id": "N6qMaG4KoZrv"
      }
    },
    {
      "cell_type": "code",
      "source": [
        "plt.title('Graph 4: Box Plot of age Values')\n",
        "df['age'].plot(kind='box', vert=False);"
      ],
      "metadata": {
        "colab": {
          "base_uri": "https://localhost:8080/",
          "height": 281
        },
        "id": "UC4i-vj_ne7x",
        "outputId": "315f26e9-7cae-4d5e-f567-1a075136e12d"
      },
      "execution_count": null,
      "outputs": [
        {
          "output_type": "display_data",
          "data": {
            "text/plain": [
              "<Figure size 432x288 with 1 Axes>"
            ],
            "image/png": "[encoded data removed]"
          },
          "metadata": {
            "needs_background": "light"
          }
        }
      ]
    },
    {
      "cell_type": "markdown",
      "source": [
        "The vast majority of the passengers did not have any siblings or spouses aboard the ship."
      ],
      "metadata": {
        "id": "3a7xrPzRyspt"
      }
    },
    {
      "cell_type": "code",
      "source": [
        "bplt = df['sibsp'].value_counts().plot.bar(title = \"Graph 5: Frequency of sibsp Values\")"
      ],
      "metadata": {
        "colab": {
          "base_uri": "https://localhost:8080/",
          "height": 287
        },
        "id": "o9NPCSR0yati",
        "outputId": "f1c01061-45a1-468a-bb79-06f0d95f8a93"
      },
      "execution_count": null,
      "outputs": [
        {
          "output_type": "display_data",
          "data": {
            "text/plain": [
              "<Figure size 432x288 with 1 Axes>"
            ],
            "image/png": "[encoded data removed]"
          },
          "metadata": {
            "needs_background": "light"
          }
        }
      ]
    },
    {
      "cell_type": "markdown",
      "source": [
        "The vast majority of passengers did not have any parents or children aboard the ship."
      ],
      "metadata": {
        "id": "ElOX045zzWNi"
      }
    },
    {
      "cell_type": "code",
      "source": [
        "bplt = df['parch'].value_counts().plot.bar(title = \"Graph 6: Frequency of parch Values\")"
      ],
      "metadata": {
        "colab": {
          "base_uri": "https://localhost:8080/",
          "height": 287
        },
        "id": "57tvN2dgzPJT",
        "outputId": "8216a72f-634f-47fc-c4de-c595ec7f98ca"
      },
      "execution_count": null,
      "outputs": [
        {
          "output_type": "display_data",
          "data": {
            "text/plain": [
              "<Figure size 432x288 with 1 Axes>"
            ],
            "image/png": "[encoded data removed]"
          },
          "metadata": {
            "needs_background": "light"
          }
        }
      ]
    },
    {
      "cell_type": "markdown",
      "source": [
        "There are a number of outliers in the higher price ranges of the fare graph. Statistically speaking this is odd. It is likely these outliers are the fares for the 1st and 2nd class tickets which likely cost far more than the 3rd class tickets. These outliers will be left alone since it is a matter of record that these tickets were reportedly purchased at these prices."
      ],
      "metadata": {
        "id": "4z2ynbHh0lKN"
      }
    },
    {
      "cell_type": "code",
      "source": [
        "plt.title('Graph 7: Box Plot of fare Values')\n",
        "df['fare'].plot(kind='box', vert=False);"
      ],
      "metadata": {
        "colab": {
          "base_uri": "https://localhost:8080/",
          "height": 281
        },
        "id": "5hBPq3D7zTiY",
        "outputId": "d6fd5ace-b1e0-4b14-e126-a6fafe2f7bfd"
      },
      "execution_count": null,
      "outputs": [
        {
          "output_type": "display_data",
          "data": {
            "text/plain": [
              "<Figure size 432x288 with 1 Axes>"
            ],
            "image/png": "[encoded data removed]"
          },
          "metadata": {
            "needs_background": "light"
          }
        }
      ]
    },
    {
      "cell_type": "markdown",
      "source": [
        "The majority of the passengers boarded the ship at Southampton while the minority of the passengers boarded at Cherbourg and Queenstown.\n"
      ],
      "metadata": {
        "id": "RMZob7x92ESf"
      }
    },
    {
      "cell_type": "code",
      "source": [
        "bplt = df['embarked'].value_counts().plot.bar(title = \"Graph 8: Frequency of embarked Values\")\n",
        "bplt.set_xticklabels([\"Southampton\",\"Cherbourg\",\"Queenstown\"])"
      ],
      "metadata": {
        "colab": {
          "base_uri": "https://localhost:8080/",
          "height": 355
        },
        "id": "9xK4m4rQ15R9",
        "outputId": "636ca134-2277-42b4-95b4-3a83d6d5a028"
      },
      "execution_count": null,
      "outputs": [
        {
          "output_type": "execute_result",
          "data": {
            "text/plain": [
              "[Text(0, 0, 'Southampton'), Text(0, 0, 'Cherbourg'), Text(0, 0, 'Queenstown')]"
            ]
          },
          "metadata": {},
          "execution_count": 63
        },
        {
          "output_type": "display_data",
          "data": {
            "text/plain": [
              "<Figure size 432x288 with 1 Axes>"
            ],
            "image/png": "[encoded data removed]"
          },
          "metadata": {
            "needs_background": "light"
          }
        }
      ]
    },
    {
      "cell_type": "code",
      "source": [
        "#Display numerical representation of correlation between numerical attributes\n",
        "df.corr()"
      ],
      "metadata": {
        "colab": {
          "base_uri": "https://localhost:8080/",
          "height": 300
        },
        "id": "UovL88FS5S-n",
        "outputId": "872c7b19-4356-4922-b265-04906f73fbd0"
      },
      "execution_count": null,
      "outputs": [
        {
          "output_type": "execute_result",
          "data": {
            "text/plain": [
              "            pclass  survived       sex       age     sibsp     parch  \\\n",
              "pclass    1.000000 -0.310064  0.121407 -0.366695  0.060149  0.017596   \n",
              "survived -0.310064  1.000000 -0.527248 -0.052135 -0.027228  0.083400   \n",
              "sex       0.121407 -0.527248  1.000000  0.059639 -0.110529 -0.214179   \n",
              "age      -0.366695 -0.052135  0.059639  1.000000 -0.189671 -0.129637   \n",
              "sibsp     0.060149 -0.027228 -0.110529 -0.189671  1.000000  0.373281   \n",
              "parch     0.017596  0.083400 -0.214179 -0.129637  0.373281  1.000000   \n",
              "fare     -0.557861  0.242960 -0.184034  0.170266  0.161030  0.222327   \n",
              "embarked  0.187027 -0.176489  0.099090 -0.074185  0.066299  0.045438   \n",
              "\n",
              "              fare  embarked  \n",
              "pclass   -0.557861  0.187027  \n",
              "survived  0.242960 -0.176489  \n",
              "sex      -0.184034  0.099090  \n",
              "age       0.170266 -0.074185  \n",
              "sibsp     0.161030  0.066299  \n",
              "parch     0.222327  0.045438  \n",
              "fare      1.000000 -0.239086  \n",
              "embarked -0.239086  1.000000  "
            ],
            "text/html": [
              "\n",
              "  <div id=\"df-0ed6161f-897d-4612-b556-5c846ab7aecc\">\n",
              "    <div class=\"colab-df-container\">\n",
              "      <div>\n",
              "<style scoped>\n",
              "    .dataframe tbody tr th:only-of-type {\n",
              "        vertical-align: middle;\n",
              "    }\n",
              "\n",
              "    .dataframe tbody tr th {\n",
              "        vertical-align: top;\n",
              "    }\n",
              "\n",
              "    .dataframe thead th {\n",
              "        text-align: right;\n",
              "    }\n",
              "</style>\n",
              "<table border=\"1\" class=\"dataframe\">\n",
              "  <thead>\n",
              "    <tr style=\"text-align: right;\">\n",
              "      <th></th>\n",
              "      <th>pclass</th>\n",
              "      <th>survived</th>\n",
              "      <th>sex</th>\n",
              "      <th>age</th>\n",
              "      <th>sibsp</th>\n",
              "      <th>parch</th>\n",
              "      <th>fare</th>\n",
              "      <th>embarked</th>\n",
              "    </tr>\n",
              "  </thead>\n",
              "  <tbody>\n",
              "    <tr>\n",
              "      <th>pclass</th>\n",
              "      <td>1.000000</td>\n",
              "      <td>-0.310064</td>\n",
              "      <td>0.121407</td>\n",
              "      <td>-0.366695</td>\n",
              "      <td>0.060149</td>\n",
              "      <td>0.017596</td>\n",
              "      <td>-0.557861</td>\n",
              "      <td>0.187027</td>\n",
              "    </tr>\n",
              "    <tr>\n",
              "      <th>survived</th>\n",
              "      <td>-0.310064</td>\n",
              "      <td>1.000000</td>\n",
              "      <td>-0.527248</td>\n",
              "      <td>-0.052135</td>\n",
              "      <td>-0.027228</td>\n",
              "      <td>0.083400</td>\n",
              "      <td>0.242960</td>\n",
              "      <td>-0.176489</td>\n",
              "    </tr>\n",
              "    <tr>\n",
              "      <th>sex</th>\n",
              "      <td>0.121407</td>\n",
              "      <td>-0.527248</td>\n",
              "      <td>1.000000</td>\n",
              "      <td>0.059639</td>\n",
              "      <td>-0.110529</td>\n",
              "      <td>-0.214179</td>\n",
              "      <td>-0.184034</td>\n",
              "      <td>0.099090</td>\n",
              "    </tr>\n",
              "    <tr>\n",
              "      <th>age</th>\n",
              "      <td>-0.366695</td>\n",
              "      <td>-0.052135</td>\n",
              "      <td>0.059639</td>\n",
              "      <td>1.000000</td>\n",
              "      <td>-0.189671</td>\n",
              "      <td>-0.129637</td>\n",
              "      <td>0.170266</td>\n",
              "      <td>-0.074185</td>\n",
              "    </tr>\n",
              "    <tr>\n",
              "      <th>sibsp</th>\n",
              "      <td>0.060149</td>\n",
              "      <td>-0.027228</td>\n",
              "      <td>-0.110529</td>\n",
              "      <td>-0.189671</td>\n",
              "      <td>1.000000</td>\n",
              "      <td>0.373281</td>\n",
              "      <td>0.161030</td>\n",
              "      <td>0.066299</td>\n",
              "    </tr>\n",
              "    <tr>\n",
              "      <th>parch</th>\n",
              "      <td>0.017596</td>\n",
              "      <td>0.083400</td>\n",
              "      <td>-0.214179</td>\n",
              "      <td>-0.129637</td>\n",
              "      <td>0.373281</td>\n",
              "      <td>1.000000</td>\n",
              "      <td>0.222327</td>\n",
              "      <td>0.045438</td>\n",
              "    </tr>\n",
              "    <tr>\n",
              "      <th>fare</th>\n",
              "      <td>-0.557861</td>\n",
              "      <td>0.242960</td>\n",
              "      <td>-0.184034</td>\n",
              "      <td>0.170266</td>\n",
              "      <td>0.161030</td>\n",
              "      <td>0.222327</td>\n",
              "      <td>1.000000</td>\n",
              "      <td>-0.239086</td>\n",
              "    </tr>\n",
              "    <tr>\n",
              "      <th>embarked</th>\n",
              "      <td>0.187027</td>\n",
              "      <td>-0.176489</td>\n",
              "      <td>0.099090</td>\n",
              "      <td>-0.074185</td>\n",
              "      <td>0.066299</td>\n",
              "      <td>0.045438</td>\n",
              "      <td>-0.239086</td>\n",
              "      <td>1.000000</td>\n",
              "    </tr>\n",
              "  </tbody>\n",
              "</table>\n",
              "</div>\n",
              "      <button class=\"colab-df-convert\" onclick=\"convertToInteractive('df-0ed6161f-897d-4612-b556-5c846ab7aecc')\"\n",
              "              title=\"Convert this dataframe to an interactive table.\"\n",
              "              style=\"display:none;\">\n",
              "        \n",
              "  <svg xmlns=\"http://www.w3.org/2000/svg\" height=\"24px\"viewBox=\"0 0 24 24\"\n",
              "       width=\"24px\">\n",
              "    <path d=\"M0 0h24v24H0V0z\" fill=\"none\"/>\n",
              "    <path d=\"M18.56 5.44l.94 2.06.94-2.06 2.06-.94-2.06-.94-.94-2.06-.94 2.06-2.06.94zm-11 1L8.5 8.5l.94-2.06 2.06-.94-2.06-.94L8.5 2.5l-.94 2.06-2.06.94zm10 10l.94 2.06.94-2.06 2.06-.94-2.06-.94-.94-2.06-.94 2.06-2.06.94z\"/><path d=\"M17.41 7.96l-1.37-1.37c-.4-.4-.92-.59-1.43-.59-.52 0-1.04.2-1.43.59L10.3 9.45l-7.72 7.72c-.78.78-.78 2.05 0 2.83L4 21.41c.39.39.9.59 1.41.59.51 0 1.02-.2 1.41-.59l7.78-7.78 2.81-2.81c.8-.78.8-2.07 0-2.86zM5.41 20L4 18.59l7.72-7.72 1.47 1.35L5.41 20z\"/>\n",
              "  </svg>\n",
              "      </button>\n",
              "      \n",
              "  <style>\n",
              "    .colab-df-container {\n",
              "      display:flex;\n",
              "      flex-wrap:wrap;\n",
              "      gap: 12px;\n",
              "    }\n",
              "\n",
              "    .colab-df-convert {\n",
              "      background-color: #E8F0FE;\n",
              "      border: none;\n",
              "      border-radius: 50%;\n",
              "      cursor: pointer;\n",
              "      display: none;\n",
              "      fill: #1967D2;\n",
              "      height: 32px;\n",
              "      padding: 0 0 0 0;\n",
              "      width: 32px;\n",
              "    }\n",
              "\n",
              "    .colab-df-convert:hover {\n",
              "      background-color: #E2EBFA;\n",
              "      box-shadow: 0px 1px 2px rgba(60, 64, 67, 0.3), 0px 1px 3px 1px rgba(60, 64, 67, 0.15);\n",
              "      fill: #174EA6;\n",
              "    }\n",
              "\n",
              "    [theme=dark] .colab-df-convert {\n",
              "      background-color: #3B4455;\n",
              "      fill: #D2E3FC;\n",
              "    }\n",
              "\n",
              "    [theme=dark] .colab-df-convert:hover {\n",
              "      background-color: #434B5C;\n",
              "      box-shadow: 0px 1px 3px 1px rgba(0, 0, 0, 0.15);\n",
              "      filter: drop-shadow(0px 1px 2px rgba(0, 0, 0, 0.3));\n",
              "      fill: #FFFFFF;\n",
              "    }\n",
              "  </style>\n",
              "\n",
              "      <script>\n",
              "        const buttonEl =\n",
              "          document.querySelector('#df-0ed6161f-897d-4612-b556-5c846ab7aecc button.colab-df-convert');\n",
              "        buttonEl.style.display =\n",
              "          google.colab.kernel.accessAllowed ? 'block' : 'none';\n",
              "\n",
              "        async function convertToInteractive(key) {\n",
              "          const element = document.querySelector('#df-0ed6161f-897d-4612-b556-5c846ab7aecc');\n",
              "          const dataTable =\n",
              "            await google.colab.kernel.invokeFunction('convertToInteractive',\n",
              "                                                     [key], {});\n",
              "          if (!dataTable) return;\n",
              "\n",
              "          const docLinkHtml = 'Like what you see? Visit the ' +\n",
              "            '<a target=\"_blank\" href=https://colab.research.google.com/notebooks/data_table.ipynb>data table notebook</a>'\n",
              "            + ' to learn more about interactive tables.';\n",
              "          element.innerHTML = '';\n",
              "          dataTable['output_type'] = 'display_data';\n",
              "          await google.colab.output.renderOutput(dataTable, element);\n",
              "          const docLink = document.createElement('div');\n",
              "          docLink.innerHTML = docLinkHtml;\n",
              "          element.appendChild(docLink);\n",
              "        }\n",
              "      </script>\n",
              "    </div>\n",
              "  </div>\n",
              "  "
            ]
          },
          "metadata": {},
          "execution_count": 64
        }
      ]
    },
    {
      "cell_type": "code",
      "source": [
        "corr = df.corr()\n",
        "plt.rcParams.update({'font.size': 12,'figure.figsize':(15,15)})\n",
        "sns.heatmap(data=corr, square=True , annot=True, cbar=True)"
      ],
      "metadata": {
        "colab": {
          "base_uri": "https://localhost:8080/",
          "height": 868
        },
        "id": "0UGlgLsd5ZTv",
        "outputId": "5024ed1e-6bbd-4f98-9eaa-11eb4c3cfb4b"
      },
      "execution_count": null,
      "outputs": [
        {
          "output_type": "execute_result",
          "data": {
            "text/plain": [
              "<matplotlib.axes._subplots.AxesSubplot at 0x7ffb6cd3a910>"
            ]
          },
          "metadata": {},
          "execution_count": 65
        },
        {
          "output_type": "display_data",
          "data": {
            "text/plain": [
              "<Figure size 1080x1080 with 2 Axes>"
            ],
            "image/png": "[encoded data removed]"
          },
          "metadata": {
            "needs_background": "light"
          }
        }
      ]
    },
    {
      "cell_type": "code",
      "source": [
        "#Display graphical representation of correlation between numerical attributes\n",
        "sns.pairplot(data=df)"
      ],
      "metadata": {
        "colab": {
          "base_uri": "https://localhost:8080/",
          "height": 1000
        },
        "id": "xmPdcUQo5mFG",
        "outputId": "a4bc3a3f-d582-4454-d791-7c8a4a894eda"
      },
      "execution_count": null,
      "outputs": [
        {
          "output_type": "execute_result",
          "data": {
            "text/plain": [
              "<seaborn.axisgrid.PairGrid at 0x7ffb6ccd7050>"
            ]
          },
          "metadata": {},
          "execution_count": 66
        },
        {
          "output_type": "display_data",
          "data": {
            "text/plain": [
              "<Figure size 1440x1440 with 72 Axes>"
            ],
            "image/png": "[encoded data removed]"
          },
          "metadata": {
            "needs_background": "light"
          }
        }
      ]
    },
    {
      "cell_type": "markdown",
      "source": [
        "### **Preliminary Conclusion**\n",
        "Judging from the generated graphs of the pair plot and the heat map, it would appear that there won't be many attributes that will contribute meaningful data to the models. We say this because the pclass, sex, age, sibsp and embarked attributes all have a negative correlation with the survived attribute. These attributes will likely receive low precedence during feature selection.\n",
        "\n",
        "It is possbile that these attributes have a low correlation with survived because they are quantifications of happenstance circumstances. For example, it doesn't matter if you're male or femamle or at which destination you've boarded the boat. Regardless of these attributes, you either have the same or a random chance of survival just like any other passenger.\n",
        "\n",
        "The only 2 attributes that have a positive correlation with survived are parch and fare. We find this to be unexpected because we would consider these attributes to be happenstance circumstances just like the aforementioned attributes with negative correlations. Parch is a count of how many parents and children you have aboard the ship. We expected parch and sibsp to have similar amounts of correlation to the survive attribute. Remember, sibsp is a count of how many siblings and spouses you have aboard the ship. Both parch and sibsp are similar in that regard.\n",
        "\n",
        "Oddly enough, we see that parch has a positive correlation while sibsp has a negative correlation. It is possible that the chaos of the sinking event might've hindered the family members of sibsp to a higher degree than the members of parch. We also have to admit that this argument is predicated on the assumption that the family members of both groups were cooperative with each other and were in the physical position to act on that cooperation. Neither of these predicates are guaranteed in such a chaotic event. The correlation ratings of sibsp and parch are -.027 and .083 respectively. Numerically, these numbers aren't far apart so it is possible that the fact that one rating is negative while the other rating is something that just happens to be.\n",
        "\n",
        "Another odd obeservation is the positive correlation between the survived and fare attribute. Perhaps the passengers who paid a higher fare for first class and second class tickets were housed in cabins that were advantageous in terms of securing a route of egress. We fully expected this attribute to have a negative correlation because how much one paid for their ticket is seemingly random. Even if that ticket houses you in a cabin that is near a route of egress, that does not mean you'll be near that route of egress once the ship starts sinking.\n",
        "\n",
        "In summation, we believe it will be difficult to generate a model that predicts the survival of passengers with a high amount of accuracy due to the dropped columns with missing data and the remaining columns with low correlations to the survived attribute.\n",
        "## **Part 5a: K-Best Feature Selection**\n",
        "In the next section, we will use K-best and a Chi Squared test to select features for 2 different models."
      ],
      "metadata": {
        "id": "DlikJhGb7EdH"
      }
    },
    {
      "cell_type": "code",
      "source": [
        "#K-Best feature selection\n",
        "from sklearn.feature_selection import SelectKBest\n",
        "from sklearn.feature_selection import f_regression\n",
        "\n",
        "target = df['survived']\n",
        "features = df.drop('survived',axis=1).copy()\n",
        "feature_names = list(features.columns)\n",
        "\n",
        "selection_kBest = SelectKBest(f_regression,k = 5).fit(features,target)\n",
        "\n",
        "#find which columns were chosen\n",
        "features_kbest = selection_kBest.get_support()\n",
        "print(\"Overall features: \", df.columns,'\\n')\n",
        "print(\"Chosen features: \", features.columns[features_kbest],'\\n')\n",
        "\n",
        "selection_kBest.scores_"
      ],
      "metadata": {
        "colab": {
          "base_uri": "https://localhost:8080/"
        },
        "id": "QcYnt1QtJRBY",
        "outputId": "008056ee-3d3e-4331-ea87-85266f66134e"
      },
      "execution_count": null,
      "outputs": [
        {
          "output_type": "stream",
          "name": "stdout",
          "text": [
            "Overall features:  Index(['pclass', 'survived', 'sex', 'age', 'sibsp', 'parch', 'fare',\n",
            "       'embarked'],\n",
            "      dtype='object') \n",
            "\n",
            "Chosen features:  Index(['pclass', 'sex', 'parch', 'fare', 'embarked'], dtype='object') \n",
            "\n"
          ]
        },
        {
          "output_type": "execute_result",
          "data": {
            "text/plain": [
              "array([138.70082864, 502.06979992,   3.55397706,   0.96742613,\n",
              "         9.13367143,  81.80366818,  41.92343674])"
            ]
          },
          "metadata": {},
          "execution_count": 67
        }
      ]
    },
    {
      "cell_type": "code",
      "source": [
        "univariate_analysis_df = pd.DataFrame({'Chosen' : features.columns[features_kbest]})\n",
        "print(univariate_analysis_df)"
      ],
      "metadata": {
        "id": "DLp4fx17RgJx",
        "outputId": "05f8ab99-13c3-408c-8523-79903bc3e524",
        "colab": {
          "base_uri": "https://localhost:8080/"
        }
      },
      "execution_count": null,
      "outputs": [
        {
          "output_type": "stream",
          "name": "stdout",
          "text": [
            "     Chosen\n",
            "0    pclass\n",
            "1       sex\n",
            "2     parch\n",
            "3      fare\n",
            "4  embarked\n"
          ]
        }
      ]
    },
    {
      "cell_type": "markdown",
      "source": [
        "## **Part 5b: Chi-Square Feature Selection**"
      ],
      "metadata": {
        "id": "7sVyRgHqRt3A"
      }
    },
    {
      "cell_type": "code",
      "source": [
        "#Chi-Square feature selection\n",
        "from sklearn.feature_selection import chi2\n",
        "from sklearn.feature_selection import SelectKBest\n",
        "\n",
        "X = df.drop('survived',1)\n",
        "y = df['survived']\n",
        "\n",
        "test = SelectKBest(score_func=chi2, k=5)\n",
        "fit = test.fit(X, y)"
      ],
      "metadata": {
        "id": "dUHFsobmRtEP",
        "colab": {
          "base_uri": "https://localhost:8080/"
        },
        "outputId": "b4404ab6-ac8f-453c-9857-2fdfc1f45dd0"
      },
      "execution_count": null,
      "outputs": [
        {
          "output_type": "stream",
          "name": "stderr",
          "text": [
            "/usr/local/lib/python3.7/dist-packages/ipykernel_launcher.py:5: FutureWarning: In a future version of pandas all arguments of DataFrame.drop except for the argument 'labels' will be keyword-only\n",
            "  \"\"\"\n"
          ]
        }
      ]
    },
    {
      "cell_type": "code",
      "source": [
        "feature_score = pd.DataFrame()\n",
        "\n",
        "for i in range(X.shape[1]):\n",
        "    new = pd.DataFrame({'Features' : X.columns[i],\n",
        "                        'Score' : fit.scores_[i]}, index=[i])\n",
        "    \n",
        "    feature_score = pd.concat([feature_score, new])"
      ],
      "metadata": {
        "id": "Z5fnLaFsSZQW"
      },
      "execution_count": null,
      "outputs": []
    },
    {
      "cell_type": "code",
      "source": [
        "#The 4 attributes with the higest scores will be selected\n",
        "feature_score"
      ],
      "metadata": {
        "id": "rbhqBHO3Scwe",
        "outputId": "1bbfd17d-e988-47ac-85f8-b26d5bb2415b",
        "colab": {
          "base_uri": "https://localhost:8080/",
          "height": 269
        }
      },
      "execution_count": null,
      "outputs": [
        {
          "output_type": "execute_result",
          "data": {
            "text/plain": [
              "   Features        Score\n",
              "0    pclass    38.279726\n",
              "1       sex   128.987477\n",
              "2       age    19.597666\n",
              "3     sibsp     2.103185\n",
              "4     parch    17.654437\n",
              "5      fare  6213.255550\n",
              "6  embarked    18.084148"
            ],
            "text/html": [
              "\n",
              "  <div id=\"df-cfd776c0-d4d5-4b87-b58e-b473c375bb22\">\n",
              "    <div class=\"colab-df-container\">\n",
              "      <div>\n",
              "<style scoped>\n",
              "    .dataframe tbody tr th:only-of-type {\n",
              "        vertical-align: middle;\n",
              "    }\n",
              "\n",
              "    .dataframe tbody tr th {\n",
              "        vertical-align: top;\n",
              "    }\n",
              "\n",
              "    .dataframe thead th {\n",
              "        text-align: right;\n",
              "    }\n",
              "</style>\n",
              "<table border=\"1\" class=\"dataframe\">\n",
              "  <thead>\n",
              "    <tr style=\"text-align: right;\">\n",
              "      <th></th>\n",
              "      <th>Features</th>\n",
              "      <th>Score</th>\n",
              "    </tr>\n",
              "  </thead>\n",
              "  <tbody>\n",
              "    <tr>\n",
              "      <th>0</th>\n",
              "      <td>pclass</td>\n",
              "      <td>38.279726</td>\n",
              "    </tr>\n",
              "    <tr>\n",
              "      <th>1</th>\n",
              "      <td>sex</td>\n",
              "      <td>128.987477</td>\n",
              "    </tr>\n",
              "    <tr>\n",
              "      <th>2</th>\n",
              "      <td>age</td>\n",
              "      <td>19.597666</td>\n",
              "    </tr>\n",
              "    <tr>\n",
              "      <th>3</th>\n",
              "      <td>sibsp</td>\n",
              "      <td>2.103185</td>\n",
              "    </tr>\n",
              "    <tr>\n",
              "      <th>4</th>\n",
              "      <td>parch</td>\n",
              "      <td>17.654437</td>\n",
              "    </tr>\n",
              "    <tr>\n",
              "      <th>5</th>\n",
              "      <td>fare</td>\n",
              "      <td>6213.255550</td>\n",
              "    </tr>\n",
              "    <tr>\n",
              "      <th>6</th>\n",
              "      <td>embarked</td>\n",
              "      <td>18.084148</td>\n",
              "    </tr>\n",
              "  </tbody>\n",
              "</table>\n",
              "</div>\n",
              "      <button class=\"colab-df-convert\" onclick=\"convertToInteractive('df-cfd776c0-d4d5-4b87-b58e-b473c375bb22')\"\n",
              "              title=\"Convert this dataframe to an interactive table.\"\n",
              "              style=\"display:none;\">\n",
              "        \n",
              "  <svg xmlns=\"http://www.w3.org/2000/svg\" height=\"24px\"viewBox=\"0 0 24 24\"\n",
              "       width=\"24px\">\n",
              "    <path d=\"M0 0h24v24H0V0z\" fill=\"none\"/>\n",
              "    <path d=\"M18.56 5.44l.94 2.06.94-2.06 2.06-.94-2.06-.94-.94-2.06-.94 2.06-2.06.94zm-11 1L8.5 8.5l.94-2.06 2.06-.94-2.06-.94L8.5 2.5l-.94 2.06-2.06.94zm10 10l.94 2.06.94-2.06 2.06-.94-2.06-.94-.94-2.06-.94 2.06-2.06.94z\"/><path d=\"M17.41 7.96l-1.37-1.37c-.4-.4-.92-.59-1.43-.59-.52 0-1.04.2-1.43.59L10.3 9.45l-7.72 7.72c-.78.78-.78 2.05 0 2.83L4 21.41c.39.39.9.59 1.41.59.51 0 1.02-.2 1.41-.59l7.78-7.78 2.81-2.81c.8-.78.8-2.07 0-2.86zM5.41 20L4 18.59l7.72-7.72 1.47 1.35L5.41 20z\"/>\n",
              "  </svg>\n",
              "      </button>\n",
              "      \n",
              "  <style>\n",
              "    .colab-df-container {\n",
              "      display:flex;\n",
              "      flex-wrap:wrap;\n",
              "      gap: 12px;\n",
              "    }\n",
              "\n",
              "    .colab-df-convert {\n",
              "      background-color: #E8F0FE;\n",
              "      border: none;\n",
              "      border-radius: 50%;\n",
              "      cursor: pointer;\n",
              "      display: none;\n",
              "      fill: #1967D2;\n",
              "      height: 32px;\n",
              "      padding: 0 0 0 0;\n",
              "      width: 32px;\n",
              "    }\n",
              "\n",
              "    .colab-df-convert:hover {\n",
              "      background-color: #E2EBFA;\n",
              "      box-shadow: 0px 1px 2px rgba(60, 64, 67, 0.3), 0px 1px 3px 1px rgba(60, 64, 67, 0.15);\n",
              "      fill: #174EA6;\n",
              "    }\n",
              "\n",
              "    [theme=dark] .colab-df-convert {\n",
              "      background-color: #3B4455;\n",
              "      fill: #D2E3FC;\n",
              "    }\n",
              "\n",
              "    [theme=dark] .colab-df-convert:hover {\n",
              "      background-color: #434B5C;\n",
              "      box-shadow: 0px 1px 3px 1px rgba(0, 0, 0, 0.15);\n",
              "      filter: drop-shadow(0px 1px 2px rgba(0, 0, 0, 0.3));\n",
              "      fill: #FFFFFF;\n",
              "    }\n",
              "  </style>\n",
              "\n",
              "      <script>\n",
              "        const buttonEl =\n",
              "          document.querySelector('#df-cfd776c0-d4d5-4b87-b58e-b473c375bb22 button.colab-df-convert');\n",
              "        buttonEl.style.display =\n",
              "          google.colab.kernel.accessAllowed ? 'block' : 'none';\n",
              "\n",
              "        async function convertToInteractive(key) {\n",
              "          const element = document.querySelector('#df-cfd776c0-d4d5-4b87-b58e-b473c375bb22');\n",
              "          const dataTable =\n",
              "            await google.colab.kernel.invokeFunction('convertToInteractive',\n",
              "                                                     [key], {});\n",
              "          if (!dataTable) return;\n",
              "\n",
              "          const docLinkHtml = 'Like what you see? Visit the ' +\n",
              "            '<a target=\"_blank\" href=https://colab.research.google.com/notebooks/data_table.ipynb>data table notebook</a>'\n",
              "            + ' to learn more about interactive tables.';\n",
              "          element.innerHTML = '';\n",
              "          dataTable['output_type'] = 'display_data';\n",
              "          await google.colab.output.renderOutput(dataTable, element);\n",
              "          const docLink = document.createElement('div');\n",
              "          docLink.innerHTML = docLinkHtml;\n",
              "          element.appendChild(docLink);\n",
              "        }\n",
              "      </script>\n",
              "    </div>\n",
              "  </div>\n",
              "  "
            ]
          },
          "metadata": {},
          "execution_count": 71
        }
      ]
    },
    {
      "cell_type": "markdown",
      "source": [
        "Fare has a very high chi-squared value which shows that survival is somewhat dependent on price paid for the ticket."
      ],
      "metadata": {
        "id": "kp1rkxjza4jo"
      }
    },
    {
      "cell_type": "markdown",
      "source": [
        "## **Part 6.1 - Logistic Regression Model from Original Data**"
      ],
      "metadata": {
        "id": "idJJf105TL4l"
      }
    },
    {
      "cell_type": "code",
      "source": [
        "#Form model1 from all of the attributes in the original dataframe\n",
        "y, X = dmatrices('survived ~ C(pclass) + C(sex) + age + C(sibsp) + C(parch) + fare + C(embarked)', df, return_type=\"dataframe\")\n",
        "y = np.ravel(y)\n",
        "np.warnings.filterwarnings('ignore')\n",
        "model1 = LogisticRegression()\n",
        "model1 = model1.fit(X, y)\n",
        "model1.score(X, y) #Score of model1"
      ],
      "metadata": {
        "id": "TYK2Tdb6TNIF",
        "outputId": "62cfdf19-e10f-4010-f8ee-ffc47ebb2892",
        "colab": {
          "base_uri": "https://localhost:8080/"
        }
      },
      "execution_count": null,
      "outputs": [
        {
          "output_type": "execute_result",
          "data": {
            "text/plain": [
              "0.7963246554364471"
            ]
          },
          "metadata": {},
          "execution_count": 72
        }
      ]
    },
    {
      "cell_type": "code",
      "source": [
        "y.mean()"
      ],
      "metadata": {
        "id": "HgWet18wTOGM",
        "outputId": "b5fdd0ba-5664-4be1-eab7-05fba523e99d",
        "colab": {
          "base_uri": "https://localhost:8080/"
        }
      },
      "execution_count": null,
      "outputs": [
        {
          "output_type": "execute_result",
          "data": {
            "text/plain": [
              "0.38131699846860645"
            ]
          },
          "metadata": {},
          "execution_count": 73
        }
      ]
    },
    {
      "cell_type": "code",
      "source": [
        "#Split data into test data and training data\n",
        "X_train, X_test, y_train, y_test = train_test_split(X, y, test_size=0.2, random_state=0)\n",
        "model1 = LogisticRegression()\n",
        "model1.fit(X_train, y_train)"
      ],
      "metadata": {
        "id": "CxX7JPzdTN-H",
        "outputId": "56831f44-7bd8-48ab-da3d-2b0fa4084950",
        "colab": {
          "base_uri": "https://localhost:8080/"
        }
      },
      "execution_count": null,
      "outputs": [
        {
          "output_type": "execute_result",
          "data": {
            "text/plain": [
              "LogisticRegression()"
            ]
          },
          "metadata": {},
          "execution_count": 74
        }
      ]
    },
    {
      "cell_type": "code",
      "source": [
        "#Use model to make predictions for survival\n",
        "predicted = model1.predict(X_test)\n",
        "probs = model1.predict_proba(X_test)\n",
        "dt = pd.DataFrame(probs)\n",
        "dt['predictions1'] = predicted\n",
        "\n",
        "filtered_dt = dt[dt['predictions1'] == 1]\n",
        "filtered_dt"
      ],
      "metadata": {
        "id": "GoT92zePTNyd",
        "outputId": "ebd8c7cd-f37b-427b-c8da-e22a48b61d07",
        "colab": {
          "base_uri": "https://localhost:8080/",
          "height": 424
        }
      },
      "execution_count": null,
      "outputs": [
        {
          "output_type": "execute_result",
          "data": {
            "text/plain": [
              "            0         1  predictions1\n",
              "3    0.398123  0.601877           1.0\n",
              "5    0.465630  0.534370           1.0\n",
              "10   0.173244  0.826756           1.0\n",
              "13   0.398119  0.601881           1.0\n",
              "15   0.119491  0.880509           1.0\n",
              "..        ...       ...           ...\n",
              "254  0.390961  0.609039           1.0\n",
              "255  0.241520  0.758480           1.0\n",
              "256  0.345323  0.654677           1.0\n",
              "257  0.246811  0.753189           1.0\n",
              "258  0.310114  0.689886           1.0\n",
              "\n",
              "[98 rows x 3 columns]"
            ],
            "text/html": [
              "\n",
              "  <div id=\"df-fc412052-6975-495d-978c-d9ea44fa1cca\">\n",
              "    <div class=\"colab-df-container\">\n",
              "      <div>\n",
              "<style scoped>\n",
              "    .dataframe tbody tr th:only-of-type {\n",
              "        vertical-align: middle;\n",
              "    }\n",
              "\n",
              "    .dataframe tbody tr th {\n",
              "        vertical-align: top;\n",
              "    }\n",
              "\n",
              "    .dataframe thead th {\n",
              "        text-align: right;\n",
              "    }\n",
              "</style>\n",
              "<table border=\"1\" class=\"dataframe\">\n",
              "  <thead>\n",
              "    <tr style=\"text-align: right;\">\n",
              "      <th></th>\n",
              "      <th>0</th>\n",
              "      <th>1</th>\n",
              "      <th>predictions1</th>\n",
              "    </tr>\n",
              "  </thead>\n",
              "  <tbody>\n",
              "    <tr>\n",
              "      <th>3</th>\n",
              "      <td>0.398123</td>\n",
              "      <td>0.601877</td>\n",
              "      <td>1.0</td>\n",
              "    </tr>\n",
              "    <tr>\n",
              "      <th>5</th>\n",
              "      <td>0.465630</td>\n",
              "      <td>0.534370</td>\n",
              "      <td>1.0</td>\n",
              "    </tr>\n",
              "    <tr>\n",
              "      <th>10</th>\n",
              "      <td>0.173244</td>\n",
              "      <td>0.826756</td>\n",
              "      <td>1.0</td>\n",
              "    </tr>\n",
              "    <tr>\n",
              "      <th>13</th>\n",
              "      <td>0.398119</td>\n",
              "      <td>0.601881</td>\n",
              "      <td>1.0</td>\n",
              "    </tr>\n",
              "    <tr>\n",
              "      <th>15</th>\n",
              "      <td>0.119491</td>\n",
              "      <td>0.880509</td>\n",
              "      <td>1.0</td>\n",
              "    </tr>\n",
              "    <tr>\n",
              "      <th>...</th>\n",
              "      <td>...</td>\n",
              "      <td>...</td>\n",
              "      <td>...</td>\n",
              "    </tr>\n",
              "    <tr>\n",
              "      <th>254</th>\n",
              "      <td>0.390961</td>\n",
              "      <td>0.609039</td>\n",
              "      <td>1.0</td>\n",
              "    </tr>\n",
              "    <tr>\n",
              "      <th>255</th>\n",
              "      <td>0.241520</td>\n",
              "      <td>0.758480</td>\n",
              "      <td>1.0</td>\n",
              "    </tr>\n",
              "    <tr>\n",
              "      <th>256</th>\n",
              "      <td>0.345323</td>\n",
              "      <td>0.654677</td>\n",
              "      <td>1.0</td>\n",
              "    </tr>\n",
              "    <tr>\n",
              "      <th>257</th>\n",
              "      <td>0.246811</td>\n",
              "      <td>0.753189</td>\n",
              "      <td>1.0</td>\n",
              "    </tr>\n",
              "    <tr>\n",
              "      <th>258</th>\n",
              "      <td>0.310114</td>\n",
              "      <td>0.689886</td>\n",
              "      <td>1.0</td>\n",
              "    </tr>\n",
              "  </tbody>\n",
              "</table>\n",
              "<p>98 rows × 3 columns</p>\n",
              "</div>\n",
              "      <button class=\"colab-df-convert\" onclick=\"convertToInteractive('df-fc412052-6975-495d-978c-d9ea44fa1cca')\"\n",
              "              title=\"Convert this dataframe to an interactive table.\"\n",
              "              style=\"display:none;\">\n",
              "        \n",
              "  <svg xmlns=\"http://www.w3.org/2000/svg\" height=\"24px\"viewBox=\"0 0 24 24\"\n",
              "       width=\"24px\">\n",
              "    <path d=\"M0 0h24v24H0V0z\" fill=\"none\"/>\n",
              "    <path d=\"M18.56 5.44l.94 2.06.94-2.06 2.06-.94-2.06-.94-.94-2.06-.94 2.06-2.06.94zm-11 1L8.5 8.5l.94-2.06 2.06-.94-2.06-.94L8.5 2.5l-.94 2.06-2.06.94zm10 10l.94 2.06.94-2.06 2.06-.94-2.06-.94-.94-2.06-.94 2.06-2.06.94z\"/><path d=\"M17.41 7.96l-1.37-1.37c-.4-.4-.92-.59-1.43-.59-.52 0-1.04.2-1.43.59L10.3 9.45l-7.72 7.72c-.78.78-.78 2.05 0 2.83L4 21.41c.39.39.9.59 1.41.59.51 0 1.02-.2 1.41-.59l7.78-7.78 2.81-2.81c.8-.78.8-2.07 0-2.86zM5.41 20L4 18.59l7.72-7.72 1.47 1.35L5.41 20z\"/>\n",
              "  </svg>\n",
              "      </button>\n",
              "      \n",
              "  <style>\n",
              "    .colab-df-container {\n",
              "      display:flex;\n",
              "      flex-wrap:wrap;\n",
              "      gap: 12px;\n",
              "    }\n",
              "\n",
              "    .colab-df-convert {\n",
              "      background-color: #E8F0FE;\n",
              "      border: none;\n",
              "      border-radius: 50%;\n",
              "      cursor: pointer;\n",
              "      display: none;\n",
              "      fill: #1967D2;\n",
              "      height: 32px;\n",
              "      padding: 0 0 0 0;\n",
              "      width: 32px;\n",
              "    }\n",
              "\n",
              "    .colab-df-convert:hover {\n",
              "      background-color: #E2EBFA;\n",
              "      box-shadow: 0px 1px 2px rgba(60, 64, 67, 0.3), 0px 1px 3px 1px rgba(60, 64, 67, 0.15);\n",
              "      fill: #174EA6;\n",
              "    }\n",
              "\n",
              "    [theme=dark] .colab-df-convert {\n",
              "      background-color: #3B4455;\n",
              "      fill: #D2E3FC;\n",
              "    }\n",
              "\n",
              "    [theme=dark] .colab-df-convert:hover {\n",
              "      background-color: #434B5C;\n",
              "      box-shadow: 0px 1px 3px 1px rgba(0, 0, 0, 0.15);\n",
              "      filter: drop-shadow(0px 1px 2px rgba(0, 0, 0, 0.3));\n",
              "      fill: #FFFFFF;\n",
              "    }\n",
              "  </style>\n",
              "\n",
              "      <script>\n",
              "        const buttonEl =\n",
              "          document.querySelector('#df-fc412052-6975-495d-978c-d9ea44fa1cca button.colab-df-convert');\n",
              "        buttonEl.style.display =\n",
              "          google.colab.kernel.accessAllowed ? 'block' : 'none';\n",
              "\n",
              "        async function convertToInteractive(key) {\n",
              "          const element = document.querySelector('#df-fc412052-6975-495d-978c-d9ea44fa1cca');\n",
              "          const dataTable =\n",
              "            await google.colab.kernel.invokeFunction('convertToInteractive',\n",
              "                                                     [key], {});\n",
              "          if (!dataTable) return;\n",
              "\n",
              "          const docLinkHtml = 'Like what you see? Visit the ' +\n",
              "            '<a target=\"_blank\" href=https://colab.research.google.com/notebooks/data_table.ipynb>data table notebook</a>'\n",
              "            + ' to learn more about interactive tables.';\n",
              "          element.innerHTML = '';\n",
              "          dataTable['output_type'] = 'display_data';\n",
              "          await google.colab.output.renderOutput(dataTable, element);\n",
              "          const docLink = document.createElement('div');\n",
              "          docLink.innerHTML = docLinkHtml;\n",
              "          element.appendChild(docLink);\n",
              "        }\n",
              "      </script>\n",
              "    </div>\n",
              "  </div>\n",
              "  "
            ]
          },
          "metadata": {},
          "execution_count": 75
        }
      ]
    },
    {
      "cell_type": "code",
      "source": [
        "#Generate evaluation metrics\n",
        "print(\"Accuracy:\",metrics.accuracy_score(y_test, predicted))\n",
        "print(\"Roc:\", metrics.roc_auc_score(y_test, probs[:, 1]))"
      ],
      "metadata": {
        "id": "cusRqwegU6DK",
        "outputId": "fa67a05d-98e4-4258-d462-364248802032",
        "colab": {
          "base_uri": "https://localhost:8080/"
        }
      },
      "execution_count": null,
      "outputs": [
        {
          "output_type": "stream",
          "name": "stdout",
          "text": [
            "Accuracy: 0.7977099236641222\n",
            "Roc: 0.8545040946314832\n"
          ]
        }
      ]
    },
    {
      "cell_type": "code",
      "source": [
        "print(\"Confusion Matrix:\\n\\n\", metrics.confusion_matrix(y_test, predicted))\n",
        "print(\"\\nClassification Report:\\n\\n\",metrics.classification_report(y_test, predicted))"
      ],
      "metadata": {
        "id": "2UjrGffuVKIC",
        "outputId": "b377a7e4-de31-4cbb-e6d8-2b9f10a25c5b",
        "colab": {
          "base_uri": "https://localhost:8080/"
        }
      },
      "execution_count": null,
      "outputs": [
        {
          "output_type": "stream",
          "name": "stdout",
          "text": [
            "Confusion Matrix:\n",
            "\n",
            " [[134  23]\n",
            " [ 30  75]]\n",
            "\n",
            "Classification Report:\n",
            "\n",
            "               precision    recall  f1-score   support\n",
            "\n",
            "         0.0       0.82      0.85      0.83       157\n",
            "         1.0       0.77      0.71      0.74       105\n",
            "\n",
            "    accuracy                           0.80       262\n",
            "   macro avg       0.79      0.78      0.79       262\n",
            "weighted avg       0.80      0.80      0.80       262\n",
            "\n"
          ]
        }
      ]
    },
    {
      "cell_type": "markdown",
      "source": [
        "## **Part 6.2 - Logistic Regression Model from K-Best Selected Features**"
      ],
      "metadata": {
        "id": "tVN9uxFZXotd"
      }
    },
    {
      "cell_type": "code",
      "source": [
        "#Form model2 from all of the attributes in the original dataframe\n",
        "y, X = dmatrices('survived ~ C(pclass) + C(sex) + C(parch) + fare + C(embarked)', df, return_type=\"dataframe\")\n",
        "y = np.ravel(y)\n",
        "np.warnings.filterwarnings('ignore')\n",
        "model2 = LogisticRegression()\n",
        "model2 = model2.fit(X, y)\n",
        "model2.score(X, y) #Score of model2"
      ],
      "metadata": {
        "id": "2B8-GKN0Yi3c",
        "outputId": "cd2001e9-430b-417b-cb16-eeec0fcbefee",
        "colab": {
          "base_uri": "https://localhost:8080/"
        }
      },
      "execution_count": null,
      "outputs": [
        {
          "output_type": "execute_result",
          "data": {
            "text/plain": [
              "0.7840735068912711"
            ]
          },
          "metadata": {},
          "execution_count": 78
        }
      ]
    },
    {
      "cell_type": "code",
      "source": [
        "#Split data into test data and training data\n",
        "X_train, X_test, y_train, y_test = train_test_split(X, y, test_size=0.2, random_state=0)\n",
        "model2 = LogisticRegression()\n",
        "model2.fit(X_train, y_train)"
      ],
      "metadata": {
        "id": "mBvTXYCBaFLk",
        "outputId": "dddfd9fe-d5d3-4550-e9bd-975b355f1beb",
        "colab": {
          "base_uri": "https://localhost:8080/"
        }
      },
      "execution_count": null,
      "outputs": [
        {
          "output_type": "execute_result",
          "data": {
            "text/plain": [
              "LogisticRegression()"
            ]
          },
          "metadata": {},
          "execution_count": 79
        }
      ]
    },
    {
      "cell_type": "code",
      "source": [
        "#Use model to make preictions of survival\n",
        "predicted = model2.predict(X_test)\n",
        "probs = model2.predict_proba(X_test)\n",
        "dt = pd.DataFrame(probs)\n",
        "dt['predictions2'] = predicted\n",
        "\n",
        "filtered_dt = dt[dt['predictions2'] == 1]\n",
        "filtered_dt"
      ],
      "metadata": {
        "id": "ajUyUZ78Y1wb",
        "outputId": "b947ccdc-f7fc-4dd2-bd77-449ceeeebfb9",
        "colab": {
          "base_uri": "https://localhost:8080/",
          "height": 424
        }
      },
      "execution_count": null,
      "outputs": [
        {
          "output_type": "execute_result",
          "data": {
            "text/plain": [
              "            0         1  predictions2\n",
              "3    0.406457  0.593543           1.0\n",
              "5    0.470244  0.529756           1.0\n",
              "10   0.190089  0.809911           1.0\n",
              "13   0.406456  0.593544           1.0\n",
              "14   0.473622  0.526378           1.0\n",
              "..        ...       ...           ...\n",
              "254  0.397978  0.602022           1.0\n",
              "255  0.285727  0.714273           1.0\n",
              "256  0.324897  0.675103           1.0\n",
              "257  0.285693  0.714307           1.0\n",
              "258  0.353062  0.646938           1.0\n",
              "\n",
              "[104 rows x 3 columns]"
            ],
            "text/html": [
              "\n",
              "  <div id=\"df-267273f3-1907-4790-a458-18b73e034553\">\n",
              "    <div class=\"colab-df-container\">\n",
              "      <div>\n",
              "<style scoped>\n",
              "    .dataframe tbody tr th:only-of-type {\n",
              "        vertical-align: middle;\n",
              "    }\n",
              "\n",
              "    .dataframe tbody tr th {\n",
              "        vertical-align: top;\n",
              "    }\n",
              "\n",
              "    .dataframe thead th {\n",
              "        text-align: right;\n",
              "    }\n",
              "</style>\n",
              "<table border=\"1\" class=\"dataframe\">\n",
              "  <thead>\n",
              "    <tr style=\"text-align: right;\">\n",
              "      <th></th>\n",
              "      <th>0</th>\n",
              "      <th>1</th>\n",
              "      <th>predictions2</th>\n",
              "    </tr>\n",
              "  </thead>\n",
              "  <tbody>\n",
              "    <tr>\n",
              "      <th>3</th>\n",
              "      <td>0.406457</td>\n",
              "      <td>0.593543</td>\n",
              "      <td>1.0</td>\n",
              "    </tr>\n",
              "    <tr>\n",
              "      <th>5</th>\n",
              "      <td>0.470244</td>\n",
              "      <td>0.529756</td>\n",
              "      <td>1.0</td>\n",
              "    </tr>\n",
              "    <tr>\n",
              "      <th>10</th>\n",
              "      <td>0.190089</td>\n",
              "      <td>0.809911</td>\n",
              "      <td>1.0</td>\n",
              "    </tr>\n",
              "    <tr>\n",
              "      <th>13</th>\n",
              "      <td>0.406456</td>\n",
              "      <td>0.593544</td>\n",
              "      <td>1.0</td>\n",
              "    </tr>\n",
              "    <tr>\n",
              "      <th>14</th>\n",
              "      <td>0.473622</td>\n",
              "      <td>0.526378</td>\n",
              "      <td>1.0</td>\n",
              "    </tr>\n",
              "    <tr>\n",
              "      <th>...</th>\n",
              "      <td>...</td>\n",
              "      <td>...</td>\n",
              "      <td>...</td>\n",
              "    </tr>\n",
              "    <tr>\n",
              "      <th>254</th>\n",
              "      <td>0.397978</td>\n",
              "      <td>0.602022</td>\n",
              "      <td>1.0</td>\n",
              "    </tr>\n",
              "    <tr>\n",
              "      <th>255</th>\n",
              "      <td>0.285727</td>\n",
              "      <td>0.714273</td>\n",
              "      <td>1.0</td>\n",
              "    </tr>\n",
              "    <tr>\n",
              "      <th>256</th>\n",
              "      <td>0.324897</td>\n",
              "      <td>0.675103</td>\n",
              "      <td>1.0</td>\n",
              "    </tr>\n",
              "    <tr>\n",
              "      <th>257</th>\n",
              "      <td>0.285693</td>\n",
              "      <td>0.714307</td>\n",
              "      <td>1.0</td>\n",
              "    </tr>\n",
              "    <tr>\n",
              "      <th>258</th>\n",
              "      <td>0.353062</td>\n",
              "      <td>0.646938</td>\n",
              "      <td>1.0</td>\n",
              "    </tr>\n",
              "  </tbody>\n",
              "</table>\n",
              "<p>104 rows × 3 columns</p>\n",
              "</div>\n",
              "      <button class=\"colab-df-convert\" onclick=\"convertToInteractive('df-267273f3-1907-4790-a458-18b73e034553')\"\n",
              "              title=\"Convert this dataframe to an interactive table.\"\n",
              "              style=\"display:none;\">\n",
              "        \n",
              "  <svg xmlns=\"http://www.w3.org/2000/svg\" height=\"24px\"viewBox=\"0 0 24 24\"\n",
              "       width=\"24px\">\n",
              "    <path d=\"M0 0h24v24H0V0z\" fill=\"none\"/>\n",
              "    <path d=\"M18.56 5.44l.94 2.06.94-2.06 2.06-.94-2.06-.94-.94-2.06-.94 2.06-2.06.94zm-11 1L8.5 8.5l.94-2.06 2.06-.94-2.06-.94L8.5 2.5l-.94 2.06-2.06.94zm10 10l.94 2.06.94-2.06 2.06-.94-2.06-.94-.94-2.06-.94 2.06-2.06.94z\"/><path d=\"M17.41 7.96l-1.37-1.37c-.4-.4-.92-.59-1.43-.59-.52 0-1.04.2-1.43.59L10.3 9.45l-7.72 7.72c-.78.78-.78 2.05 0 2.83L4 21.41c.39.39.9.59 1.41.59.51 0 1.02-.2 1.41-.59l7.78-7.78 2.81-2.81c.8-.78.8-2.07 0-2.86zM5.41 20L4 18.59l7.72-7.72 1.47 1.35L5.41 20z\"/>\n",
              "  </svg>\n",
              "      </button>\n",
              "      \n",
              "  <style>\n",
              "    .colab-df-container {\n",
              "      display:flex;\n",
              "      flex-wrap:wrap;\n",
              "      gap: 12px;\n",
              "    }\n",
              "\n",
              "    .colab-df-convert {\n",
              "      background-color: #E8F0FE;\n",
              "      border: none;\n",
              "      border-radius: 50%;\n",
              "      cursor: pointer;\n",
              "      display: none;\n",
              "      fill: #1967D2;\n",
              "      height: 32px;\n",
              "      padding: 0 0 0 0;\n",
              "      width: 32px;\n",
              "    }\n",
              "\n",
              "    .colab-df-convert:hover {\n",
              "      background-color: #E2EBFA;\n",
              "      box-shadow: 0px 1px 2px rgba(60, 64, 67, 0.3), 0px 1px 3px 1px rgba(60, 64, 67, 0.15);\n",
              "      fill: #174EA6;\n",
              "    }\n",
              "\n",
              "    [theme=dark] .colab-df-convert {\n",
              "      background-color: #3B4455;\n",
              "      fill: #D2E3FC;\n",
              "    }\n",
              "\n",
              "    [theme=dark] .colab-df-convert:hover {\n",
              "      background-color: #434B5C;\n",
              "      box-shadow: 0px 1px 3px 1px rgba(0, 0, 0, 0.15);\n",
              "      filter: drop-shadow(0px 1px 2px rgba(0, 0, 0, 0.3));\n",
              "      fill: #FFFFFF;\n",
              "    }\n",
              "  </style>\n",
              "\n",
              "      <script>\n",
              "        const buttonEl =\n",
              "          document.querySelector('#df-267273f3-1907-4790-a458-18b73e034553 button.colab-df-convert');\n",
              "        buttonEl.style.display =\n",
              "          google.colab.kernel.accessAllowed ? 'block' : 'none';\n",
              "\n",
              "        async function convertToInteractive(key) {\n",
              "          const element = document.querySelector('#df-267273f3-1907-4790-a458-18b73e034553');\n",
              "          const dataTable =\n",
              "            await google.colab.kernel.invokeFunction('convertToInteractive',\n",
              "                                                     [key], {});\n",
              "          if (!dataTable) return;\n",
              "\n",
              "          const docLinkHtml = 'Like what you see? Visit the ' +\n",
              "            '<a target=\"_blank\" href=https://colab.research.google.com/notebooks/data_table.ipynb>data table notebook</a>'\n",
              "            + ' to learn more about interactive tables.';\n",
              "          element.innerHTML = '';\n",
              "          dataTable['output_type'] = 'display_data';\n",
              "          await google.colab.output.renderOutput(dataTable, element);\n",
              "          const docLink = document.createElement('div');\n",
              "          docLink.innerHTML = docLinkHtml;\n",
              "          element.appendChild(docLink);\n",
              "        }\n",
              "      </script>\n",
              "    </div>\n",
              "  </div>\n",
              "  "
            ]
          },
          "metadata": {},
          "execution_count": 80
        }
      ]
    },
    {
      "cell_type": "code",
      "source": [
        "#Generate evaluation metrics\n",
        "print(\"Accuracy:\",metrics.accuracy_score(y_test, predicted))\n",
        "print(\"Roc:\", metrics.roc_auc_score(y_test, probs[:, 1]))"
      ],
      "metadata": {
        "id": "FpSluF7IaQAl",
        "outputId": "7172b918-b98e-47d3-bbdb-6823874122da",
        "colab": {
          "base_uri": "https://localhost:8080/"
        }
      },
      "execution_count": null,
      "outputs": [
        {
          "output_type": "stream",
          "name": "stdout",
          "text": [
            "Accuracy: 0.7824427480916031\n",
            "Roc: 0.8464968152866243\n"
          ]
        }
      ]
    },
    {
      "cell_type": "code",
      "source": [
        "print(\"Confusion Matrix:\\n\\n\", metrics.confusion_matrix(y_test, predicted))\n",
        "print(\"\\nClassification Report:\\n\\n\",metrics.classification_report(y_test, predicted))"
      ],
      "metadata": {
        "id": "dIMSt9HoaoBz",
        "outputId": "0f274aa2-bd11-48e0-82d1-935871896519",
        "colab": {
          "base_uri": "https://localhost:8080/"
        }
      },
      "execution_count": null,
      "outputs": [
        {
          "output_type": "stream",
          "name": "stdout",
          "text": [
            "Confusion Matrix:\n",
            "\n",
            " [[129  28]\n",
            " [ 29  76]]\n",
            "\n",
            "Classification Report:\n",
            "\n",
            "               precision    recall  f1-score   support\n",
            "\n",
            "         0.0       0.82      0.82      0.82       157\n",
            "         1.0       0.73      0.72      0.73       105\n",
            "\n",
            "    accuracy                           0.78       262\n",
            "   macro avg       0.77      0.77      0.77       262\n",
            "weighted avg       0.78      0.78      0.78       262\n",
            "\n"
          ]
        }
      ]
    },
    {
      "cell_type": "markdown",
      "source": [
        "## **Part 6.3 - Logistic Regression Model from Chi Square Selected Features**"
      ],
      "metadata": {
        "id": "fd3MpLoCsPTw"
      }
    },
    {
      "cell_type": "code",
      "source": [
        "#Form model3 from all of the attributes in the original dataframe\n",
        "y, X = dmatrices('survived ~ C(pclass) + C(sex) + age + fare + C(embarked)', df, return_type=\"dataframe\")\n",
        "y = np.ravel(y)\n",
        "np.warnings.filterwarnings('ignore')\n",
        "model3 = LogisticRegression()\n",
        "model3 = model3.fit(X, y)\n",
        "model3.score(X, y) #Score of model3"
      ],
      "metadata": {
        "colab": {
          "base_uri": "https://localhost:8080/"
        },
        "id": "q_hhT2EvsXnJ",
        "outputId": "b198fa99-9027-4445-8bc0-8ebc5df144f1"
      },
      "execution_count": null,
      "outputs": [
        {
          "output_type": "execute_result",
          "data": {
            "text/plain": [
              "0.7848392036753445"
            ]
          },
          "metadata": {},
          "execution_count": 83
        }
      ]
    },
    {
      "cell_type": "code",
      "source": [
        "#Split data into test data and training data\n",
        "X_train, X_test, y_train, y_test = train_test_split(X, y, test_size=0.2, random_state=0)\n",
        "model3 = LogisticRegression()\n",
        "model3.fit(X_train, y_train)"
      ],
      "metadata": {
        "id": "Vk3vMejQvY5j",
        "outputId": "1b026aa4-2610-4bf4-f161-6f7975d8ed3a",
        "colab": {
          "base_uri": "https://localhost:8080/"
        }
      },
      "execution_count": null,
      "outputs": [
        {
          "output_type": "execute_result",
          "data": {
            "text/plain": [
              "LogisticRegression()"
            ]
          },
          "metadata": {},
          "execution_count": 84
        }
      ]
    },
    {
      "cell_type": "code",
      "source": [
        "#Use model to make preictions of survival\n",
        "predicted = model3.predict(X_test)\n",
        "probs = model3.predict_proba(X_test)\n",
        "dt = pd.DataFrame(probs)\n",
        "dt['predictions3'] = predicted\n",
        "\n",
        "filtered_dt = dt[dt['predictions3'] == 1]\n",
        "filtered_dt"
      ],
      "metadata": {
        "id": "YicL36d0vd6S",
        "outputId": "431acbc5-5721-4703-de7d-903f217c5767",
        "colab": {
          "base_uri": "https://localhost:8080/",
          "height": 424
        }
      },
      "execution_count": null,
      "outputs": [
        {
          "output_type": "execute_result",
          "data": {
            "text/plain": [
              "            0         1  predictions3\n",
              "3    0.400566  0.599434           1.0\n",
              "5    0.478942  0.521058           1.0\n",
              "10   0.172697  0.827303           1.0\n",
              "13   0.400565  0.599435           1.0\n",
              "15   0.173149  0.826851           1.0\n",
              "..        ...       ...           ...\n",
              "254  0.493577  0.506423           1.0\n",
              "255  0.259409  0.740591           1.0\n",
              "256  0.342566  0.657434           1.0\n",
              "257  0.264568  0.735432           1.0\n",
              "258  0.400118  0.599882           1.0\n",
              "\n",
              "[99 rows x 3 columns]"
            ],
            "text/html": [
              "\n",
              "  <div id=\"df-44d69fa1-0f79-42d8-8ea7-5862be0664b7\">\n",
              "    <div class=\"colab-df-container\">\n",
              "      <div>\n",
              "<style scoped>\n",
              "    .dataframe tbody tr th:only-of-type {\n",
              "        vertical-align: middle;\n",
              "    }\n",
              "\n",
              "    .dataframe tbody tr th {\n",
              "        vertical-align: top;\n",
              "    }\n",
              "\n",
              "    .dataframe thead th {\n",
              "        text-align: right;\n",
              "    }\n",
              "</style>\n",
              "<table border=\"1\" class=\"dataframe\">\n",
              "  <thead>\n",
              "    <tr style=\"text-align: right;\">\n",
              "      <th></th>\n",
              "      <th>0</th>\n",
              "      <th>1</th>\n",
              "      <th>predictions3</th>\n",
              "    </tr>\n",
              "  </thead>\n",
              "  <tbody>\n",
              "    <tr>\n",
              "      <th>3</th>\n",
              "      <td>0.400566</td>\n",
              "      <td>0.599434</td>\n",
              "      <td>1.0</td>\n",
              "    </tr>\n",
              "    <tr>\n",
              "      <th>5</th>\n",
              "      <td>0.478942</td>\n",
              "      <td>0.521058</td>\n",
              "      <td>1.0</td>\n",
              "    </tr>\n",
              "    <tr>\n",
              "      <th>10</th>\n",
              "      <td>0.172697</td>\n",
              "      <td>0.827303</td>\n",
              "      <td>1.0</td>\n",
              "    </tr>\n",
              "    <tr>\n",
              "      <th>13</th>\n",
              "      <td>0.400565</td>\n",
              "      <td>0.599435</td>\n",
              "      <td>1.0</td>\n",
              "    </tr>\n",
              "    <tr>\n",
              "      <th>15</th>\n",
              "      <td>0.173149</td>\n",
              "      <td>0.826851</td>\n",
              "      <td>1.0</td>\n",
              "    </tr>\n",
              "    <tr>\n",
              "      <th>...</th>\n",
              "      <td>...</td>\n",
              "      <td>...</td>\n",
              "      <td>...</td>\n",
              "    </tr>\n",
              "    <tr>\n",
              "      <th>254</th>\n",
              "      <td>0.493577</td>\n",
              "      <td>0.506423</td>\n",
              "      <td>1.0</td>\n",
              "    </tr>\n",
              "    <tr>\n",
              "      <th>255</th>\n",
              "      <td>0.259409</td>\n",
              "      <td>0.740591</td>\n",
              "      <td>1.0</td>\n",
              "    </tr>\n",
              "    <tr>\n",
              "      <th>256</th>\n",
              "      <td>0.342566</td>\n",
              "      <td>0.657434</td>\n",
              "      <td>1.0</td>\n",
              "    </tr>\n",
              "    <tr>\n",
              "      <th>257</th>\n",
              "      <td>0.264568</td>\n",
              "      <td>0.735432</td>\n",
              "      <td>1.0</td>\n",
              "    </tr>\n",
              "    <tr>\n",
              "      <th>258</th>\n",
              "      <td>0.400118</td>\n",
              "      <td>0.599882</td>\n",
              "      <td>1.0</td>\n",
              "    </tr>\n",
              "  </tbody>\n",
              "</table>\n",
              "<p>99 rows × 3 columns</p>\n",
              "</div>\n",
              "      <button class=\"colab-df-convert\" onclick=\"convertToInteractive('df-44d69fa1-0f79-42d8-8ea7-5862be0664b7')\"\n",
              "              title=\"Convert this dataframe to an interactive table.\"\n",
              "              style=\"display:none;\">\n",
              "        \n",
              "  <svg xmlns=\"http://www.w3.org/2000/svg\" height=\"24px\"viewBox=\"0 0 24 24\"\n",
              "       width=\"24px\">\n",
              "    <path d=\"M0 0h24v24H0V0z\" fill=\"none\"/>\n",
              "    <path d=\"M18.56 5.44l.94 2.06.94-2.06 2.06-.94-2.06-.94-.94-2.06-.94 2.06-2.06.94zm-11 1L8.5 8.5l.94-2.06 2.06-.94-2.06-.94L8.5 2.5l-.94 2.06-2.06.94zm10 10l.94 2.06.94-2.06 2.06-.94-2.06-.94-.94-2.06-.94 2.06-2.06.94z\"/><path d=\"M17.41 7.96l-1.37-1.37c-.4-.4-.92-.59-1.43-.59-.52 0-1.04.2-1.43.59L10.3 9.45l-7.72 7.72c-.78.78-.78 2.05 0 2.83L4 21.41c.39.39.9.59 1.41.59.51 0 1.02-.2 1.41-.59l7.78-7.78 2.81-2.81c.8-.78.8-2.07 0-2.86zM5.41 20L4 18.59l7.72-7.72 1.47 1.35L5.41 20z\"/>\n",
              "  </svg>\n",
              "      </button>\n",
              "      \n",
              "  <style>\n",
              "    .colab-df-container {\n",
              "      display:flex;\n",
              "      flex-wrap:wrap;\n",
              "      gap: 12px;\n",
              "    }\n",
              "\n",
              "    .colab-df-convert {\n",
              "      background-color: #E8F0FE;\n",
              "      border: none;\n",
              "      border-radius: 50%;\n",
              "      cursor: pointer;\n",
              "      display: none;\n",
              "      fill: #1967D2;\n",
              "      height: 32px;\n",
              "      padding: 0 0 0 0;\n",
              "      width: 32px;\n",
              "    }\n",
              "\n",
              "    .colab-df-convert:hover {\n",
              "      background-color: #E2EBFA;\n",
              "      box-shadow: 0px 1px 2px rgba(60, 64, 67, 0.3), 0px 1px 3px 1px rgba(60, 64, 67, 0.15);\n",
              "      fill: #174EA6;\n",
              "    }\n",
              "\n",
              "    [theme=dark] .colab-df-convert {\n",
              "      background-color: #3B4455;\n",
              "      fill: #D2E3FC;\n",
              "    }\n",
              "\n",
              "    [theme=dark] .colab-df-convert:hover {\n",
              "      background-color: #434B5C;\n",
              "      box-shadow: 0px 1px 3px 1px rgba(0, 0, 0, 0.15);\n",
              "      filter: drop-shadow(0px 1px 2px rgba(0, 0, 0, 0.3));\n",
              "      fill: #FFFFFF;\n",
              "    }\n",
              "  </style>\n",
              "\n",
              "      <script>\n",
              "        const buttonEl =\n",
              "          document.querySelector('#df-44d69fa1-0f79-42d8-8ea7-5862be0664b7 button.colab-df-convert');\n",
              "        buttonEl.style.display =\n",
              "          google.colab.kernel.accessAllowed ? 'block' : 'none';\n",
              "\n",
              "        async function convertToInteractive(key) {\n",
              "          const element = document.querySelector('#df-44d69fa1-0f79-42d8-8ea7-5862be0664b7');\n",
              "          const dataTable =\n",
              "            await google.colab.kernel.invokeFunction('convertToInteractive',\n",
              "                                                     [key], {});\n",
              "          if (!dataTable) return;\n",
              "\n",
              "          const docLinkHtml = 'Like what you see? Visit the ' +\n",
              "            '<a target=\"_blank\" href=https://colab.research.google.com/notebooks/data_table.ipynb>data table notebook</a>'\n",
              "            + ' to learn more about interactive tables.';\n",
              "          element.innerHTML = '';\n",
              "          dataTable['output_type'] = 'display_data';\n",
              "          await google.colab.output.renderOutput(dataTable, element);\n",
              "          const docLink = document.createElement('div');\n",
              "          docLink.innerHTML = docLinkHtml;\n",
              "          element.appendChild(docLink);\n",
              "        }\n",
              "      </script>\n",
              "    </div>\n",
              "  </div>\n",
              "  "
            ]
          },
          "metadata": {},
          "execution_count": 85
        }
      ]
    },
    {
      "cell_type": "code",
      "source": [
        "#Generate evaluation metrics\n",
        "print(\"Accuracy:\",metrics.accuracy_score(y_test, predicted))\n",
        "print(\"Roc:\", metrics.roc_auc_score(y_test, probs[:, 1]))"
      ],
      "metadata": {
        "id": "WAoQtuo1vlUv",
        "outputId": "7bc49335-3bb8-40f1-91bb-e1ead4bc02c3",
        "colab": {
          "base_uri": "https://localhost:8080/"
        }
      },
      "execution_count": null,
      "outputs": [
        {
          "output_type": "stream",
          "name": "stdout",
          "text": [
            "Accuracy: 0.8015267175572519\n",
            "Roc: 0.8427054898392479\n"
          ]
        }
      ]
    },
    {
      "cell_type": "code",
      "source": [
        "print(\"Confusion Matrix:\\n\\n\", metrics.confusion_matrix(y_test, predicted))\n",
        "print(\"\\nClassification Report:\\n\\n\",metrics.classification_report(y_test, predicted))"
      ],
      "metadata": {
        "id": "1Z-S7crEvmTi",
        "outputId": "246a3e43-3e4a-4ad9-904f-ba355eb946d3",
        "colab": {
          "base_uri": "https://localhost:8080/"
        }
      },
      "execution_count": null,
      "outputs": [
        {
          "output_type": "stream",
          "name": "stdout",
          "text": [
            "Confusion Matrix:\n",
            "\n",
            " [[134  23]\n",
            " [ 29  76]]\n",
            "\n",
            "Classification Report:\n",
            "\n",
            "               precision    recall  f1-score   support\n",
            "\n",
            "         0.0       0.82      0.85      0.84       157\n",
            "         1.0       0.77      0.72      0.75       105\n",
            "\n",
            "    accuracy                           0.80       262\n",
            "   macro avg       0.79      0.79      0.79       262\n",
            "weighted avg       0.80      0.80      0.80       262\n",
            "\n"
          ]
        }
      ]
    },
    {
      "cell_type": "markdown",
      "source": [
        "## **Part 6.4 - Logistic Regression Model from Features with High Correlation**"
      ],
      "metadata": {
        "id": "IXnP19VoaYuB"
      }
    },
    {
      "cell_type": "code",
      "source": [
        "#Form model4 from all of the attributes in the original dataframe\n",
        "y, X = dmatrices('survived ~ C(sibsp) + C(parch) + age + fare + C(embarked)', df, return_type=\"dataframe\")\n",
        "y = np.ravel(y)\n",
        "np.warnings.filterwarnings('ignore')\n",
        "model4 = LogisticRegression()\n",
        "model4 = model4.fit(X, y)\n",
        "model4.score(X, y) #Score of model4"
      ],
      "metadata": {
        "id": "DQOsYX3JbXhD",
        "outputId": "7fd9cd65-5441-449b-b4ec-7013443a4283",
        "colab": {
          "base_uri": "https://localhost:8080/"
        }
      },
      "execution_count": null,
      "outputs": [
        {
          "output_type": "execute_result",
          "data": {
            "text/plain": [
              "0.7128637059724349"
            ]
          },
          "metadata": {},
          "execution_count": 88
        }
      ]
    },
    {
      "cell_type": "code",
      "source": [
        "#Split data into test data and training data\n",
        "X_train, X_test, y_train, y_test = train_test_split(X, y, test_size=0.2, random_state=0)\n",
        "model4 = LogisticRegression()\n",
        "model4.fit(X_train, y_train)"
      ],
      "metadata": {
        "id": "00BlivtGblcv",
        "outputId": "30114eaa-3175-4c57-c96f-6a188dddc056",
        "colab": {
          "base_uri": "https://localhost:8080/"
        }
      },
      "execution_count": null,
      "outputs": [
        {
          "output_type": "execute_result",
          "data": {
            "text/plain": [
              "LogisticRegression()"
            ]
          },
          "metadata": {},
          "execution_count": 89
        }
      ]
    },
    {
      "cell_type": "code",
      "source": [
        "#Use model to make preictions of survival\n",
        "predicted = model4.predict(X_test)\n",
        "probs = model4.predict_proba(X_test)\n",
        "dt = pd.DataFrame(probs)\n",
        "dt['predictions4'] = predicted\n",
        "\n",
        "filtered_dt = dt[dt['predictions4'] == 1]\n",
        "filtered_dt"
      ],
      "metadata": {
        "id": "5b3ph2j-bo5P",
        "outputId": "374659ac-f89a-483f-826b-4afda708cda0",
        "colab": {
          "base_uri": "https://localhost:8080/",
          "height": 1000
        }
      },
      "execution_count": null,
      "outputs": [
        {
          "output_type": "execute_result",
          "data": {
            "text/plain": [
              "            0         1  predictions4\n",
              "0    0.492543  0.507457           1.0\n",
              "8    0.445907  0.554093           1.0\n",
              "12   0.419020  0.580980           1.0\n",
              "14   0.055805  0.944195           1.0\n",
              "15   0.412432  0.587568           1.0\n",
              "18   0.459756  0.540244           1.0\n",
              "19   0.361426  0.638574           1.0\n",
              "23   0.244092  0.755908           1.0\n",
              "29   0.411444  0.588556           1.0\n",
              "31   0.291016  0.708984           1.0\n",
              "33   0.482223  0.517777           1.0\n",
              "36   0.328512  0.671488           1.0\n",
              "41   0.407235  0.592765           1.0\n",
              "47   0.373968  0.626032           1.0\n",
              "48   0.370122  0.629878           1.0\n",
              "55   0.421439  0.578561           1.0\n",
              "56   0.491963  0.508037           1.0\n",
              "65   0.488555  0.511445           1.0\n",
              "75   0.441985  0.558015           1.0\n",
              "76   0.079117  0.920883           1.0\n",
              "83   0.454504  0.545496           1.0\n",
              "85   0.335929  0.664071           1.0\n",
              "95   0.486074  0.513926           1.0\n",
              "99   0.422067  0.577933           1.0\n",
              "101  0.491746  0.508254           1.0\n",
              "106  0.153359  0.846641           1.0\n",
              "107  0.344573  0.655427           1.0\n",
              "108  0.493621  0.506379           1.0\n",
              "109  0.442359  0.557641           1.0\n",
              "117  0.207054  0.792946           1.0\n",
              "122  0.235115  0.764885           1.0\n",
              "124  0.421439  0.578561           1.0\n",
              "128  0.425496  0.574504           1.0\n",
              "132  0.499373  0.500627           1.0\n",
              "141  0.290531  0.709469           1.0\n",
              "145  0.432822  0.567178           1.0\n",
              "151  0.492933  0.507067           1.0\n",
              "163  0.299646  0.700354           1.0\n",
              "164  0.395925  0.604075           1.0\n",
              "172  0.279149  0.720851           1.0\n",
              "175  0.401759  0.598241           1.0\n",
              "177  0.461757  0.538243           1.0\n",
              "179  0.301380  0.698620           1.0\n",
              "180  0.455709  0.544291           1.0\n",
              "182  0.460857  0.539143           1.0\n",
              "187  0.321855  0.678145           1.0\n",
              "194  0.355029  0.644971           1.0\n",
              "199  0.297505  0.702495           1.0\n",
              "203  0.095749  0.904251           1.0\n",
              "207  0.291839  0.708161           1.0\n",
              "210  0.394180  0.605820           1.0\n",
              "220  0.255339  0.744661           1.0\n",
              "222  0.390563  0.609437           1.0\n",
              "246  0.476741  0.523259           1.0\n",
              "252  0.470796  0.529204           1.0\n",
              "253  0.444745  0.555255           1.0\n",
              "254  0.002343  0.997657           1.0"
            ],
            "text/html": [
              "\n",
              "  <div id=\"df-68a9ef6b-ec9e-4420-86d7-6d5556be1aee\">\n",
              "    <div class=\"colab-df-container\">\n",
              "      <div>\n",
              "<style scoped>\n",
              "    .dataframe tbody tr th:only-of-type {\n",
              "        vertical-align: middle;\n",
              "    }\n",
              "\n",
              "    .dataframe tbody tr th {\n",
              "        vertical-align: top;\n",
              "    }\n",
              "\n",
              "    .dataframe thead th {\n",
              "        text-align: right;\n",
              "    }\n",
              "</style>\n",
              "<table border=\"1\" class=\"dataframe\">\n",
              "  <thead>\n",
              "    <tr style=\"text-align: right;\">\n",
              "      <th></th>\n",
              "      <th>0</th>\n",
              "      <th>1</th>\n",
              "      <th>predictions4</th>\n",
              "    </tr>\n",
              "  </thead>\n",
              "  <tbody>\n",
              "    <tr>\n",
              "      <th>0</th>\n",
              "      <td>0.492543</td>\n",
              "      <td>0.507457</td>\n",
              "      <td>1.0</td>\n",
              "    </tr>\n",
              "    <tr>\n",
              "      <th>8</th>\n",
              "      <td>0.445907</td>\n",
              "      <td>0.554093</td>\n",
              "      <td>1.0</td>\n",
              "    </tr>\n",
              "    <tr>\n",
              "      <th>12</th>\n",
              "      <td>0.419020</td>\n",
              "      <td>0.580980</td>\n",
              "      <td>1.0</td>\n",
              "    </tr>\n",
              "    <tr>\n",
              "      <th>14</th>\n",
              "      <td>0.055805</td>\n",
              "      <td>0.944195</td>\n",
              "      <td>1.0</td>\n",
              "    </tr>\n",
              "    <tr>\n",
              "      <th>15</th>\n",
              "      <td>0.412432</td>\n",
              "      <td>0.587568</td>\n",
              "      <td>1.0</td>\n",
              "    </tr>\n",
              "    <tr>\n",
              "      <th>18</th>\n",
              "      <td>0.459756</td>\n",
              "      <td>0.540244</td>\n",
              "      <td>1.0</td>\n",
              "    </tr>\n",
              "    <tr>\n",
              "      <th>19</th>\n",
              "      <td>0.361426</td>\n",
              "      <td>0.638574</td>\n",
              "      <td>1.0</td>\n",
              "    </tr>\n",
              "    <tr>\n",
              "      <th>23</th>\n",
              "      <td>0.244092</td>\n",
              "      <td>0.755908</td>\n",
              "      <td>1.0</td>\n",
              "    </tr>\n",
              "    <tr>\n",
              "      <th>29</th>\n",
              "      <td>0.411444</td>\n",
              "      <td>0.588556</td>\n",
              "      <td>1.0</td>\n",
              "    </tr>\n",
              "    <tr>\n",
              "      <th>31</th>\n",
              "      <td>0.291016</td>\n",
              "      <td>0.708984</td>\n",
              "      <td>1.0</td>\n",
              "    </tr>\n",
              "    <tr>\n",
              "      <th>33</th>\n",
              "      <td>0.482223</td>\n",
              "      <td>0.517777</td>\n",
              "      <td>1.0</td>\n",
              "    </tr>\n",
              "    <tr>\n",
              "      <th>36</th>\n",
              "      <td>0.328512</td>\n",
              "      <td>0.671488</td>\n",
              "      <td>1.0</td>\n",
              "    </tr>\n",
              "    <tr>\n",
              "      <th>41</th>\n",
              "      <td>0.407235</td>\n",
              "      <td>0.592765</td>\n",
              "      <td>1.0</td>\n",
              "    </tr>\n",
              "    <tr>\n",
              "      <th>47</th>\n",
              "      <td>0.373968</td>\n",
              "      <td>0.626032</td>\n",
              "      <td>1.0</td>\n",
              "    </tr>\n",
              "    <tr>\n",
              "      <th>48</th>\n",
              "      <td>0.370122</td>\n",
              "      <td>0.629878</td>\n",
              "      <td>1.0</td>\n",
              "    </tr>\n",
              "    <tr>\n",
              "      <th>55</th>\n",
              "      <td>0.421439</td>\n",
              "      <td>0.578561</td>\n",
              "      <td>1.0</td>\n",
              "    </tr>\n",
              "    <tr>\n",
              "      <th>56</th>\n",
              "      <td>0.491963</td>\n",
              "      <td>0.508037</td>\n",
              "      <td>1.0</td>\n",
              "    </tr>\n",
              "    <tr>\n",
              "      <th>65</th>\n",
              "      <td>0.488555</td>\n",
              "      <td>0.511445</td>\n",
              "      <td>1.0</td>\n",
              "    </tr>\n",
              "    <tr>\n",
              "      <th>75</th>\n",
              "      <td>0.441985</td>\n",
              "      <td>0.558015</td>\n",
              "      <td>1.0</td>\n",
              "    </tr>\n",
              "    <tr>\n",
              "      <th>76</th>\n",
              "      <td>0.079117</td>\n",
              "      <td>0.920883</td>\n",
              "      <td>1.0</td>\n",
              "    </tr>\n",
              "    <tr>\n",
              "      <th>83</th>\n",
              "      <td>0.454504</td>\n",
              "      <td>0.545496</td>\n",
              "      <td>1.0</td>\n",
              "    </tr>\n",
              "    <tr>\n",
              "      <th>85</th>\n",
              "      <td>0.335929</td>\n",
              "      <td>0.664071</td>\n",
              "      <td>1.0</td>\n",
              "    </tr>\n",
              "    <tr>\n",
              "      <th>95</th>\n",
              "      <td>0.486074</td>\n",
              "      <td>0.513926</td>\n",
              "      <td>1.0</td>\n",
              "    </tr>\n",
              "    <tr>\n",
              "      <th>99</th>\n",
              "      <td>0.422067</td>\n",
              "      <td>0.577933</td>\n",
              "      <td>1.0</td>\n",
              "    </tr>\n",
              "    <tr>\n",
              "      <th>101</th>\n",
              "      <td>0.491746</td>\n",
              "      <td>0.508254</td>\n",
              "      <td>1.0</td>\n",
              "    </tr>\n",
              "    <tr>\n",
              "      <th>106</th>\n",
              "      <td>0.153359</td>\n",
              "      <td>0.846641</td>\n",
              "      <td>1.0</td>\n",
              "    </tr>\n",
              "    <tr>\n",
              "      <th>107</th>\n",
              "      <td>0.344573</td>\n",
              "      <td>0.655427</td>\n",
              "      <td>1.0</td>\n",
              "    </tr>\n",
              "    <tr>\n",
              "      <th>108</th>\n",
              "      <td>0.493621</td>\n",
              "      <td>0.506379</td>\n",
              "      <td>1.0</td>\n",
              "    </tr>\n",
              "    <tr>\n",
              "      <th>109</th>\n",
              "      <td>0.442359</td>\n",
              "      <td>0.557641</td>\n",
              "      <td>1.0</td>\n",
              "    </tr>\n",
              "    <tr>\n",
              "      <th>117</th>\n",
              "      <td>0.207054</td>\n",
              "      <td>0.792946</td>\n",
              "      <td>1.0</td>\n",
              "    </tr>\n",
              "    <tr>\n",
              "      <th>122</th>\n",
              "      <td>0.235115</td>\n",
              "      <td>0.764885</td>\n",
              "      <td>1.0</td>\n",
              "    </tr>\n",
              "    <tr>\n",
              "      <th>124</th>\n",
              "      <td>0.421439</td>\n",
              "      <td>0.578561</td>\n",
              "      <td>1.0</td>\n",
              "    </tr>\n",
              "    <tr>\n",
              "      <th>128</th>\n",
              "      <td>0.425496</td>\n",
              "      <td>0.574504</td>\n",
              "      <td>1.0</td>\n",
              "    </tr>\n",
              "    <tr>\n",
              "      <th>132</th>\n",
              "      <td>0.499373</td>\n",
              "      <td>0.500627</td>\n",
              "      <td>1.0</td>\n",
              "    </tr>\n",
              "    <tr>\n",
              "      <th>141</th>\n",
              "      <td>0.290531</td>\n",
              "      <td>0.709469</td>\n",
              "      <td>1.0</td>\n",
              "    </tr>\n",
              "    <tr>\n",
              "      <th>145</th>\n",
              "      <td>0.432822</td>\n",
              "      <td>0.567178</td>\n",
              "      <td>1.0</td>\n",
              "    </tr>\n",
              "    <tr>\n",
              "      <th>151</th>\n",
              "      <td>0.492933</td>\n",
              "      <td>0.507067</td>\n",
              "      <td>1.0</td>\n",
              "    </tr>\n",
              "    <tr>\n",
              "      <th>163</th>\n",
              "      <td>0.299646</td>\n",
              "      <td>0.700354</td>\n",
              "      <td>1.0</td>\n",
              "    </tr>\n",
              "    <tr>\n",
              "      <th>164</th>\n",
              "      <td>0.395925</td>\n",
              "      <td>0.604075</td>\n",
              "      <td>1.0</td>\n",
              "    </tr>\n",
              "    <tr>\n",
              "      <th>172</th>\n",
              "      <td>0.279149</td>\n",
              "      <td>0.720851</td>\n",
              "      <td>1.0</td>\n",
              "    </tr>\n",
              "    <tr>\n",
              "      <th>175</th>\n",
              "      <td>0.401759</td>\n",
              "      <td>0.598241</td>\n",
              "      <td>1.0</td>\n",
              "    </tr>\n",
              "    <tr>\n",
              "      <th>177</th>\n",
              "      <td>0.461757</td>\n",
              "      <td>0.538243</td>\n",
              "      <td>1.0</td>\n",
              "    </tr>\n",
              "    <tr>\n",
              "      <th>179</th>\n",
              "      <td>0.301380</td>\n",
              "      <td>0.698620</td>\n",
              "      <td>1.0</td>\n",
              "    </tr>\n",
              "    <tr>\n",
              "      <th>180</th>\n",
              "      <td>0.455709</td>\n",
              "      <td>0.544291</td>\n",
              "      <td>1.0</td>\n",
              "    </tr>\n",
              "    <tr>\n",
              "      <th>182</th>\n",
              "      <td>0.460857</td>\n",
              "      <td>0.539143</td>\n",
              "      <td>1.0</td>\n",
              "    </tr>\n",
              "    <tr>\n",
              "      <th>187</th>\n",
              "      <td>0.321855</td>\n",
              "      <td>0.678145</td>\n",
              "      <td>1.0</td>\n",
              "    </tr>\n",
              "    <tr>\n",
              "      <th>194</th>\n",
              "      <td>0.355029</td>\n",
              "      <td>0.644971</td>\n",
              "      <td>1.0</td>\n",
              "    </tr>\n",
              "    <tr>\n",
              "      <th>199</th>\n",
              "      <td>0.297505</td>\n",
              "      <td>0.702495</td>\n",
              "      <td>1.0</td>\n",
              "    </tr>\n",
              "    <tr>\n",
              "      <th>203</th>\n",
              "      <td>0.095749</td>\n",
              "      <td>0.904251</td>\n",
              "      <td>1.0</td>\n",
              "    </tr>\n",
              "    <tr>\n",
              "      <th>207</th>\n",
              "      <td>0.291839</td>\n",
              "      <td>0.708161</td>\n",
              "      <td>1.0</td>\n",
              "    </tr>\n",
              "    <tr>\n",
              "      <th>210</th>\n",
              "      <td>0.394180</td>\n",
              "      <td>0.605820</td>\n",
              "      <td>1.0</td>\n",
              "    </tr>\n",
              "    <tr>\n",
              "      <th>220</th>\n",
              "      <td>0.255339</td>\n",
              "      <td>0.744661</td>\n",
              "      <td>1.0</td>\n",
              "    </tr>\n",
              "    <tr>\n",
              "      <th>222</th>\n",
              "      <td>0.390563</td>\n",
              "      <td>0.609437</td>\n",
              "      <td>1.0</td>\n",
              "    </tr>\n",
              "    <tr>\n",
              "      <th>246</th>\n",
              "      <td>0.476741</td>\n",
              "      <td>0.523259</td>\n",
              "      <td>1.0</td>\n",
              "    </tr>\n",
              "    <tr>\n",
              "      <th>252</th>\n",
              "      <td>0.470796</td>\n",
              "      <td>0.529204</td>\n",
              "      <td>1.0</td>\n",
              "    </tr>\n",
              "    <tr>\n",
              "      <th>253</th>\n",
              "      <td>0.444745</td>\n",
              "      <td>0.555255</td>\n",
              "      <td>1.0</td>\n",
              "    </tr>\n",
              "    <tr>\n",
              "      <th>254</th>\n",
              "      <td>0.002343</td>\n",
              "      <td>0.997657</td>\n",
              "      <td>1.0</td>\n",
              "    </tr>\n",
              "  </tbody>\n",
              "</table>\n",
              "</div>\n",
              "      <button class=\"colab-df-convert\" onclick=\"convertToInteractive('df-68a9ef6b-ec9e-4420-86d7-6d5556be1aee')\"\n",
              "              title=\"Convert this dataframe to an interactive table.\"\n",
              "              style=\"display:none;\">\n",
              "        \n",
              "  <svg xmlns=\"http://www.w3.org/2000/svg\" height=\"24px\"viewBox=\"0 0 24 24\"\n",
              "       width=\"24px\">\n",
              "    <path d=\"M0 0h24v24H0V0z\" fill=\"none\"/>\n",
              "    <path d=\"M18.56 5.44l.94 2.06.94-2.06 2.06-.94-2.06-.94-.94-2.06-.94 2.06-2.06.94zm-11 1L8.5 8.5l.94-2.06 2.06-.94-2.06-.94L8.5 2.5l-.94 2.06-2.06.94zm10 10l.94 2.06.94-2.06 2.06-.94-2.06-.94-.94-2.06-.94 2.06-2.06.94z\"/><path d=\"M17.41 7.96l-1.37-1.37c-.4-.4-.92-.59-1.43-.59-.52 0-1.04.2-1.43.59L10.3 9.45l-7.72 7.72c-.78.78-.78 2.05 0 2.83L4 21.41c.39.39.9.59 1.41.59.51 0 1.02-.2 1.41-.59l7.78-7.78 2.81-2.81c.8-.78.8-2.07 0-2.86zM5.41 20L4 18.59l7.72-7.72 1.47 1.35L5.41 20z\"/>\n",
              "  </svg>\n",
              "      </button>\n",
              "      \n",
              "  <style>\n",
              "    .colab-df-container {\n",
              "      display:flex;\n",
              "      flex-wrap:wrap;\n",
              "      gap: 12px;\n",
              "    }\n",
              "\n",
              "    .colab-df-convert {\n",
              "      background-color: #E8F0FE;\n",
              "      border: none;\n",
              "      border-radius: 50%;\n",
              "      cursor: pointer;\n",
              "      display: none;\n",
              "      fill: #1967D2;\n",
              "      height: 32px;\n",
              "      padding: 0 0 0 0;\n",
              "      width: 32px;\n",
              "    }\n",
              "\n",
              "    .colab-df-convert:hover {\n",
              "      background-color: #E2EBFA;\n",
              "      box-shadow: 0px 1px 2px rgba(60, 64, 67, 0.3), 0px 1px 3px 1px rgba(60, 64, 67, 0.15);\n",
              "      fill: #174EA6;\n",
              "    }\n",
              "\n",
              "    [theme=dark] .colab-df-convert {\n",
              "      background-color: #3B4455;\n",
              "      fill: #D2E3FC;\n",
              "    }\n",
              "\n",
              "    [theme=dark] .colab-df-convert:hover {\n",
              "      background-color: #434B5C;\n",
              "      box-shadow: 0px 1px 3px 1px rgba(0, 0, 0, 0.15);\n",
              "      filter: drop-shadow(0px 1px 2px rgba(0, 0, 0, 0.3));\n",
              "      fill: #FFFFFF;\n",
              "    }\n",
              "  </style>\n",
              "\n",
              "      <script>\n",
              "        const buttonEl =\n",
              "          document.querySelector('#df-68a9ef6b-ec9e-4420-86d7-6d5556be1aee button.colab-df-convert');\n",
              "        buttonEl.style.display =\n",
              "          google.colab.kernel.accessAllowed ? 'block' : 'none';\n",
              "\n",
              "        async function convertToInteractive(key) {\n",
              "          const element = document.querySelector('#df-68a9ef6b-ec9e-4420-86d7-6d5556be1aee');\n",
              "          const dataTable =\n",
              "            await google.colab.kernel.invokeFunction('convertToInteractive',\n",
              "                                                     [key], {});\n",
              "          if (!dataTable) return;\n",
              "\n",
              "          const docLinkHtml = 'Like what you see? Visit the ' +\n",
              "            '<a target=\"_blank\" href=https://colab.research.google.com/notebooks/data_table.ipynb>data table notebook</a>'\n",
              "            + ' to learn more about interactive tables.';\n",
              "          element.innerHTML = '';\n",
              "          dataTable['output_type'] = 'display_data';\n",
              "          await google.colab.output.renderOutput(dataTable, element);\n",
              "          const docLink = document.createElement('div');\n",
              "          docLink.innerHTML = docLinkHtml;\n",
              "          element.appendChild(docLink);\n",
              "        }\n",
              "      </script>\n",
              "    </div>\n",
              "  </div>\n",
              "  "
            ]
          },
          "metadata": {},
          "execution_count": 90
        }
      ]
    },
    {
      "cell_type": "code",
      "source": [
        "#Generate evaluation metrics\n",
        "print(\"Accuracy:\",metrics.accuracy_score(y_test, predicted))\n",
        "print(\"Roc:\", metrics.roc_auc_score(y_test, probs[:, 1]))"
      ],
      "metadata": {
        "id": "uU7slne2uM-n",
        "outputId": "518a5a81-4175-46ec-b237-7efc17191dab",
        "colab": {
          "base_uri": "https://localhost:8080/"
        }
      },
      "execution_count": null,
      "outputs": [
        {
          "output_type": "stream",
          "name": "stdout",
          "text": [
            "Accuracy: 0.7251908396946565\n",
            "Roc: 0.7729754322111011\n"
          ]
        }
      ]
    },
    {
      "cell_type": "code",
      "source": [
        "print(\"Confusion Matrix:\\n\\n\", metrics.confusion_matrix(y_test, predicted))\n",
        "print(\"\\nClassification Report:\\n\\n\",metrics.classification_report(y_test, predicted))"
      ],
      "metadata": {
        "id": "PXoZPi4ybtgS",
        "outputId": "2e2d0923-8826-463b-9629-2abe6f4ddbbb",
        "colab": {
          "base_uri": "https://localhost:8080/"
        }
      },
      "execution_count": null,
      "outputs": [
        {
          "output_type": "stream",
          "name": "stdout",
          "text": [
            "Confusion Matrix:\n",
            "\n",
            " [[145  12]\n",
            " [ 60  45]]\n",
            "\n",
            "Classification Report:\n",
            "\n",
            "               precision    recall  f1-score   support\n",
            "\n",
            "         0.0       0.71      0.92      0.80       157\n",
            "         1.0       0.79      0.43      0.56       105\n",
            "\n",
            "    accuracy                           0.73       262\n",
            "   macro avg       0.75      0.68      0.68       262\n",
            "weighted avg       0.74      0.73      0.70       262\n",
            "\n"
          ]
        }
      ]
    },
    {
      "cell_type": "markdown",
      "source": [
        "## **Part 6.5 - Tree Regression Model**"
      ],
      "metadata": {
        "id": "BHqTLhLr6W1y"
      }
    },
    {
      "cell_type": "code",
      "source": [
        "from sklearn.tree import DecisionTreeRegressor\n",
        "\n",
        "decision_tree = DecisionTreeRegressor(max_depth=3)\n",
        "decision_tree.fit(features, target)\n",
        "\n",
        "predictors = features.columns\n",
        "\n",
        "coef = pd.Series(decision_tree.feature_importances_, predictors).sort_values()\n",
        "print(coef)"
      ],
      "metadata": {
        "colab": {
          "base_uri": "https://localhost:8080/"
        },
        "id": "3k0lWaeM5Cpj",
        "outputId": "2f0fc96a-aa90-4c4f-c503-9febc8ca8d28"
      },
      "execution_count": null,
      "outputs": [
        {
          "output_type": "stream",
          "name": "stdout",
          "text": [
            "parch       0.000000\n",
            "embarked    0.000000\n",
            "sibsp       0.050975\n",
            "age         0.051256\n",
            "fare        0.052248\n",
            "pclass      0.209171\n",
            "sex         0.636351\n",
            "dtype: float64\n"
          ]
        }
      ]
    },
    {
      "cell_type": "code",
      "source": [
        "from sklearn.linear_model import LinearRegression\n",
        "from sklearn.model_selection import train_test_split\n",
        "from sklearn.metrics import r2_score\n",
        "\n",
        "x_train, x_test, y_train, y_test = train_test_split(features, target, test_size=.2)\n",
        "    \n",
        "model = LinearRegression().fit(x_train, y_train)\n",
        "y_pred = model.predict(x_test)\n",
        "    \n",
        "print(\"Test_score : \", r2_score(y_test, y_pred))"
      ],
      "metadata": {
        "colab": {
          "base_uri": "https://localhost:8080/"
        },
        "id": "4pQwcjg76fkx",
        "outputId": "60013271-56eb-4645-b28d-e275c7bf41c6"
      },
      "execution_count": null,
      "outputs": [
        {
          "output_type": "stream",
          "name": "stdout",
          "text": [
            "Test_score :  0.31995340421279417\n"
          ]
        }
      ]
    },
    {
      "cell_type": "code",
      "source": [
        "print(\"Accuracy:\",metrics.accuracy_score(y_test, predicted))\n",
        "print(\"Roc:\", metrics.roc_auc_score(y_test, probs[:, 1]))"
      ],
      "metadata": {
        "colab": {
          "base_uri": "https://localhost:8080/"
        },
        "id": "1siZa11H7Nkd",
        "outputId": "f913c41b-4326-4825-81c3-82e7df80237e"
      },
      "execution_count": null,
      "outputs": [
        {
          "output_type": "stream",
          "name": "stdout",
          "text": [
            "Accuracy: 0.5801526717557252\n",
            "Roc: 0.518541295123301\n"
          ]
        }
      ]
    },
    {
      "cell_type": "code",
      "source": [
        "print(\"Confusion Matrix:\\n\\n\", metrics.confusion_matrix(y_test, predicted))\n",
        "print(\"\\nClassification Report:\\n\\n\",metrics.classification_report(y_test, predicted))"
      ],
      "metadata": {
        "colab": {
          "base_uri": "https://localhost:8080/"
        },
        "id": "zRJCn-yY7UVX",
        "outputId": "75683972-b94d-49fc-c404-f90dfc7e57f8"
      },
      "execution_count": null,
      "outputs": [
        {
          "output_type": "stream",
          "name": "stdout",
          "text": [
            "Confusion Matrix:\n",
            "\n",
            " [[128  33]\n",
            " [ 77  24]]\n",
            "\n",
            "Classification Report:\n",
            "\n",
            "               precision    recall  f1-score   support\n",
            "\n",
            "         0.0       0.62      0.80      0.70       161\n",
            "         1.0       0.42      0.24      0.30       101\n",
            "\n",
            "    accuracy                           0.58       262\n",
            "   macro avg       0.52      0.52      0.50       262\n",
            "weighted avg       0.55      0.58      0.55       262\n",
            "\n"
          ]
        }
      ]
    },
    {
      "cell_type": "markdown",
      "source": [
        "## **Part 7 - Conclusion and findings**"
      ],
      "metadata": {
        "id": "WQV3NR2BahBB"
      }
    },
    {
      "cell_type": "markdown",
      "source": [
        "Model Score: 0.7128637059724349\n",
        "\n",
        "Accuracy: 0.8015267175572519\n",
        "\n",
        "Roc: 0.8427054898392479\n",
        "\n",
        "Precision 0.0: 0.82\n",
        "\n",
        "Precision 1.0: 0.77\n",
        "\n",
        "Recall 0.0: 0.85\n",
        "\n",
        "Recall 1.0: 0.72\n",
        "\n",
        "F1-Score 0.0: 0.84\n",
        "\n",
        "F1-Score 1.0: .75\n",
        "\n",
        "\n",
        "\n",
        "After creating multiple models from various methods of feature selection, there is one model that performs nearly as well as the model made from the original data. This is model3, the model created from attributes selected with the Chi Square test. Model3 has a slightly lower model score and ROC than model1, however, model3 outperforms the other models when it comes to accuracy, precision, recall and F1-score.\n",
        "\n",
        "The attributes that were selected by the ChiSquare test were fare, sex, pclass, age, and embarked. Some of these choices were unexpected. Let's start with the obvious. It comes as no surprise that fare was one of the selected attributes that influenced survival. The passengers who paid more for their tickets likely were housed in cabins near routes of egress. pclass serves as another indicator of this. We did not expect both of these attributes to show up in the best performing model since one would expect a decent amount of colinearity between these 2 attributes. Instead we see the opposite. The pclass and fare attributes have a correlation rating of -.56 which would indicate that they operate independently and contribute unique data to the model.\n",
        "\n",
        "We did not expect to see the embarked attribute in the best performing model. One would think the place from which you've boarded the ship did not matter but apparently it does. This might just be something that happened randomly. It is also possible that a large number of the passengers who boarded the ship at Southampton are the same passengers who bought 1st class tickets which allowed them to escape the ship more easily.\n",
        "\n",
        "The last 2 attributes in this model are age and sex. The fact they've been included in this model could be attributed to biases in who received aid and preferential treatment while escaping the sinking ship. It isn't too hard to imagine that the passengers who were young or elderly received extra aid in escaping the ship. Similarly, it is likely the female passengers were the recipients of additional aid since men are expected to be chivalrous in emergency situations such as this. Some men had probably had to stay on the sinking ship due to a lack of life boats. These reasons could be the factors that led to sex and age being selected features for this model.\n",
        "\n",
        "Two attributes that unexpectedly did not make it into the model were parch and sibsp. parch is a count of how many parents and children a passenger has aboard the ship. sibsp is a count of how many siblings and spouses a passenger had aboard the ship. We fully expected these two attributes to show up in the final model because simple logic would dictate that passengers with family members aboard the ship would have a better chance at survival since they will likely help each other escape. This is not what we see. In fact, both of these attributes have a very low correlation with the survived attribute so it shouldn't be too much of a surprise that they did not make it into the best performing model.\n",
        "\n",
        "In summation, the Chi Square test selected the features that created the best performing model.\n",
        "\n"
      ],
      "metadata": {
        "id": "SA9gRciP_My6"
      }
    },
    {
      "cell_type": "markdown",
      "source": [
        "### **References**\n",
        "https://www.history.com/topics/early-20th-century-us/titanic#:~:text=The%20RMS%20Titanic%2C%20a%20luxury,their%20lives%20in%20the%20disaster\n",
        "\n",
        "https://github.com/awesomedata/awesome-public-datasets/issues/351"
      ],
      "metadata": {
        "id": "Yi7QC0QUehYD"
      }
    }
  ]
}